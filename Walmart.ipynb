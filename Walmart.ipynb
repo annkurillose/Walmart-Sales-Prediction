{
 "cells": [
  {
   "cell_type": "markdown",
   "metadata": {},
   "source": [
    "### Importing Libraries"
   ]
  },
  {
   "cell_type": "code",
   "execution_count": 1,
   "metadata": {},
   "outputs": [],
   "source": [
    "import numpy as np\n",
    "import pandas as pd \n",
    "import matplotlib.pyplot as plt\n",
    "import seaborn as sns"
   ]
  },
  {
   "cell_type": "markdown",
   "metadata": {},
   "source": [
    "There are 4 datasets :\n",
    "    \n",
    "1. Train Data (Sales and the Year/Month)\n",
    "2. Weather Data Set\n",
    "3. Events and Holidays Dataset\n",
    "4. Macro Economic Dataset\n",
    "\n",
    "\n",
    "We will explore each dataset one by one."
   ]
  },
  {
   "cell_type": "markdown",
   "metadata": {},
   "source": [
    "##### 1. Train Data (Sales and the Year/Month)"
   ]
  },
  {
   "cell_type": "code",
   "execution_count": 2,
   "metadata": {},
   "outputs": [],
   "source": [
    "train=pd.read_csv('train.csv')"
   ]
  },
  {
   "cell_type": "code",
   "execution_count": 3,
   "metadata": {},
   "outputs": [
    {
     "data": {
      "text/plain": [
       "(180, 4)"
      ]
     },
     "execution_count": 3,
     "metadata": {},
     "output_type": "execute_result"
    }
   ],
   "source": [
    "train.shape"
   ]
  },
  {
   "cell_type": "code",
   "execution_count": 4,
   "metadata": {
    "scrolled": false
   },
   "outputs": [
    {
     "data": {
      "text/html": [
       "<div>\n",
       "<style scoped>\n",
       "    .dataframe tbody tr th:only-of-type {\n",
       "        vertical-align: middle;\n",
       "    }\n",
       "\n",
       "    .dataframe tbody tr th {\n",
       "        vertical-align: top;\n",
       "    }\n",
       "\n",
       "    .dataframe thead th {\n",
       "        text-align: right;\n",
       "    }\n",
       "</style>\n",
       "<table border=\"1\" class=\"dataframe\">\n",
       "  <thead>\n",
       "    <tr style=\"text-align: right;\">\n",
       "      <th></th>\n",
       "      <th>Year</th>\n",
       "      <th>Month</th>\n",
       "      <th>ProductCategory</th>\n",
       "      <th>Sales(In ThousandDollars)</th>\n",
       "    </tr>\n",
       "  </thead>\n",
       "  <tbody>\n",
       "    <tr>\n",
       "      <td>0</td>\n",
       "      <td>2009</td>\n",
       "      <td>1</td>\n",
       "      <td>WomenClothing</td>\n",
       "      <td>1755.0</td>\n",
       "    </tr>\n",
       "    <tr>\n",
       "      <td>1</td>\n",
       "      <td>2009</td>\n",
       "      <td>1</td>\n",
       "      <td>MenClothing</td>\n",
       "      <td>524.0</td>\n",
       "    </tr>\n",
       "    <tr>\n",
       "      <td>2</td>\n",
       "      <td>2009</td>\n",
       "      <td>1</td>\n",
       "      <td>OtherClothing</td>\n",
       "      <td>936.0</td>\n",
       "    </tr>\n",
       "    <tr>\n",
       "      <td>3</td>\n",
       "      <td>2009</td>\n",
       "      <td>2</td>\n",
       "      <td>WomenClothing</td>\n",
       "      <td>1729.0</td>\n",
       "    </tr>\n",
       "    <tr>\n",
       "      <td>4</td>\n",
       "      <td>2009</td>\n",
       "      <td>2</td>\n",
       "      <td>MenClothing</td>\n",
       "      <td>496.0</td>\n",
       "    </tr>\n",
       "  </tbody>\n",
       "</table>\n",
       "</div>"
      ],
      "text/plain": [
       "   Year  Month ProductCategory  Sales(In ThousandDollars)\n",
       "0  2009      1   WomenClothing                     1755.0\n",
       "1  2009      1     MenClothing                      524.0\n",
       "2  2009      1   OtherClothing                      936.0\n",
       "3  2009      2   WomenClothing                     1729.0\n",
       "4  2009      2     MenClothing                      496.0"
      ]
     },
     "execution_count": 4,
     "metadata": {},
     "output_type": "execute_result"
    }
   ],
   "source": [
    "train.head()"
   ]
  },
  {
   "cell_type": "code",
   "execution_count": 5,
   "metadata": {
    "scrolled": true
   },
   "outputs": [
    {
     "data": {
      "text/plain": [
       "Year                           5\n",
       "Month                         12\n",
       "ProductCategory                3\n",
       "Sales(In ThousandDollars)    162\n",
       "dtype: int64"
      ]
     },
     "execution_count": 5,
     "metadata": {},
     "output_type": "execute_result"
    }
   ],
   "source": [
    "train.nunique()"
   ]
  },
  {
   "cell_type": "code",
   "execution_count": 6,
   "metadata": {
    "scrolled": true
   },
   "outputs": [
    {
     "name": "stdout",
     "output_type": "stream",
     "text": [
      "Year [2009 2010 2011 2012 2013]\n",
      "Month [ 1  2  3  4  5  6  7  8  9 10 11 12]\n",
      "ProductCategory ['WomenClothing' 'MenClothing' 'OtherClothing']\n"
     ]
    }
   ],
   "source": [
    "for i in train.drop('Sales(In ThousandDollars)',axis=1).columns:\n",
    "    print(i,train[i].unique())"
   ]
  },
  {
   "cell_type": "code",
   "execution_count": 7,
   "metadata": {
    "scrolled": true
   },
   "outputs": [
    {
     "data": {
      "text/html": [
       "<div>\n",
       "<style scoped>\n",
       "    .dataframe tbody tr th:only-of-type {\n",
       "        vertical-align: middle;\n",
       "    }\n",
       "\n",
       "    .dataframe tbody tr th {\n",
       "        vertical-align: top;\n",
       "    }\n",
       "\n",
       "    .dataframe thead th {\n",
       "        text-align: right;\n",
       "    }\n",
       "</style>\n",
       "<table border=\"1\" class=\"dataframe\">\n",
       "  <thead>\n",
       "    <tr style=\"text-align: right;\">\n",
       "      <th></th>\n",
       "      <th></th>\n",
       "      <th></th>\n",
       "      <th>Sales(In ThousandDollars)</th>\n",
       "    </tr>\n",
       "    <tr>\n",
       "      <th>Year</th>\n",
       "      <th>Month</th>\n",
       "      <th>ProductCategory</th>\n",
       "      <th></th>\n",
       "    </tr>\n",
       "  </thead>\n",
       "  <tbody>\n",
       "    <tr>\n",
       "      <td rowspan=\"36\" valign=\"top\">2009</td>\n",
       "      <td rowspan=\"3\" valign=\"top\">1</td>\n",
       "      <td>MenClothing</td>\n",
       "      <td>524.0</td>\n",
       "    </tr>\n",
       "    <tr>\n",
       "      <td>OtherClothing</td>\n",
       "      <td>936.0</td>\n",
       "    </tr>\n",
       "    <tr>\n",
       "      <td>WomenClothing</td>\n",
       "      <td>1755.0</td>\n",
       "    </tr>\n",
       "    <tr>\n",
       "      <td rowspan=\"3\" valign=\"top\">2</td>\n",
       "      <td>MenClothing</td>\n",
       "      <td>496.0</td>\n",
       "    </tr>\n",
       "    <tr>\n",
       "      <td>OtherClothing</td>\n",
       "      <td>859.0</td>\n",
       "    </tr>\n",
       "    <tr>\n",
       "      <td>WomenClothing</td>\n",
       "      <td>1729.0</td>\n",
       "    </tr>\n",
       "    <tr>\n",
       "      <td rowspan=\"3\" valign=\"top\">3</td>\n",
       "      <td>MenClothing</td>\n",
       "      <td>542.0</td>\n",
       "    </tr>\n",
       "    <tr>\n",
       "      <td>OtherClothing</td>\n",
       "      <td>921.0</td>\n",
       "    </tr>\n",
       "    <tr>\n",
       "      <td>WomenClothing</td>\n",
       "      <td>2256.0</td>\n",
       "    </tr>\n",
       "    <tr>\n",
       "      <td rowspan=\"3\" valign=\"top\">4</td>\n",
       "      <td>MenClothing</td>\n",
       "      <td>669.0</td>\n",
       "    </tr>\n",
       "    <tr>\n",
       "      <td>OtherClothing</td>\n",
       "      <td>914.0</td>\n",
       "    </tr>\n",
       "    <tr>\n",
       "      <td>WomenClothing</td>\n",
       "      <td>2662.0</td>\n",
       "    </tr>\n",
       "    <tr>\n",
       "      <td rowspan=\"3\" valign=\"top\">5</td>\n",
       "      <td>MenClothing</td>\n",
       "      <td>650.0</td>\n",
       "    </tr>\n",
       "    <tr>\n",
       "      <td>OtherClothing</td>\n",
       "      <td>989.0</td>\n",
       "    </tr>\n",
       "    <tr>\n",
       "      <td>WomenClothing</td>\n",
       "      <td>2732.0</td>\n",
       "    </tr>\n",
       "    <tr>\n",
       "      <td rowspan=\"3\" valign=\"top\">6</td>\n",
       "      <td>MenClothing</td>\n",
       "      <td>607.0</td>\n",
       "    </tr>\n",
       "    <tr>\n",
       "      <td>OtherClothing</td>\n",
       "      <td>932.0</td>\n",
       "    </tr>\n",
       "    <tr>\n",
       "      <td>WomenClothing</td>\n",
       "      <td>2220.0</td>\n",
       "    </tr>\n",
       "    <tr>\n",
       "      <td rowspan=\"3\" valign=\"top\">7</td>\n",
       "      <td>MenClothing</td>\n",
       "      <td>575.0</td>\n",
       "    </tr>\n",
       "    <tr>\n",
       "      <td>OtherClothing</td>\n",
       "      <td>901.0</td>\n",
       "    </tr>\n",
       "    <tr>\n",
       "      <td>WomenClothing</td>\n",
       "      <td>2164.0</td>\n",
       "    </tr>\n",
       "    <tr>\n",
       "      <td rowspan=\"3\" valign=\"top\">8</td>\n",
       "      <td>MenClothing</td>\n",
       "      <td>551.0</td>\n",
       "    </tr>\n",
       "    <tr>\n",
       "      <td>OtherClothing</td>\n",
       "      <td>865.0</td>\n",
       "    </tr>\n",
       "    <tr>\n",
       "      <td>WomenClothing</td>\n",
       "      <td>2371.0</td>\n",
       "    </tr>\n",
       "    <tr>\n",
       "      <td rowspan=\"3\" valign=\"top\">9</td>\n",
       "      <td>MenClothing</td>\n",
       "      <td>579.0</td>\n",
       "    </tr>\n",
       "    <tr>\n",
       "      <td>OtherClothing</td>\n",
       "      <td>819.0</td>\n",
       "    </tr>\n",
       "    <tr>\n",
       "      <td>WomenClothing</td>\n",
       "      <td>2421.0</td>\n",
       "    </tr>\n",
       "    <tr>\n",
       "      <td rowspan=\"3\" valign=\"top\">10</td>\n",
       "      <td>MenClothing</td>\n",
       "      <td>610.0</td>\n",
       "    </tr>\n",
       "    <tr>\n",
       "      <td>OtherClothing</td>\n",
       "      <td>914.0</td>\n",
       "    </tr>\n",
       "    <tr>\n",
       "      <td>WomenClothing</td>\n",
       "      <td>2579.0</td>\n",
       "    </tr>\n",
       "    <tr>\n",
       "      <td rowspan=\"3\" valign=\"top\">11</td>\n",
       "      <td>MenClothing</td>\n",
       "      <td>620.0</td>\n",
       "    </tr>\n",
       "    <tr>\n",
       "      <td>OtherClothing</td>\n",
       "      <td>955.0</td>\n",
       "    </tr>\n",
       "    <tr>\n",
       "      <td>WomenClothing</td>\n",
       "      <td>2521.0</td>\n",
       "    </tr>\n",
       "    <tr>\n",
       "      <td rowspan=\"3\" valign=\"top\">12</td>\n",
       "      <td>MenClothing</td>\n",
       "      <td>930.0</td>\n",
       "    </tr>\n",
       "    <tr>\n",
       "      <td>OtherClothing</td>\n",
       "      <td>1351.0</td>\n",
       "    </tr>\n",
       "    <tr>\n",
       "      <td>WomenClothing</td>\n",
       "      <td>3390.0</td>\n",
       "    </tr>\n",
       "  </tbody>\n",
       "</table>\n",
       "</div>"
      ],
      "text/plain": [
       "                            Sales(In ThousandDollars)\n",
       "Year Month ProductCategory                           \n",
       "2009 1     MenClothing                          524.0\n",
       "           OtherClothing                        936.0\n",
       "           WomenClothing                       1755.0\n",
       "     2     MenClothing                          496.0\n",
       "           OtherClothing                        859.0\n",
       "           WomenClothing                       1729.0\n",
       "     3     MenClothing                          542.0\n",
       "           OtherClothing                        921.0\n",
       "           WomenClothing                       2256.0\n",
       "     4     MenClothing                          669.0\n",
       "           OtherClothing                        914.0\n",
       "           WomenClothing                       2662.0\n",
       "     5     MenClothing                          650.0\n",
       "           OtherClothing                        989.0\n",
       "           WomenClothing                       2732.0\n",
       "     6     MenClothing                          607.0\n",
       "           OtherClothing                        932.0\n",
       "           WomenClothing                       2220.0\n",
       "     7     MenClothing                          575.0\n",
       "           OtherClothing                        901.0\n",
       "           WomenClothing                       2164.0\n",
       "     8     MenClothing                          551.0\n",
       "           OtherClothing                        865.0\n",
       "           WomenClothing                       2371.0\n",
       "     9     MenClothing                          579.0\n",
       "           OtherClothing                        819.0\n",
       "           WomenClothing                       2421.0\n",
       "     10    MenClothing                          610.0\n",
       "           OtherClothing                        914.0\n",
       "           WomenClothing                       2579.0\n",
       "     11    MenClothing                          620.0\n",
       "           OtherClothing                        955.0\n",
       "           WomenClothing                       2521.0\n",
       "     12    MenClothing                          930.0\n",
       "           OtherClothing                       1351.0\n",
       "           WomenClothing                       3390.0"
      ]
     },
     "execution_count": 7,
     "metadata": {},
     "output_type": "execute_result"
    }
   ],
   "source": [
    "train.groupby(['Year','Month','ProductCategory']).mean().iloc[0:36,:]"
   ]
  },
  {
   "cell_type": "code",
   "execution_count": 41,
   "metadata": {
    "scrolled": true
   },
   "outputs": [
    {
     "data": {
      "image/png": "[encoded data removed]",
      "text/plain": [
       "<Figure size 720x360 with 1 Axes>"
      ]
     },
     "metadata": {
      "needs_background": "light"
     },
     "output_type": "display_data"
    }
   ],
   "source": [
    "plt.figure(figsize=(10,5))\n",
    "sns.lineplot(x='Month',y=\"Sales(In ThousandDollars)\",hue='ProductCategory',data=train)\n",
    "plt.show()"
   ]
  },
  {
   "cell_type": "markdown",
   "metadata": {},
   "source": [
    "* The data is of years from 2009 to 2013 for each month (January to December) with different catogeries namely Women Clothing, Men Clothing, Other Clothing.  \n",
    "* It gives every years monthly average sales for each category.\n",
    "* This graph clearly shows that the maximum sales happens in the category of womenclothing and minimum in menclothing."
   ]
  },
  {
   "cell_type": "code",
   "execution_count": 42,
   "metadata": {
    "scrolled": false
   },
   "outputs": [
    {
     "data": {
      "text/plain": [
       "Year                         0\n",
       "Month                        0\n",
       "ProductCategory              0\n",
       "Sales(In ThousandDollars)    0\n",
       "dtype: int64"
      ]
     },
     "execution_count": 42,
     "metadata": {},
     "output_type": "execute_result"
    }
   ],
   "source": [
    "# Checking for null values\n",
    "train.isnull().sum()"
   ]
  },
  {
   "cell_type": "code",
   "execution_count": 43,
   "metadata": {
    "scrolled": false
   },
   "outputs": [
    {
     "data": {
      "text/html": [
       "<div>\n",
       "<style scoped>\n",
       "    .dataframe tbody tr th:only-of-type {\n",
       "        vertical-align: middle;\n",
       "    }\n",
       "\n",
       "    .dataframe tbody tr th {\n",
       "        vertical-align: top;\n",
       "    }\n",
       "\n",
       "    .dataframe thead th {\n",
       "        text-align: right;\n",
       "    }\n",
       "</style>\n",
       "<table border=\"1\" class=\"dataframe\">\n",
       "  <thead>\n",
       "    <tr style=\"text-align: right;\">\n",
       "      <th></th>\n",
       "      <th>Year</th>\n",
       "      <th>Month</th>\n",
       "      <th>ProductCategory</th>\n",
       "      <th>Sales(In ThousandDollars)</th>\n",
       "    </tr>\n",
       "  </thead>\n",
       "  <tbody>\n",
       "  </tbody>\n",
       "</table>\n",
       "</div>"
      ],
      "text/plain": [
       "Empty DataFrame\n",
       "Columns: [Year, Month, ProductCategory, Sales(In ThousandDollars)]\n",
       "Index: []"
      ]
     },
     "execution_count": 43,
     "metadata": {},
     "output_type": "execute_result"
    }
   ],
   "source": [
    "# There are null values in Sales \n",
    "train[train['Sales(In ThousandDollars)'].isnull()]"
   ]
  },
  {
   "cell_type": "markdown",
   "metadata": {},
   "source": [
    "As we can see that there are 10 null values in sales, assuming that sales will be similar in each month for same category we fill the null values with the mean of each category. \n"
   ]
  },
  {
   "cell_type": "code",
   "execution_count": 44,
   "metadata": {},
   "outputs": [],
   "source": [
    "train['Sales(In ThousandDollars)']=train.groupby(['Month','ProductCategory'])['Sales(In ThousandDollars)'].transform(lambda x: x.fillna(x.mean()))"
   ]
  },
  {
   "cell_type": "markdown",
   "metadata": {},
   "source": [
    "### Visualizing the data "
   ]
  },
  {
   "cell_type": "code",
   "execution_count": 45,
   "metadata": {
    "scrolled": true
   },
   "outputs": [
    {
     "data": {
      "image/png": "[encoded data removed]",
      "text/plain": [
       "<Figure size 979.625x216 with 2 Axes>"
      ]
     },
     "metadata": {
      "needs_background": "light"
     },
     "output_type": "display_data"
    }
   ],
   "source": [
    "sns.pairplot(x_vars=['Year','Month'],y_vars='Sales(In ThousandDollars)',hue='ProductCategory',data=train,height=3,aspect=2)\n",
    "plt.show()"
   ]
  },
  {
   "cell_type": "code",
   "execution_count": 46,
   "metadata": {},
   "outputs": [],
   "source": [
    "# Converting the data into numerical\n",
    "train=pd.get_dummies(train,drop_first=True)"
   ]
  },
  {
   "cell_type": "markdown",
   "metadata": {},
   "source": [
    "### 2. Weather Data Set"
   ]
  },
  {
   "cell_type": "code",
   "execution_count": 47,
   "metadata": {
    "scrolled": false
   },
   "outputs": [
    {
     "data": {
      "text/html": [
       "<div>\n",
       "<style scoped>\n",
       "    .dataframe tbody tr th:only-of-type {\n",
       "        vertical-align: middle;\n",
       "    }\n",
       "\n",
       "    .dataframe tbody tr th {\n",
       "        vertical-align: top;\n",
       "    }\n",
       "\n",
       "    .dataframe thead th {\n",
       "        text-align: right;\n",
       "    }\n",
       "</style>\n",
       "<table border=\"1\" class=\"dataframe\">\n",
       "  <thead>\n",
       "    <tr style=\"text-align: right;\">\n",
       "      <th></th>\n",
       "      <th>Year</th>\n",
       "      <th>Month</th>\n",
       "      <th>Day</th>\n",
       "      <th>Temp high (°C)</th>\n",
       "      <th>Temp avg (°C)</th>\n",
       "      <th>Temp low (°C)</th>\n",
       "      <th>Dew Point high (°C)</th>\n",
       "      <th>Dew Point avg (°C)</th>\n",
       "      <th>Dew Point low (°C)</th>\n",
       "      <th>Humidity (%) high</th>\n",
       "      <th>...</th>\n",
       "      <th>Sea Level Press. (hPa) avg</th>\n",
       "      <th>Sea Level Press. (hPa) low</th>\n",
       "      <th>Visibility (km) high</th>\n",
       "      <th>Visibility (km) avg</th>\n",
       "      <th>Visibility (km) low</th>\n",
       "      <th>Wind (km/h) low</th>\n",
       "      <th>Wind (km/h) avg</th>\n",
       "      <th>Wind (km/h) high</th>\n",
       "      <th>Precip. (mm) sum</th>\n",
       "      <th>WeatherEvent</th>\n",
       "    </tr>\n",
       "  </thead>\n",
       "  <tbody>\n",
       "    <tr>\n",
       "      <td>0</td>\n",
       "      <td>2009</td>\n",
       "      <td>Jan</td>\n",
       "      <td>1</td>\n",
       "      <td>-3</td>\n",
       "      <td>-6</td>\n",
       "      <td>-9</td>\n",
       "      <td>-16</td>\n",
       "      <td>-17</td>\n",
       "      <td>-19</td>\n",
       "      <td>54</td>\n",
       "      <td>...</td>\n",
       "      <td>1023</td>\n",
       "      <td>1015</td>\n",
       "      <td>16</td>\n",
       "      <td>16</td>\n",
       "      <td>16</td>\n",
       "      <td>37</td>\n",
       "      <td>18</td>\n",
       "      <td>60</td>\n",
       "      <td>0</td>\n",
       "      <td>NaN</td>\n",
       "    </tr>\n",
       "    <tr>\n",
       "      <td>1</td>\n",
       "      <td>2009</td>\n",
       "      <td>Jan</td>\n",
       "      <td>2</td>\n",
       "      <td>1</td>\n",
       "      <td>-2</td>\n",
       "      <td>-5</td>\n",
       "      <td>-3</td>\n",
       "      <td>-7</td>\n",
       "      <td>-17</td>\n",
       "      <td>78</td>\n",
       "      <td>...</td>\n",
       "      <td>1012</td>\n",
       "      <td>1007</td>\n",
       "      <td>16</td>\n",
       "      <td>13</td>\n",
       "      <td>2</td>\n",
       "      <td>27</td>\n",
       "      <td>10</td>\n",
       "      <td>48</td>\n",
       "      <td>T</td>\n",
       "      <td>Snow</td>\n",
       "    </tr>\n",
       "    <tr>\n",
       "      <td>2</td>\n",
       "      <td>2009</td>\n",
       "      <td>Jan</td>\n",
       "      <td>3</td>\n",
       "      <td>3</td>\n",
       "      <td>1</td>\n",
       "      <td>-2</td>\n",
       "      <td>-5</td>\n",
       "      <td>-9</td>\n",
       "      <td>-13</td>\n",
       "      <td>72</td>\n",
       "      <td>...</td>\n",
       "      <td>1015</td>\n",
       "      <td>1008</td>\n",
       "      <td>16</td>\n",
       "      <td>16</td>\n",
       "      <td>16</td>\n",
       "      <td>27</td>\n",
       "      <td>16</td>\n",
       "      <td>42</td>\n",
       "      <td>T</td>\n",
       "      <td>NaN</td>\n",
       "    </tr>\n",
       "    <tr>\n",
       "      <td>3</td>\n",
       "      <td>2009</td>\n",
       "      <td>Jan</td>\n",
       "      <td>4</td>\n",
       "      <td>6</td>\n",
       "      <td>1</td>\n",
       "      <td>-4</td>\n",
       "      <td>-10</td>\n",
       "      <td>-12</td>\n",
       "      <td>-13</td>\n",
       "      <td>55</td>\n",
       "      <td>...</td>\n",
       "      <td>1017</td>\n",
       "      <td>1015</td>\n",
       "      <td>16</td>\n",
       "      <td>16</td>\n",
       "      <td>16</td>\n",
       "      <td>32</td>\n",
       "      <td>12</td>\n",
       "      <td>40</td>\n",
       "      <td>0</td>\n",
       "      <td>NaN</td>\n",
       "    </tr>\n",
       "    <tr>\n",
       "      <td>4</td>\n",
       "      <td>2009</td>\n",
       "      <td>Jan</td>\n",
       "      <td>5</td>\n",
       "      <td>6</td>\n",
       "      <td>5</td>\n",
       "      <td>3</td>\n",
       "      <td>-1</td>\n",
       "      <td>-5</td>\n",
       "      <td>-16</td>\n",
       "      <td>62</td>\n",
       "      <td>...</td>\n",
       "      <td>1014</td>\n",
       "      <td>1013</td>\n",
       "      <td>16</td>\n",
       "      <td>16</td>\n",
       "      <td>16</td>\n",
       "      <td>23</td>\n",
       "      <td>11</td>\n",
       "      <td>34</td>\n",
       "      <td>T</td>\n",
       "      <td>NaN</td>\n",
       "    </tr>\n",
       "  </tbody>\n",
       "</table>\n",
       "<p>5 rows × 23 columns</p>\n",
       "</div>"
      ],
      "text/plain": [
       "   Year Month  Day  Temp high (°C)  Temp avg (°C)  Temp low (°C)  \\\n",
       "0  2009   Jan    1              -3             -6             -9   \n",
       "1  2009   Jan    2               1             -2             -5   \n",
       "2  2009   Jan    3               3              1             -2   \n",
       "3  2009   Jan    4               6              1             -4   \n",
       "4  2009   Jan    5               6              5              3   \n",
       "\n",
       "   Dew Point high (°C)  Dew Point avg (°C)  Dew Point low (°C)  \\\n",
       "0                  -16                 -17                 -19   \n",
       "1                   -3                  -7                 -17   \n",
       "2                   -5                  -9                 -13   \n",
       "3                  -10                 -12                 -13   \n",
       "4                   -1                  -5                 -16   \n",
       "\n",
       "   Humidity (%) high  ...  Sea Level Press. (hPa) avg  \\\n",
       "0                 54  ...                        1023   \n",
       "1                 78  ...                        1012   \n",
       "2                 72  ...                        1015   \n",
       "3                 55  ...                        1017   \n",
       "4                 62  ...                        1014   \n",
       "\n",
       "   Sea Level Press. (hPa) low  Visibility (km) high  Visibility (km) avg  \\\n",
       "0                        1015                    16                   16   \n",
       "1                        1007                    16                   13   \n",
       "2                        1008                    16                   16   \n",
       "3                        1015                    16                   16   \n",
       "4                        1013                    16                   16   \n",
       "\n",
       "   Visibility (km) low  Wind (km/h) low  Wind (km/h) avg  Wind (km/h) high  \\\n",
       "0                   16               37               18                60   \n",
       "1                    2               27               10                48   \n",
       "2                   16               27               16                42   \n",
       "3                   16               32               12                40   \n",
       "4                   16               23               11                34   \n",
       "\n",
       "  Precip. (mm) sum WeatherEvent  \n",
       "0                0          NaN  \n",
       "1                T         Snow  \n",
       "2                T          NaN  \n",
       "3                0          NaN  \n",
       "4                T          NaN  \n",
       "\n",
       "[5 rows x 23 columns]"
      ]
     },
     "execution_count": 47,
     "metadata": {},
     "output_type": "execute_result"
    }
   ],
   "source": [
    "weather=pd.read_excel('WeatherData.xlsx')\n",
    "weather.head()"
   ]
  },
  {
   "cell_type": "code",
   "execution_count": 48,
   "metadata": {
    "scrolled": true
   },
   "outputs": [
    {
     "data": {
      "text/plain": [
       "(365, 23)"
      ]
     },
     "execution_count": 48,
     "metadata": {},
     "output_type": "execute_result"
    }
   ],
   "source": [
    "weather.shape"
   ]
  },
  {
   "cell_type": "code",
   "execution_count": 49,
   "metadata": {},
   "outputs": [
    {
     "name": "stdout",
     "output_type": "stream",
     "text": [
      "Year:  [2009]\n",
      "Month:  ['Jan' 'Feb' 'Mar' 'Apr' 'May' 'Jun' 'Jul' 'Aug' 'Sep' 'Oct' 'Nov' 'Dec']\n",
      "Day:  [ 1  2  3  4  5  6  7  8  9 10 11 12 13 14 15 16 17 18 19 20 21 22 23 24\n",
      " 25 26 27 28 29 30 31]\n"
     ]
    }
   ],
   "source": [
    "print('Year: ',weather.Year.unique())\n",
    "print('Month: ',weather.Month.unique())\n",
    "print('Day: ',weather.Day.unique())"
   ]
  },
  {
   "cell_type": "markdown",
   "metadata": {},
   "source": [
    "The data contains the information of weather of a single year 2009 where temperature, humidity, wind etc. is recorded for each day.  "
   ]
  },
  {
   "cell_type": "code",
   "execution_count": 50,
   "metadata": {},
   "outputs": [
    {
     "name": "stdout",
     "output_type": "stream",
     "text": [
      "<class 'pandas.core.frame.DataFrame'>\n",
      "RangeIndex: 365 entries, 0 to 364\n",
      "Data columns (total 23 columns):\n",
      "Year                           365 non-null int64\n",
      "Month                          365 non-null object\n",
      "Day                            365 non-null int64\n",
      "Temp high (°C)                 365 non-null int64\n",
      "Temp avg (°C)                  365 non-null int64\n",
      "Temp low (°C)                  365 non-null int64\n",
      "Dew Point high (°C)            365 non-null int64\n",
      "Dew Point avg (°C)             365 non-null int64\n",
      "Dew Point low (°C)             365 non-null int64\n",
      "Humidity (%) high              365 non-null int64\n",
      "Humidity (%) avg               365 non-null int64\n",
      "Humidity (%) low               365 non-null int64\n",
      "Sea Level Press. (hPa) high    365 non-null int64\n",
      "Sea Level Press. (hPa) avg     365 non-null int64\n",
      "Sea Level Press. (hPa) low     365 non-null int64\n",
      "Visibility (km) high           365 non-null int64\n",
      "Visibility (km) avg            365 non-null int64\n",
      "Visibility (km) low            365 non-null int64\n",
      "Wind (km/h) low                365 non-null object\n",
      "Wind (km/h) avg                365 non-null object\n",
      "Wind (km/h) high               365 non-null object\n",
      "Precip. (mm) sum               365 non-null object\n",
      "WeatherEvent                   140 non-null object\n",
      "dtypes: int64(17), object(6)\n",
      "memory usage: 65.7+ KB\n"
     ]
    }
   ],
   "source": [
    "weather.info()"
   ]
  },
  {
   "cell_type": "code",
   "execution_count": 51,
   "metadata": {
    "scrolled": true
   },
   "outputs": [],
   "source": [
    "new_col=['Year', 'Month', 'Day', 'Temp high (°C)', 'Temp avg (°C)',\n",
    "       'Temp low (°C)', 'Dew Point high (°C)', 'Dew Point avg (°C)',\n",
    "       'Dew Point low (°C)', 'Humidity (%) high', 'Humidity (%) avg',\n",
    "       'Humidity (%) low', 'Sea Level Press. (hPa) high',\n",
    "       'Sea Level Press. (hPa) avg', 'Sea Level Press. (hPa) low',\n",
    "       'Visibility (km) high', 'Visibility (km) avg', 'Visibility (km) low',\n",
    "       'Wind (km/h) low', 'Wind (km/h) avg', 'Wind (km/h) high',\n",
    "       'Precipitation', 'WeatherEvent']\n",
    "weather.columns=new_col"
   ]
  },
  {
   "cell_type": "code",
   "execution_count": 52,
   "metadata": {},
   "outputs": [],
   "source": [
    "# The wind and precipitation columns are numeric but considered as catogorical so we change it to numerical.\n",
    "\n",
    "weather['Wind (km/h) low']=pd.to_numeric(weather['Wind (km/h) low'], errors='coerce')  \n",
    "weather['Wind (km/h) avg']=pd.to_numeric(weather['Wind (km/h) avg'], errors='coerce')\n",
    "weather['Wind (km/h) high']=pd.to_numeric(weather['Wind (km/h) high'], errors='coerce')\n",
    "\n",
    "weather['Precipitation']=pd.to_numeric(weather['Precipitation'], errors='coerce')\n",
    "# coerce will convert non numeric values to null"
   ]
  },
  {
   "cell_type": "code",
   "execution_count": 53,
   "metadata": {},
   "outputs": [
    {
     "data": {
      "text/plain": [
       "Year                             0\n",
       "Month                            0\n",
       "Day                              0\n",
       "Temp high (°C)                   0\n",
       "Temp avg (°C)                    0\n",
       "Temp low (°C)                    0\n",
       "Dew Point high (°C)              0\n",
       "Dew Point avg (°C)               0\n",
       "Dew Point low (°C)               0\n",
       "Humidity (%) high                0\n",
       "Humidity (%) avg                 0\n",
       "Humidity (%) low                 0\n",
       "Sea Level Press. (hPa) high      0\n",
       "Sea Level Press. (hPa) avg       0\n",
       "Sea Level Press. (hPa) low       0\n",
       "Visibility (km) high             0\n",
       "Visibility (km) avg              0\n",
       "Visibility (km) low              0\n",
       "Wind (km/h) low                  3\n",
       "Wind (km/h) avg                  3\n",
       "Wind (km/h) high                 4\n",
       "Precipitation                   26\n",
       "WeatherEvent                   225\n",
       "dtype: int64"
      ]
     },
     "execution_count": 53,
     "metadata": {},
     "output_type": "execute_result"
    }
   ],
   "source": [
    "weather.isnull().sum()"
   ]
  },
  {
   "cell_type": "code",
   "execution_count": 54,
   "metadata": {},
   "outputs": [],
   "source": [
    "# Filling null values of wind and precipitation columns with their mean values\n",
    "weather['Wind (km/h) low']=weather['Wind (km/h) low'].fillna(weather['Wind (km/h) low'].mean())\n",
    "weather['Wind (km/h) avg']=weather['Wind (km/h) avg'].fillna(weather['Wind (km/h) avg'].mean())\n",
    "weather['Wind (km/h) high']=weather['Wind (km/h) high'].fillna(weather['Wind (km/h) high'].mean())\n",
    "\n",
    "weather['Precipitation']=weather['Precipitation'].fillna(weather['Precipitation'].mean())\n"
   ]
  },
  {
   "cell_type": "code",
   "execution_count": 55,
   "metadata": {
    "scrolled": true
   },
   "outputs": [
    {
     "data": {
      "text/plain": [
       "Year                            0.000000\n",
       "Month                           0.000000\n",
       "Day                             0.000000\n",
       "Temp high (°C)                  0.000000\n",
       "Temp avg (°C)                   0.000000\n",
       "Temp low (°C)                   0.000000\n",
       "Dew Point high (°C)             0.000000\n",
       "Dew Point avg (°C)              0.000000\n",
       "Dew Point low (°C)              0.000000\n",
       "Humidity (%) high               0.000000\n",
       "Humidity (%) avg                0.000000\n",
       "Humidity (%) low                0.000000\n",
       "Sea Level Press. (hPa) high     0.000000\n",
       "Sea Level Press. (hPa) avg      0.000000\n",
       "Sea Level Press. (hPa) low      0.000000\n",
       "Visibility (km) high            0.000000\n",
       "Visibility (km) avg             0.000000\n",
       "Visibility (km) low             0.000000\n",
       "Wind (km/h) low                 0.000000\n",
       "Wind (km/h) avg                 0.000000\n",
       "Wind (km/h) high                0.000000\n",
       "Precipitation                   0.000000\n",
       "WeatherEvent                   61.643836\n",
       "dtype: float64"
      ]
     },
     "execution_count": 55,
     "metadata": {},
     "output_type": "execute_result"
    }
   ],
   "source": [
    "weather.isnull().sum()*100/weather.shape[0]"
   ]
  },
  {
   "cell_type": "code",
   "execution_count": 56,
   "metadata": {},
   "outputs": [],
   "source": [
    "# Since weather event have 61.64% of null values, we will remove that column\n",
    "weather=weather.drop('WeatherEvent',axis=1)"
   ]
  },
  {
   "cell_type": "code",
   "execution_count": 57,
   "metadata": {
    "scrolled": true
   },
   "outputs": [
    {
     "data": {
      "text/html": [
       "<div>\n",
       "<style scoped>\n",
       "    .dataframe tbody tr th:only-of-type {\n",
       "        vertical-align: middle;\n",
       "    }\n",
       "\n",
       "    .dataframe tbody tr th {\n",
       "        vertical-align: top;\n",
       "    }\n",
       "\n",
       "    .dataframe thead th {\n",
       "        text-align: right;\n",
       "    }\n",
       "</style>\n",
       "<table border=\"1\" class=\"dataframe\">\n",
       "  <thead>\n",
       "    <tr style=\"text-align: right;\">\n",
       "      <th></th>\n",
       "      <th>Year</th>\n",
       "      <th>Month</th>\n",
       "      <th>Day</th>\n",
       "      <th>Temp high (°C)</th>\n",
       "      <th>Temp avg (°C)</th>\n",
       "      <th>Temp low (°C)</th>\n",
       "      <th>Dew Point high (°C)</th>\n",
       "      <th>Dew Point avg (°C)</th>\n",
       "      <th>Dew Point low (°C)</th>\n",
       "      <th>Humidity (%) high</th>\n",
       "      <th>...</th>\n",
       "      <th>Sea Level Press. (hPa) high</th>\n",
       "      <th>Sea Level Press. (hPa) avg</th>\n",
       "      <th>Sea Level Press. (hPa) low</th>\n",
       "      <th>Visibility (km) high</th>\n",
       "      <th>Visibility (km) avg</th>\n",
       "      <th>Visibility (km) low</th>\n",
       "      <th>Wind (km/h) low</th>\n",
       "      <th>Wind (km/h) avg</th>\n",
       "      <th>Wind (km/h) high</th>\n",
       "      <th>Precipitation</th>\n",
       "    </tr>\n",
       "  </thead>\n",
       "  <tbody>\n",
       "    <tr>\n",
       "      <td>0</td>\n",
       "      <td>2009</td>\n",
       "      <td>Jan</td>\n",
       "      <td>1</td>\n",
       "      <td>-3</td>\n",
       "      <td>-6</td>\n",
       "      <td>-9</td>\n",
       "      <td>-16</td>\n",
       "      <td>-17</td>\n",
       "      <td>-19</td>\n",
       "      <td>54</td>\n",
       "      <td>...</td>\n",
       "      <td>1025</td>\n",
       "      <td>1023</td>\n",
       "      <td>1015</td>\n",
       "      <td>16</td>\n",
       "      <td>16</td>\n",
       "      <td>16</td>\n",
       "      <td>37.0</td>\n",
       "      <td>18.0</td>\n",
       "      <td>60.0</td>\n",
       "      <td>0.000000</td>\n",
       "    </tr>\n",
       "    <tr>\n",
       "      <td>1</td>\n",
       "      <td>2009</td>\n",
       "      <td>Jan</td>\n",
       "      <td>2</td>\n",
       "      <td>1</td>\n",
       "      <td>-2</td>\n",
       "      <td>-5</td>\n",
       "      <td>-3</td>\n",
       "      <td>-7</td>\n",
       "      <td>-17</td>\n",
       "      <td>78</td>\n",
       "      <td>...</td>\n",
       "      <td>1022</td>\n",
       "      <td>1012</td>\n",
       "      <td>1007</td>\n",
       "      <td>16</td>\n",
       "      <td>13</td>\n",
       "      <td>2</td>\n",
       "      <td>27.0</td>\n",
       "      <td>10.0</td>\n",
       "      <td>48.0</td>\n",
       "      <td>4.013746</td>\n",
       "    </tr>\n",
       "    <tr>\n",
       "      <td>2</td>\n",
       "      <td>2009</td>\n",
       "      <td>Jan</td>\n",
       "      <td>3</td>\n",
       "      <td>3</td>\n",
       "      <td>1</td>\n",
       "      <td>-2</td>\n",
       "      <td>-5</td>\n",
       "      <td>-9</td>\n",
       "      <td>-13</td>\n",
       "      <td>72</td>\n",
       "      <td>...</td>\n",
       "      <td>1018</td>\n",
       "      <td>1015</td>\n",
       "      <td>1008</td>\n",
       "      <td>16</td>\n",
       "      <td>16</td>\n",
       "      <td>16</td>\n",
       "      <td>27.0</td>\n",
       "      <td>16.0</td>\n",
       "      <td>42.0</td>\n",
       "      <td>4.013746</td>\n",
       "    </tr>\n",
       "    <tr>\n",
       "      <td>3</td>\n",
       "      <td>2009</td>\n",
       "      <td>Jan</td>\n",
       "      <td>4</td>\n",
       "      <td>6</td>\n",
       "      <td>1</td>\n",
       "      <td>-4</td>\n",
       "      <td>-10</td>\n",
       "      <td>-12</td>\n",
       "      <td>-13</td>\n",
       "      <td>55</td>\n",
       "      <td>...</td>\n",
       "      <td>1020</td>\n",
       "      <td>1017</td>\n",
       "      <td>1015</td>\n",
       "      <td>16</td>\n",
       "      <td>16</td>\n",
       "      <td>16</td>\n",
       "      <td>32.0</td>\n",
       "      <td>12.0</td>\n",
       "      <td>40.0</td>\n",
       "      <td>0.000000</td>\n",
       "    </tr>\n",
       "    <tr>\n",
       "      <td>4</td>\n",
       "      <td>2009</td>\n",
       "      <td>Jan</td>\n",
       "      <td>5</td>\n",
       "      <td>6</td>\n",
       "      <td>5</td>\n",
       "      <td>3</td>\n",
       "      <td>-1</td>\n",
       "      <td>-5</td>\n",
       "      <td>-16</td>\n",
       "      <td>62</td>\n",
       "      <td>...</td>\n",
       "      <td>1016</td>\n",
       "      <td>1014</td>\n",
       "      <td>1013</td>\n",
       "      <td>16</td>\n",
       "      <td>16</td>\n",
       "      <td>16</td>\n",
       "      <td>23.0</td>\n",
       "      <td>11.0</td>\n",
       "      <td>34.0</td>\n",
       "      <td>4.013746</td>\n",
       "    </tr>\n",
       "  </tbody>\n",
       "</table>\n",
       "<p>5 rows × 22 columns</p>\n",
       "</div>"
      ],
      "text/plain": [
       "   Year Month  Day  Temp high (°C)  Temp avg (°C)  Temp low (°C)  \\\n",
       "0  2009   Jan    1              -3             -6             -9   \n",
       "1  2009   Jan    2               1             -2             -5   \n",
       "2  2009   Jan    3               3              1             -2   \n",
       "3  2009   Jan    4               6              1             -4   \n",
       "4  2009   Jan    5               6              5              3   \n",
       "\n",
       "   Dew Point high (°C)  Dew Point avg (°C)  Dew Point low (°C)  \\\n",
       "0                  -16                 -17                 -19   \n",
       "1                   -3                  -7                 -17   \n",
       "2                   -5                  -9                 -13   \n",
       "3                  -10                 -12                 -13   \n",
       "4                   -1                  -5                 -16   \n",
       "\n",
       "   Humidity (%) high  ...  Sea Level Press. (hPa) high  \\\n",
       "0                 54  ...                         1025   \n",
       "1                 78  ...                         1022   \n",
       "2                 72  ...                         1018   \n",
       "3                 55  ...                         1020   \n",
       "4                 62  ...                         1016   \n",
       "\n",
       "   Sea Level Press. (hPa) avg  Sea Level Press. (hPa) low  \\\n",
       "0                        1023                        1015   \n",
       "1                        1012                        1007   \n",
       "2                        1015                        1008   \n",
       "3                        1017                        1015   \n",
       "4                        1014                        1013   \n",
       "\n",
       "   Visibility (km) high  Visibility (km) avg  Visibility (km) low  \\\n",
       "0                    16                   16                   16   \n",
       "1                    16                   13                    2   \n",
       "2                    16                   16                   16   \n",
       "3                    16                   16                   16   \n",
       "4                    16                   16                   16   \n",
       "\n",
       "   Wind (km/h) low  Wind (km/h) avg  Wind (km/h) high  Precipitation  \n",
       "0             37.0             18.0              60.0       0.000000  \n",
       "1             27.0             10.0              48.0       4.013746  \n",
       "2             27.0             16.0              42.0       4.013746  \n",
       "3             32.0             12.0              40.0       0.000000  \n",
       "4             23.0             11.0              34.0       4.013746  \n",
       "\n",
       "[5 rows x 22 columns]"
      ]
     },
     "execution_count": 57,
     "metadata": {},
     "output_type": "execute_result"
    }
   ],
   "source": [
    "weather.head()"
   ]
  },
  {
   "cell_type": "code",
   "execution_count": 58,
   "metadata": {},
   "outputs": [],
   "source": [
    "# Month can be represented with numbers like Jan by 1 and so on..\n",
    "weather.Month=weather.Month.replace({'Jan':1, 'Feb':2, 'Mar':3, 'Apr':4, 'May':5, 'Jun':6, 'Jul':7, 'Aug':8, 'Sep':9,\n",
    "       'Oct':10, 'Nov':11, 'Dec':12})"
   ]
  },
  {
   "cell_type": "code",
   "execution_count": 59,
   "metadata": {},
   "outputs": [
    {
     "data": {
      "text/plain": [
       "Index(['Year', 'Month', 'Day', 'Temp high (°C)', 'Temp avg (°C)',\n",
       "       'Temp low (°C)', 'Dew Point high (°C)', 'Dew Point avg (°C)',\n",
       "       'Dew Point low (°C)', 'Humidity (%) high', 'Humidity (%) avg',\n",
       "       'Humidity (%) low', 'Sea Level Press. (hPa) high',\n",
       "       'Sea Level Press. (hPa) avg', 'Sea Level Press. (hPa) low',\n",
       "       'Visibility (km) high', 'Visibility (km) avg', 'Visibility (km) low',\n",
       "       'Wind (km/h) low', 'Wind (km/h) avg', 'Wind (km/h) high',\n",
       "       'Precipitation'],\n",
       "      dtype='object')"
      ]
     },
     "execution_count": 59,
     "metadata": {},
     "output_type": "execute_result"
    }
   ],
   "source": [
    "weather.columns"
   ]
  },
  {
   "cell_type": "markdown",
   "metadata": {},
   "source": [
    "We take the average of high, average and low of each column and form a new feature. We also drop the high, average and low of each feature."
   ]
  },
  {
   "cell_type": "code",
   "execution_count": 60,
   "metadata": {},
   "outputs": [],
   "source": [
    "# Temperature\n",
    "weather['Temp']=(weather['Temp high (°C)']+weather['Temp avg (°C)']+weather['Temp low (°C)'])/3\n",
    "weather=weather.drop(['Temp high (°C)','Temp avg (°C)','Temp low (°C)'],axis=1)"
   ]
  },
  {
   "cell_type": "code",
   "execution_count": 61,
   "metadata": {},
   "outputs": [],
   "source": [
    "# Dew\n",
    "weather['Dew']=(weather['Dew Point high (°C)']+weather['Dew Point avg (°C)']+weather['Dew Point low (°C)'])/3\n",
    "weather=weather.drop(['Dew Point high (°C)','Dew Point avg (°C)','Dew Point low (°C)'],axis=1)"
   ]
  },
  {
   "cell_type": "code",
   "execution_count": 62,
   "metadata": {},
   "outputs": [],
   "source": [
    "# Humidity\n",
    "weather['Humidity']=(weather['Humidity (%) high']+weather['Humidity (%) avg']+weather['Humidity (%) low'])/3\n",
    "weather=weather.drop(['Humidity (%) high','Humidity (%) avg','Humidity (%) low'],axis=1)"
   ]
  },
  {
   "cell_type": "code",
   "execution_count": 63,
   "metadata": {},
   "outputs": [],
   "source": [
    "# Sea Level\n",
    "weather['Sea Level']=(weather['Sea Level Press. (hPa) high']+weather['Sea Level Press. (hPa) avg']+weather['Sea Level Press. (hPa) low'])/3\n",
    "weather=weather.drop(['Sea Level Press. (hPa) high','Sea Level Press. (hPa) avg','Sea Level Press. (hPa) low'],axis=1)"
   ]
  },
  {
   "cell_type": "code",
   "execution_count": 64,
   "metadata": {},
   "outputs": [],
   "source": [
    "# Visibility\n",
    "weather['Visibility']=(weather['Visibility (km) high']+weather['Visibility (km) avg']+weather['Visibility (km) low'])/3\n",
    "weather=weather.drop(['Visibility (km) high','Visibility (km) avg','Visibility (km) low'],axis=1)"
   ]
  },
  {
   "cell_type": "code",
   "execution_count": 65,
   "metadata": {
    "scrolled": true
   },
   "outputs": [],
   "source": [
    "# Wind\n",
    "weather['Wind']=(weather['Wind (km/h) high']+weather['Wind (km/h) avg']+weather['Wind (km/h) low'])/3\n",
    "weather=weather.drop(['Wind (km/h) high','Wind (km/h) avg','Wind (km/h) low'],axis=1)\n"
   ]
  },
  {
   "cell_type": "code",
   "execution_count": 66,
   "metadata": {
    "scrolled": false
   },
   "outputs": [
    {
     "data": {
      "text/html": [
       "<div>\n",
       "<style scoped>\n",
       "    .dataframe tbody tr th:only-of-type {\n",
       "        vertical-align: middle;\n",
       "    }\n",
       "\n",
       "    .dataframe tbody tr th {\n",
       "        vertical-align: top;\n",
       "    }\n",
       "\n",
       "    .dataframe thead th {\n",
       "        text-align: right;\n",
       "    }\n",
       "</style>\n",
       "<table border=\"1\" class=\"dataframe\">\n",
       "  <thead>\n",
       "    <tr style=\"text-align: right;\">\n",
       "      <th></th>\n",
       "      <th>Year</th>\n",
       "      <th>Month</th>\n",
       "      <th>Day</th>\n",
       "      <th>Precipitation</th>\n",
       "      <th>Temp</th>\n",
       "      <th>Dew</th>\n",
       "      <th>Humidity</th>\n",
       "      <th>Sea Level</th>\n",
       "      <th>Visibility</th>\n",
       "      <th>Wind</th>\n",
       "    </tr>\n",
       "  </thead>\n",
       "  <tbody>\n",
       "    <tr>\n",
       "      <td>0</td>\n",
       "      <td>2009</td>\n",
       "      <td>1</td>\n",
       "      <td>1</td>\n",
       "      <td>0.000000</td>\n",
       "      <td>-6.000000</td>\n",
       "      <td>-17.333333</td>\n",
       "      <td>43.000000</td>\n",
       "      <td>1021.000000</td>\n",
       "      <td>16.000000</td>\n",
       "      <td>38.333333</td>\n",
       "    </tr>\n",
       "    <tr>\n",
       "      <td>1</td>\n",
       "      <td>2009</td>\n",
       "      <td>1</td>\n",
       "      <td>2</td>\n",
       "      <td>4.013746</td>\n",
       "      <td>-2.000000</td>\n",
       "      <td>-9.000000</td>\n",
       "      <td>57.000000</td>\n",
       "      <td>1013.666667</td>\n",
       "      <td>10.333333</td>\n",
       "      <td>28.333333</td>\n",
       "    </tr>\n",
       "    <tr>\n",
       "      <td>2</td>\n",
       "      <td>2009</td>\n",
       "      <td>1</td>\n",
       "      <td>3</td>\n",
       "      <td>4.013746</td>\n",
       "      <td>0.666667</td>\n",
       "      <td>-9.000000</td>\n",
       "      <td>53.666667</td>\n",
       "      <td>1013.666667</td>\n",
       "      <td>16.000000</td>\n",
       "      <td>28.333333</td>\n",
       "    </tr>\n",
       "    <tr>\n",
       "      <td>3</td>\n",
       "      <td>2009</td>\n",
       "      <td>1</td>\n",
       "      <td>4</td>\n",
       "      <td>0.000000</td>\n",
       "      <td>1.000000</td>\n",
       "      <td>-11.666667</td>\n",
       "      <td>42.000000</td>\n",
       "      <td>1017.333333</td>\n",
       "      <td>16.000000</td>\n",
       "      <td>28.000000</td>\n",
       "    </tr>\n",
       "    <tr>\n",
       "      <td>4</td>\n",
       "      <td>2009</td>\n",
       "      <td>1</td>\n",
       "      <td>5</td>\n",
       "      <td>4.013746</td>\n",
       "      <td>4.666667</td>\n",
       "      <td>-7.333333</td>\n",
       "      <td>47.666667</td>\n",
       "      <td>1014.333333</td>\n",
       "      <td>16.000000</td>\n",
       "      <td>22.666667</td>\n",
       "    </tr>\n",
       "  </tbody>\n",
       "</table>\n",
       "</div>"
      ],
      "text/plain": [
       "   Year  Month  Day  Precipitation      Temp        Dew   Humidity  \\\n",
       "0  2009      1    1       0.000000 -6.000000 -17.333333  43.000000   \n",
       "1  2009      1    2       4.013746 -2.000000  -9.000000  57.000000   \n",
       "2  2009      1    3       4.013746  0.666667  -9.000000  53.666667   \n",
       "3  2009      1    4       0.000000  1.000000 -11.666667  42.000000   \n",
       "4  2009      1    5       4.013746  4.666667  -7.333333  47.666667   \n",
       "\n",
       "     Sea Level  Visibility       Wind  \n",
       "0  1021.000000   16.000000  38.333333  \n",
       "1  1013.666667   10.333333  28.333333  \n",
       "2  1013.666667   16.000000  28.333333  \n",
       "3  1017.333333   16.000000  28.000000  \n",
       "4  1014.333333   16.000000  22.666667  "
      ]
     },
     "execution_count": 66,
     "metadata": {},
     "output_type": "execute_result"
    }
   ],
   "source": [
    "weather.head()"
   ]
  },
  {
   "cell_type": "code",
   "execution_count": 67,
   "metadata": {
    "scrolled": false
   },
   "outputs": [
    {
     "data": {
      "text/html": [
       "<div>\n",
       "<style scoped>\n",
       "    .dataframe tbody tr th:only-of-type {\n",
       "        vertical-align: middle;\n",
       "    }\n",
       "\n",
       "    .dataframe tbody tr th {\n",
       "        vertical-align: top;\n",
       "    }\n",
       "\n",
       "    .dataframe thead th {\n",
       "        text-align: right;\n",
       "    }\n",
       "</style>\n",
       "<table border=\"1\" class=\"dataframe\">\n",
       "  <thead>\n",
       "    <tr style=\"text-align: right;\">\n",
       "      <th></th>\n",
       "      <th>Year</th>\n",
       "      <th>Month</th>\n",
       "      <th>Day</th>\n",
       "      <th>Precipitation</th>\n",
       "      <th>Temp</th>\n",
       "      <th>Dew</th>\n",
       "      <th>Humidity</th>\n",
       "      <th>Sea Level</th>\n",
       "      <th>Visibility</th>\n",
       "      <th>Wind</th>\n",
       "    </tr>\n",
       "  </thead>\n",
       "  <tbody>\n",
       "    <tr>\n",
       "      <td>count</td>\n",
       "      <td>365.0</td>\n",
       "      <td>365.000000</td>\n",
       "      <td>365.000000</td>\n",
       "      <td>365.000000</td>\n",
       "      <td>365.000000</td>\n",
       "      <td>365.000000</td>\n",
       "      <td>365.000000</td>\n",
       "      <td>365.000000</td>\n",
       "      <td>365.000000</td>\n",
       "      <td>365.000000</td>\n",
       "    </tr>\n",
       "    <tr>\n",
       "      <td>mean</td>\n",
       "      <td>2009.0</td>\n",
       "      <td>6.526027</td>\n",
       "      <td>15.720548</td>\n",
       "      <td>4.013746</td>\n",
       "      <td>12.328767</td>\n",
       "      <td>5.193607</td>\n",
       "      <td>65.077626</td>\n",
       "      <td>1016.495890</td>\n",
       "      <td>13.463927</td>\n",
       "      <td>23.449108</td>\n",
       "    </tr>\n",
       "    <tr>\n",
       "      <td>std</td>\n",
       "      <td>0.0</td>\n",
       "      <td>3.452584</td>\n",
       "      <td>8.808321</td>\n",
       "      <td>8.511616</td>\n",
       "      <td>9.113799</td>\n",
       "      <td>10.451978</td>\n",
       "      <td>14.844855</td>\n",
       "      <td>7.423628</td>\n",
       "      <td>3.130601</td>\n",
       "      <td>6.843252</td>\n",
       "    </tr>\n",
       "    <tr>\n",
       "      <td>min</td>\n",
       "      <td>2009.0</td>\n",
       "      <td>1.000000</td>\n",
       "      <td>1.000000</td>\n",
       "      <td>0.000000</td>\n",
       "      <td>-11.000000</td>\n",
       "      <td>-19.333333</td>\n",
       "      <td>23.000000</td>\n",
       "      <td>994.666667</td>\n",
       "      <td>6.333333</td>\n",
       "      <td>9.000000</td>\n",
       "    </tr>\n",
       "    <tr>\n",
       "      <td>25%</td>\n",
       "      <td>2009.0</td>\n",
       "      <td>4.000000</td>\n",
       "      <td>8.000000</td>\n",
       "      <td>0.000000</td>\n",
       "      <td>6.000000</td>\n",
       "      <td>-2.666667</td>\n",
       "      <td>54.000000</td>\n",
       "      <td>1012.333333</td>\n",
       "      <td>10.666667</td>\n",
       "      <td>18.333333</td>\n",
       "    </tr>\n",
       "    <tr>\n",
       "      <td>50%</td>\n",
       "      <td>2009.0</td>\n",
       "      <td>7.000000</td>\n",
       "      <td>16.000000</td>\n",
       "      <td>0.000000</td>\n",
       "      <td>12.666667</td>\n",
       "      <td>6.333333</td>\n",
       "      <td>65.666667</td>\n",
       "      <td>1016.666667</td>\n",
       "      <td>15.333333</td>\n",
       "      <td>22.666667</td>\n",
       "    </tr>\n",
       "    <tr>\n",
       "      <td>75%</td>\n",
       "      <td>2009.0</td>\n",
       "      <td>10.000000</td>\n",
       "      <td>23.000000</td>\n",
       "      <td>4.013746</td>\n",
       "      <td>20.666667</td>\n",
       "      <td>14.000000</td>\n",
       "      <td>75.666667</td>\n",
       "      <td>1021.666667</td>\n",
       "      <td>16.000000</td>\n",
       "      <td>27.333333</td>\n",
       "    </tr>\n",
       "    <tr>\n",
       "      <td>max</td>\n",
       "      <td>2009.0</td>\n",
       "      <td>12.000000</td>\n",
       "      <td>31.000000</td>\n",
       "      <td>58.420000</td>\n",
       "      <td>28.666667</td>\n",
       "      <td>23.000000</td>\n",
       "      <td>96.666667</td>\n",
       "      <td>1032.333333</td>\n",
       "      <td>16.000000</td>\n",
       "      <td>49.000000</td>\n",
       "    </tr>\n",
       "  </tbody>\n",
       "</table>\n",
       "</div>"
      ],
      "text/plain": [
       "         Year       Month         Day  Precipitation        Temp         Dew  \\\n",
       "count   365.0  365.000000  365.000000     365.000000  365.000000  365.000000   \n",
       "mean   2009.0    6.526027   15.720548       4.013746   12.328767    5.193607   \n",
       "std       0.0    3.452584    8.808321       8.511616    9.113799   10.451978   \n",
       "min    2009.0    1.000000    1.000000       0.000000  -11.000000  -19.333333   \n",
       "25%    2009.0    4.000000    8.000000       0.000000    6.000000   -2.666667   \n",
       "50%    2009.0    7.000000   16.000000       0.000000   12.666667    6.333333   \n",
       "75%    2009.0   10.000000   23.000000       4.013746   20.666667   14.000000   \n",
       "max    2009.0   12.000000   31.000000      58.420000   28.666667   23.000000   \n",
       "\n",
       "         Humidity    Sea Level  Visibility        Wind  \n",
       "count  365.000000   365.000000  365.000000  365.000000  \n",
       "mean    65.077626  1016.495890   13.463927   23.449108  \n",
       "std     14.844855     7.423628    3.130601    6.843252  \n",
       "min     23.000000   994.666667    6.333333    9.000000  \n",
       "25%     54.000000  1012.333333   10.666667   18.333333  \n",
       "50%     65.666667  1016.666667   15.333333   22.666667  \n",
       "75%     75.666667  1021.666667   16.000000   27.333333  \n",
       "max     96.666667  1032.333333   16.000000   49.000000  "
      ]
     },
     "execution_count": 67,
     "metadata": {},
     "output_type": "execute_result"
    }
   ],
   "source": [
    "weather.describe()"
   ]
  },
  {
   "cell_type": "markdown",
   "metadata": {},
   "source": [
    "We will check the skewness of the data to see if the data is normally distributed or not. Skewness refers to distortion or asymmetry in a symmetrical bell curve, or normal distribution, in a set of data. If the curve is shifted to the left or to the right, it is said to be skewed. Skewness can be quantified as a representation of the extent to which a given distribution varies from a normal distribution.If skewness is between −0.5 and +0.5 the distribution is considered approximately symmetric."
   ]
  },
  {
   "cell_type": "code",
   "execution_count": 68,
   "metadata": {},
   "outputs": [
    {
     "data": {
      "text/plain": [
       "Precipitation    3.148326\n",
       "Visibility      -0.761885\n",
       "Wind             0.771447\n",
       "dtype: float64"
      ]
     },
     "execution_count": 68,
     "metadata": {},
     "output_type": "execute_result"
    }
   ],
   "source": [
    "# Checking for the columns whose skewness lies outside -0.5 and +0.5.\n",
    "weather.skew()[abs(weather.skew())>0.5]"
   ]
  },
  {
   "cell_type": "code",
   "execution_count": 69,
   "metadata": {
    "scrolled": false
   },
   "outputs": [
    {
     "data": {
      "image/png": "[encoded data removed]",
      "text/plain": [
       "<Figure size 432x288 with 1 Axes>"
      ]
     },
     "metadata": {
      "needs_background": "light"
     },
     "output_type": "display_data"
    },
    {
     "data": {
      "image/png": "[encoded data removed]",
      "text/plain": [
       "<Figure size 432x288 with 1 Axes>"
      ]
     },
     "metadata": {
      "needs_background": "light"
     },
     "output_type": "display_data"
    },
    {
     "data": {
      "image/png": "[encoded data removed]",
      "text/plain": [
       "<Figure size 432x288 with 1 Axes>"
      ]
     },
     "metadata": {
      "needs_background": "light"
     },
     "output_type": "display_data"
    }
   ],
   "source": [
    "# Distribution of highly skewed features.\n",
    "for i in ['Precipitation', 'Visibility','Wind']:\n",
    "    sns.distplot(weather[i])\n",
    "    plt.show()"
   ]
  },
  {
   "cell_type": "markdown",
   "metadata": {},
   "source": [
    "To remove/reduce the skewness we can do suitable transformations. Here we will be using boxcox transformation."
   ]
  },
  {
   "cell_type": "code",
   "execution_count": 70,
   "metadata": {},
   "outputs": [
    {
     "name": "stdout",
     "output_type": "stream",
     "text": [
      "Precipitation\n"
     ]
    }
   ],
   "source": [
    "# To use boxcox the data must be positive, so we check if the minimum values is less than 0 or not\n",
    "for i in ['Precipitation', 'Visibility','Wind']:\n",
    "    if weather[i].min()<=0:\n",
    "        print(i)\n",
    "    "
   ]
  },
  {
   "cell_type": "code",
   "execution_count": 71,
   "metadata": {},
   "outputs": [],
   "source": [
    "# Since 'Precipitation' have negative value we make the minimum value to 1\n",
    "weather['Precipitation']=(weather['Precipitation']-weather['Precipitation'].min()+1)"
   ]
  },
  {
   "cell_type": "code",
   "execution_count": 72,
   "metadata": {},
   "outputs": [],
   "source": [
    "# Now we apply boxcox to the skewed columns\n",
    "from scipy import stats \n",
    "from scipy.stats import boxcox\n",
    "lambdas={}\n",
    "for i in ['Precipitation', 'Visibility','Wind']:\n",
    "    weather[i],lambdas[i]=stats.boxcox(weather[i])\n",
    "    "
   ]
  },
  {
   "cell_type": "code",
   "execution_count": 73,
   "metadata": {
    "scrolled": true
   },
   "outputs": [
    {
     "data": {
      "image/png": "[encoded data removed]",
      "text/plain": [
       "<Figure size 432x288 with 1 Axes>"
      ]
     },
     "metadata": {
      "needs_background": "light"
     },
     "output_type": "display_data"
    },
    {
     "data": {
      "image/png": "[encoded data removed]",
      "text/plain": [
       "<Figure size 432x288 with 1 Axes>"
      ]
     },
     "metadata": {
      "needs_background": "light"
     },
     "output_type": "display_data"
    },
    {
     "data": {
      "image/png": "[encoded data removed]",
      "text/plain": [
       "<Figure size 432x288 with 1 Axes>"
      ]
     },
     "metadata": {
      "needs_background": "light"
     },
     "output_type": "display_data"
    }
   ],
   "source": [
    "# Checking the distribution after transformation\n",
    "for i in ['Precipitation', 'Visibility','Wind']:\n",
    "    sns.distplot(weather[i])\n",
    "    plt.show()"
   ]
  },
  {
   "cell_type": "code",
   "execution_count": 74,
   "metadata": {
    "scrolled": false
   },
   "outputs": [
    {
     "data": {
      "text/plain": [
       "Precipitation    0.603222\n",
       "Visibility      -0.511404\n",
       "dtype: float64"
      ]
     },
     "execution_count": 74,
     "metadata": {},
     "output_type": "execute_result"
    }
   ],
   "source": [
    "weather.skew()[abs(weather.skew())>0.5]\n",
    "# The skewnwss have reduced and almost in range [-0.5,0.5]"
   ]
  },
  {
   "cell_type": "code",
   "execution_count": 75,
   "metadata": {},
   "outputs": [],
   "source": [
    "corr=weather.drop(\"Year\",axis=1).corr()"
   ]
  },
  {
   "cell_type": "code",
   "execution_count": 76,
   "metadata": {
    "scrolled": true
   },
   "outputs": [
    {
     "data": {
      "image/png": "[encoded data removed]",
      "text/plain": [
       "<Figure size 720x360 with 2 Axes>"
      ]
     },
     "metadata": {
      "needs_background": "light"
     },
     "output_type": "display_data"
    }
   ],
   "source": [
    "plt.figure(figsize=(10,5))\n",
    "sns.heatmap(corr,annot=True)\n",
    "bottom,top=plt.ylim()\n",
    "plt.ylim(bottom+0.5,top-0.5)\n",
    "plt.show()"
   ]
  },
  {
   "cell_type": "markdown",
   "metadata": {},
   "source": [
    "In any year the weather of a month remains similar. Hence we can take the average over month.  "
   ]
  },
  {
   "cell_type": "code",
   "execution_count": 77,
   "metadata": {
    "scrolled": false
   },
   "outputs": [
    {
     "data": {
      "text/html": [
       "<div>\n",
       "<style scoped>\n",
       "    .dataframe tbody tr th:only-of-type {\n",
       "        vertical-align: middle;\n",
       "    }\n",
       "\n",
       "    .dataframe tbody tr th {\n",
       "        vertical-align: top;\n",
       "    }\n",
       "\n",
       "    .dataframe thead th {\n",
       "        text-align: right;\n",
       "    }\n",
       "</style>\n",
       "<table border=\"1\" class=\"dataframe\">\n",
       "  <thead>\n",
       "    <tr style=\"text-align: right;\">\n",
       "      <th></th>\n",
       "      <th>Year</th>\n",
       "      <th>Month</th>\n",
       "      <th>Day</th>\n",
       "      <th>Precipitation</th>\n",
       "      <th>Temp</th>\n",
       "      <th>Dew</th>\n",
       "      <th>Humidity</th>\n",
       "      <th>Sea Level</th>\n",
       "      <th>Visibility</th>\n",
       "      <th>Wind</th>\n",
       "    </tr>\n",
       "  </thead>\n",
       "  <tbody>\n",
       "    <tr>\n",
       "      <td>0</td>\n",
       "      <td>2009</td>\n",
       "      <td>1</td>\n",
       "      <td>16.0</td>\n",
       "      <td>0.343857</td>\n",
       "      <td>-2.225806</td>\n",
       "      <td>-10.000000</td>\n",
       "      <td>57.150538</td>\n",
       "      <td>1015.924731</td>\n",
       "      <td>1361.311773</td>\n",
       "      <td>3.286670</td>\n",
       "    </tr>\n",
       "    <tr>\n",
       "      <td>1</td>\n",
       "      <td>2009</td>\n",
       "      <td>2</td>\n",
       "      <td>14.5</td>\n",
       "      <td>0.222729</td>\n",
       "      <td>2.702381</td>\n",
       "      <td>-6.476190</td>\n",
       "      <td>53.880952</td>\n",
       "      <td>1017.083333</td>\n",
       "      <td>1562.593949</td>\n",
       "      <td>3.322156</td>\n",
       "    </tr>\n",
       "    <tr>\n",
       "      <td>2</td>\n",
       "      <td>2009</td>\n",
       "      <td>3</td>\n",
       "      <td>16.0</td>\n",
       "      <td>0.258258</td>\n",
       "      <td>5.860215</td>\n",
       "      <td>-3.129032</td>\n",
       "      <td>56.903226</td>\n",
       "      <td>1021.064516</td>\n",
       "      <td>1288.250194</td>\n",
       "      <td>3.268979</td>\n",
       "    </tr>\n",
       "    <tr>\n",
       "      <td>3</td>\n",
       "      <td>2009</td>\n",
       "      <td>4</td>\n",
       "      <td>15.5</td>\n",
       "      <td>0.378411</td>\n",
       "      <td>12.555556</td>\n",
       "      <td>2.522222</td>\n",
       "      <td>55.633333</td>\n",
       "      <td>1014.600000</td>\n",
       "      <td>1293.350474</td>\n",
       "      <td>3.290654</td>\n",
       "    </tr>\n",
       "    <tr>\n",
       "      <td>4</td>\n",
       "      <td>2009</td>\n",
       "      <td>5</td>\n",
       "      <td>16.0</td>\n",
       "      <td>0.440221</td>\n",
       "      <td>16.946237</td>\n",
       "      <td>9.860215</td>\n",
       "      <td>68.365591</td>\n",
       "      <td>1017.236559</td>\n",
       "      <td>1074.815911</td>\n",
       "      <td>3.056298</td>\n",
       "    </tr>\n",
       "    <tr>\n",
       "      <td>5</td>\n",
       "      <td>2009</td>\n",
       "      <td>6</td>\n",
       "      <td>15.5</td>\n",
       "      <td>0.666024</td>\n",
       "      <td>19.788889</td>\n",
       "      <td>15.200000</td>\n",
       "      <td>78.566667</td>\n",
       "      <td>1011.066667</td>\n",
       "      <td>789.441812</td>\n",
       "      <td>3.010512</td>\n",
       "    </tr>\n",
       "    <tr>\n",
       "      <td>6</td>\n",
       "      <td>2009</td>\n",
       "      <td>7</td>\n",
       "      <td>16.0</td>\n",
       "      <td>0.370066</td>\n",
       "      <td>22.602151</td>\n",
       "      <td>16.301075</td>\n",
       "      <td>70.634409</td>\n",
       "      <td>1013.559140</td>\n",
       "      <td>1055.429441</td>\n",
       "      <td>3.051247</td>\n",
       "    </tr>\n",
       "    <tr>\n",
       "      <td>7</td>\n",
       "      <td>2009</td>\n",
       "      <td>8</td>\n",
       "      <td>16.0</td>\n",
       "      <td>0.364624</td>\n",
       "      <td>24.301075</td>\n",
       "      <td>18.354839</td>\n",
       "      <td>72.344086</td>\n",
       "      <td>1015.860215</td>\n",
       "      <td>1218.889712</td>\n",
       "      <td>2.903351</td>\n",
       "    </tr>\n",
       "    <tr>\n",
       "      <td>8</td>\n",
       "      <td>2009</td>\n",
       "      <td>9</td>\n",
       "      <td>15.5</td>\n",
       "      <td>0.198724</td>\n",
       "      <td>19.111111</td>\n",
       "      <td>12.655556</td>\n",
       "      <td>69.488889</td>\n",
       "      <td>1018.511111</td>\n",
       "      <td>1577.060962</td>\n",
       "      <td>3.069744</td>\n",
       "    </tr>\n",
       "    <tr>\n",
       "      <td>9</td>\n",
       "      <td>2009</td>\n",
       "      <td>10</td>\n",
       "      <td>16.0</td>\n",
       "      <td>0.390493</td>\n",
       "      <td>12.827957</td>\n",
       "      <td>6.924731</td>\n",
       "      <td>69.225806</td>\n",
       "      <td>1016.731183</td>\n",
       "      <td>1318.055465</td>\n",
       "      <td>3.120891</td>\n",
       "    </tr>\n",
       "    <tr>\n",
       "      <td>10</td>\n",
       "      <td>2009</td>\n",
       "      <td>11</td>\n",
       "      <td>15.5</td>\n",
       "      <td>0.295248</td>\n",
       "      <td>10.700000</td>\n",
       "      <td>4.200000</td>\n",
       "      <td>66.433333</td>\n",
       "      <td>1018.977778</td>\n",
       "      <td>1397.590348</td>\n",
       "      <td>3.215503</td>\n",
       "    </tr>\n",
       "    <tr>\n",
       "      <td>11</td>\n",
       "      <td>2009</td>\n",
       "      <td>12</td>\n",
       "      <td>16.0</td>\n",
       "      <td>0.425213</td>\n",
       "      <td>2.258065</td>\n",
       "      <td>-4.774194</td>\n",
       "      <td>61.537634</td>\n",
       "      <td>1017.301075</td>\n",
       "      <td>1287.332053</td>\n",
       "      <td>3.373058</td>\n",
       "    </tr>\n",
       "  </tbody>\n",
       "</table>\n",
       "</div>"
      ],
      "text/plain": [
       "    Year  Month   Day  Precipitation       Temp        Dew   Humidity  \\\n",
       "0   2009      1  16.0       0.343857  -2.225806 -10.000000  57.150538   \n",
       "1   2009      2  14.5       0.222729   2.702381  -6.476190  53.880952   \n",
       "2   2009      3  16.0       0.258258   5.860215  -3.129032  56.903226   \n",
       "3   2009      4  15.5       0.378411  12.555556   2.522222  55.633333   \n",
       "4   2009      5  16.0       0.440221  16.946237   9.860215  68.365591   \n",
       "5   2009      6  15.5       0.666024  19.788889  15.200000  78.566667   \n",
       "6   2009      7  16.0       0.370066  22.602151  16.301075  70.634409   \n",
       "7   2009      8  16.0       0.364624  24.301075  18.354839  72.344086   \n",
       "8   2009      9  15.5       0.198724  19.111111  12.655556  69.488889   \n",
       "9   2009     10  16.0       0.390493  12.827957   6.924731  69.225806   \n",
       "10  2009     11  15.5       0.295248  10.700000   4.200000  66.433333   \n",
       "11  2009     12  16.0       0.425213   2.258065  -4.774194  61.537634   \n",
       "\n",
       "      Sea Level   Visibility      Wind  \n",
       "0   1015.924731  1361.311773  3.286670  \n",
       "1   1017.083333  1562.593949  3.322156  \n",
       "2   1021.064516  1288.250194  3.268979  \n",
       "3   1014.600000  1293.350474  3.290654  \n",
       "4   1017.236559  1074.815911  3.056298  \n",
       "5   1011.066667   789.441812  3.010512  \n",
       "6   1013.559140  1055.429441  3.051247  \n",
       "7   1015.860215  1218.889712  2.903351  \n",
       "8   1018.511111  1577.060962  3.069744  \n",
       "9   1016.731183  1318.055465  3.120891  \n",
       "10  1018.977778  1397.590348  3.215503  \n",
       "11  1017.301075  1287.332053  3.373058  "
      ]
     },
     "execution_count": 77,
     "metadata": {},
     "output_type": "execute_result"
    }
   ],
   "source": [
    "weather_avg=weather.groupby(['Year','Month']).mean()\n",
    "weather_avg.reset_index(inplace=True)\n",
    "weather_avg"
   ]
  },
  {
   "cell_type": "code",
   "execution_count": 78,
   "metadata": {},
   "outputs": [],
   "source": [
    "# Since weather will be similar every year, there is no importance of year and day here. \n",
    "weather_avg=weather_avg.drop(['Year','Day'],axis=1)"
   ]
  },
  {
   "cell_type": "code",
   "execution_count": 79,
   "metadata": {
    "scrolled": true
   },
   "outputs": [
    {
     "data": {
      "text/html": [
       "<div>\n",
       "<style scoped>\n",
       "    .dataframe tbody tr th:only-of-type {\n",
       "        vertical-align: middle;\n",
       "    }\n",
       "\n",
       "    .dataframe tbody tr th {\n",
       "        vertical-align: top;\n",
       "    }\n",
       "\n",
       "    .dataframe thead th {\n",
       "        text-align: right;\n",
       "    }\n",
       "</style>\n",
       "<table border=\"1\" class=\"dataframe\">\n",
       "  <thead>\n",
       "    <tr style=\"text-align: right;\">\n",
       "      <th></th>\n",
       "      <th>Month</th>\n",
       "      <th>Precipitation</th>\n",
       "      <th>Temp</th>\n",
       "      <th>Dew</th>\n",
       "      <th>Humidity</th>\n",
       "      <th>Sea Level</th>\n",
       "      <th>Visibility</th>\n",
       "      <th>Wind</th>\n",
       "    </tr>\n",
       "  </thead>\n",
       "  <tbody>\n",
       "    <tr>\n",
       "      <td>count</td>\n",
       "      <td>12.000000</td>\n",
       "      <td>12.000000</td>\n",
       "      <td>12.000000</td>\n",
       "      <td>12.000000</td>\n",
       "      <td>12.000000</td>\n",
       "      <td>12.000000</td>\n",
       "      <td>12.000000</td>\n",
       "      <td>12.000000</td>\n",
       "    </tr>\n",
       "    <tr>\n",
       "      <td>mean</td>\n",
       "      <td>6.500000</td>\n",
       "      <td>0.362822</td>\n",
       "      <td>12.285652</td>\n",
       "      <td>5.136602</td>\n",
       "      <td>65.013705</td>\n",
       "      <td>1016.493026</td>\n",
       "      <td>1268.676841</td>\n",
       "      <td>3.164089</td>\n",
       "    </tr>\n",
       "    <tr>\n",
       "      <td>std</td>\n",
       "      <td>3.605551</td>\n",
       "      <td>0.122583</td>\n",
       "      <td>8.647378</td>\n",
       "      <td>9.633815</td>\n",
       "      <td>7.814038</td>\n",
       "      <td>2.613186</td>\n",
       "      <td>218.604585</td>\n",
       "      <td>0.147720</td>\n",
       "    </tr>\n",
       "    <tr>\n",
       "      <td>min</td>\n",
       "      <td>1.000000</td>\n",
       "      <td>0.198724</td>\n",
       "      <td>-2.225806</td>\n",
       "      <td>-10.000000</td>\n",
       "      <td>53.880952</td>\n",
       "      <td>1011.066667</td>\n",
       "      <td>789.441812</td>\n",
       "      <td>2.903351</td>\n",
       "    </tr>\n",
       "    <tr>\n",
       "      <td>25%</td>\n",
       "      <td>3.750000</td>\n",
       "      <td>0.286000</td>\n",
       "      <td>5.070757</td>\n",
       "      <td>-3.540323</td>\n",
       "      <td>57.088710</td>\n",
       "      <td>1015.545161</td>\n",
       "      <td>1182.871262</td>\n",
       "      <td>3.055035</td>\n",
       "    </tr>\n",
       "    <tr>\n",
       "      <td>50%</td>\n",
       "      <td>6.500000</td>\n",
       "      <td>0.367345</td>\n",
       "      <td>12.691756</td>\n",
       "      <td>5.562366</td>\n",
       "      <td>67.399462</td>\n",
       "      <td>1016.907258</td>\n",
       "      <td>1290.800334</td>\n",
       "      <td>3.168197</td>\n",
       "    </tr>\n",
       "    <tr>\n",
       "      <td>75%</td>\n",
       "      <td>9.250000</td>\n",
       "      <td>0.399173</td>\n",
       "      <td>19.280556</td>\n",
       "      <td>13.291667</td>\n",
       "      <td>69.775269</td>\n",
       "      <td>1017.603584</td>\n",
       "      <td>1370.381417</td>\n",
       "      <td>3.287666</td>\n",
       "    </tr>\n",
       "    <tr>\n",
       "      <td>max</td>\n",
       "      <td>12.000000</td>\n",
       "      <td>0.666024</td>\n",
       "      <td>24.301075</td>\n",
       "      <td>18.354839</td>\n",
       "      <td>78.566667</td>\n",
       "      <td>1021.064516</td>\n",
       "      <td>1577.060962</td>\n",
       "      <td>3.373058</td>\n",
       "    </tr>\n",
       "  </tbody>\n",
       "</table>\n",
       "</div>"
      ],
      "text/plain": [
       "           Month  Precipitation       Temp        Dew   Humidity    Sea Level  \\\n",
       "count  12.000000      12.000000  12.000000  12.000000  12.000000    12.000000   \n",
       "mean    6.500000       0.362822  12.285652   5.136602  65.013705  1016.493026   \n",
       "std     3.605551       0.122583   8.647378   9.633815   7.814038     2.613186   \n",
       "min     1.000000       0.198724  -2.225806 -10.000000  53.880952  1011.066667   \n",
       "25%     3.750000       0.286000   5.070757  -3.540323  57.088710  1015.545161   \n",
       "50%     6.500000       0.367345  12.691756   5.562366  67.399462  1016.907258   \n",
       "75%     9.250000       0.399173  19.280556  13.291667  69.775269  1017.603584   \n",
       "max    12.000000       0.666024  24.301075  18.354839  78.566667  1021.064516   \n",
       "\n",
       "        Visibility       Wind  \n",
       "count    12.000000  12.000000  \n",
       "mean   1268.676841   3.164089  \n",
       "std     218.604585   0.147720  \n",
       "min     789.441812   2.903351  \n",
       "25%    1182.871262   3.055035  \n",
       "50%    1290.800334   3.168197  \n",
       "75%    1370.381417   3.287666  \n",
       "max    1577.060962   3.373058  "
      ]
     },
     "execution_count": 79,
     "metadata": {},
     "output_type": "execute_result"
    }
   ],
   "source": [
    "weather_avg.describe()"
   ]
  },
  {
   "cell_type": "code",
   "execution_count": 80,
   "metadata": {},
   "outputs": [
    {
     "data": {
      "image/png": "[encoded data removed]",
      "text/plain": [
       "<Figure size 1080x504 with 6 Axes>"
      ]
     },
     "metadata": {
      "needs_background": "light"
     },
     "output_type": "display_data"
    }
   ],
   "source": [
    "# The graphs shows variation of 'Precipitation','Temp','Dew','Humidity','Visibility' and 'Wind' over different months.\n",
    "fig, ax=plt.subplots(2,3,figsize=(15,7))\n",
    "ax=ax.flatten()\n",
    "j=0\n",
    "for i in ['Precipitation','Temp','Dew','Humidity','Visibility','Wind']:\n",
    "    sns.barplot(x='Month',y=i,data=weather_avg,ax=ax[j])\n",
    "    j=j+1\n",
    "plt.show()\n"
   ]
  },
  {
   "cell_type": "markdown",
   "metadata": {},
   "source": [
    "### 3. Events and Holidays Dataset"
   ]
  },
  {
   "cell_type": "code",
   "execution_count": 81,
   "metadata": {},
   "outputs": [
    {
     "data": {
      "text/plain": [
       "(150, 4)"
      ]
     },
     "execution_count": 81,
     "metadata": {},
     "output_type": "execute_result"
    }
   ],
   "source": [
    "holiday=pd.read_excel('Events_HolidaysData.xlsx')\n",
    "holiday.shape"
   ]
  },
  {
   "cell_type": "code",
   "execution_count": 82,
   "metadata": {},
   "outputs": [
    {
     "data": {
      "text/html": [
       "<div>\n",
       "<style scoped>\n",
       "    .dataframe tbody tr th:only-of-type {\n",
       "        vertical-align: middle;\n",
       "    }\n",
       "\n",
       "    .dataframe tbody tr th {\n",
       "        vertical-align: top;\n",
       "    }\n",
       "\n",
       "    .dataframe thead th {\n",
       "        text-align: right;\n",
       "    }\n",
       "</style>\n",
       "<table border=\"1\" class=\"dataframe\">\n",
       "  <thead>\n",
       "    <tr style=\"text-align: right;\">\n",
       "      <th></th>\n",
       "      <th>Year</th>\n",
       "      <th>MonthDate</th>\n",
       "      <th>Event</th>\n",
       "      <th>DayCategory</th>\n",
       "    </tr>\n",
       "  </thead>\n",
       "  <tbody>\n",
       "    <tr>\n",
       "      <td>0</td>\n",
       "      <td>2009</td>\n",
       "      <td>2001-01-01</td>\n",
       "      <td>New Year's Day</td>\n",
       "      <td>Federal Holiday</td>\n",
       "    </tr>\n",
       "    <tr>\n",
       "      <td>1</td>\n",
       "      <td>2009</td>\n",
       "      <td>2019-01-01</td>\n",
       "      <td>Martin Luther King Jr. Day</td>\n",
       "      <td>Federal Holiday</td>\n",
       "    </tr>\n",
       "    <tr>\n",
       "      <td>2</td>\n",
       "      <td>2009</td>\n",
       "      <td>2014-02-01</td>\n",
       "      <td>Valentine's Day</td>\n",
       "      <td>Event</td>\n",
       "    </tr>\n",
       "    <tr>\n",
       "      <td>3</td>\n",
       "      <td>2009</td>\n",
       "      <td>2016-02-01</td>\n",
       "      <td>Presidents' Day</td>\n",
       "      <td>Federal Holiday</td>\n",
       "    </tr>\n",
       "    <tr>\n",
       "      <td>4</td>\n",
       "      <td>2009</td>\n",
       "      <td>2012-04-01</td>\n",
       "      <td>Easter Sunday</td>\n",
       "      <td>Event</td>\n",
       "    </tr>\n",
       "  </tbody>\n",
       "</table>\n",
       "</div>"
      ],
      "text/plain": [
       "   Year  MonthDate                       Event      DayCategory\n",
       "0  2009 2001-01-01              New Year's Day  Federal Holiday\n",
       "1  2009 2019-01-01  Martin Luther King Jr. Day  Federal Holiday\n",
       "2  2009 2014-02-01             Valentine's Day            Event\n",
       "3  2009 2016-02-01             Presidents' Day  Federal Holiday\n",
       "4  2009 2012-04-01               Easter Sunday            Event"
      ]
     },
     "execution_count": 82,
     "metadata": {},
     "output_type": "execute_result"
    }
   ],
   "source": [
    "holiday.head()"
   ]
  },
  {
   "cell_type": "code",
   "execution_count": 83,
   "metadata": {
    "scrolled": false
   },
   "outputs": [
    {
     "name": "stdout",
     "output_type": "stream",
     "text": [
      "<class 'pandas.core.frame.DataFrame'>\n",
      "RangeIndex: 150 entries, 0 to 149\n",
      "Data columns (total 4 columns):\n",
      "Year           150 non-null int64\n",
      "MonthDate      150 non-null datetime64[ns]\n",
      "Event          150 non-null object\n",
      "DayCategory    150 non-null object\n",
      "dtypes: datetime64[ns](1), int64(1), object(2)\n",
      "memory usage: 4.8+ KB\n"
     ]
    }
   ],
   "source": [
    "holiday.info()"
   ]
  },
  {
   "cell_type": "code",
   "execution_count": 84,
   "metadata": {
    "scrolled": false
   },
   "outputs": [
    {
     "data": {
      "text/plain": [
       "Year            8\n",
       "MonthDate      71\n",
       "Event          23\n",
       "DayCategory     2\n",
       "dtype: int64"
      ]
     },
     "execution_count": 84,
     "metadata": {},
     "output_type": "execute_result"
    }
   ],
   "source": [
    "holiday.nunique()"
   ]
  },
  {
   "cell_type": "code",
   "execution_count": 85,
   "metadata": {},
   "outputs": [
    {
     "data": {
      "text/plain": [
       "2016    20\n",
       "2015    20\n",
       "2010    20\n",
       "2012    19\n",
       "2014    18\n",
       "2011    18\n",
       "2009    18\n",
       "2013    17\n",
       "Name: Year, dtype: int64"
      ]
     },
     "execution_count": 85,
     "metadata": {},
     "output_type": "execute_result"
    }
   ],
   "source": [
    "holiday.Year.value_counts()\n",
    "# The data consists of informations from year 2010-2016"
   ]
  },
  {
   "cell_type": "code",
   "execution_count": 86,
   "metadata": {},
   "outputs": [],
   "source": [
    "# Extracting month, day and year into new columns\n",
    "holiday['ExactYear']=pd.DatetimeIndex(holiday['MonthDate']).year\n",
    "holiday['Month']=pd.DatetimeIndex(holiday['MonthDate']).month\n",
    "holiday['Day']=pd.DatetimeIndex(holiday['MonthDate']).day\n"
   ]
  },
  {
   "cell_type": "code",
   "execution_count": 87,
   "metadata": {
    "scrolled": true
   },
   "outputs": [
    {
     "data": {
      "text/plain": [
       "Father's Day                   8\n",
       "Mother's Day                   8\n",
       "Halloween                      8\n",
       "Valentine's Day                8\n",
       "New Year's Eve                 8\n",
       "Veterans Day                   8\n",
       "Columbus Day (Most regions)    8\n",
       "Presidents' Day                8\n",
       "Christmas Day                  8\n",
       "Independence Day               8\n",
       "Christmas Eve                  8\n",
       "Memorial Day                   8\n",
       "Martin Luther King Jr. Day     8\n",
       "Thanksgiving Day               8\n",
       "New Year's Day                 8\n",
       "Easter Sunday                  8\n",
       "Labor Day                      8\n",
       "'Independence Day' observed    3\n",
       "'Christmas Day' observed       3\n",
       "Thomas Jefferson's Birthday    3\n",
       "'New Year's Day' observed      2\n",
       "Election Day                   2\n",
       "Day After Christmas Day        1\n",
       "Name: Event, dtype: int64"
      ]
     },
     "execution_count": 87,
     "metadata": {},
     "output_type": "execute_result"
    }
   ],
   "source": [
    "holiday['Event'].value_counts()"
   ]
  },
  {
   "cell_type": "code",
   "execution_count": 88,
   "metadata": {},
   "outputs": [],
   "source": [
    "# 'New Year's Day' observed and 'New Year's Day' is same so we the change.\n",
    "holiday['Event']=holiday['Event'].replace({\"'Christmas Day' observed\":\"Christmas Day\",\"Day After Christmas Day\":\"Christmas Day\",\"'Independence Day' observed\":\"Independence Day\",\"'New Year's Day' observed\":\"New Year's Day\"})"
   ]
  },
  {
   "cell_type": "markdown",
   "metadata": {},
   "source": [
    "Lets analyse events of each month and compare it with the MonthDate. "
   ]
  },
  {
   "cell_type": "markdown",
   "metadata": {},
   "source": [
    "#### 1. January"
   ]
  },
  {
   "cell_type": "code",
   "execution_count": 89,
   "metadata": {},
   "outputs": [
    {
     "data": {
      "text/html": [
       "<div>\n",
       "<style scoped>\n",
       "    .dataframe tbody tr th:only-of-type {\n",
       "        vertical-align: middle;\n",
       "    }\n",
       "\n",
       "    .dataframe tbody tr th {\n",
       "        vertical-align: top;\n",
       "    }\n",
       "\n",
       "    .dataframe thead th {\n",
       "        text-align: right;\n",
       "    }\n",
       "</style>\n",
       "<table border=\"1\" class=\"dataframe\">\n",
       "  <thead>\n",
       "    <tr style=\"text-align: right;\">\n",
       "      <th></th>\n",
       "      <th>Year</th>\n",
       "      <th>MonthDate</th>\n",
       "      <th>Event</th>\n",
       "      <th>DayCategory</th>\n",
       "      <th>ExactYear</th>\n",
       "      <th>Month</th>\n",
       "      <th>Day</th>\n",
       "    </tr>\n",
       "  </thead>\n",
       "  <tbody>\n",
       "    <tr>\n",
       "      <td>0</td>\n",
       "      <td>2009</td>\n",
       "      <td>2001-01-01</td>\n",
       "      <td>New Year's Day</td>\n",
       "      <td>Federal Holiday</td>\n",
       "      <td>2001</td>\n",
       "      <td>1</td>\n",
       "      <td>1</td>\n",
       "    </tr>\n",
       "    <tr>\n",
       "      <td>1</td>\n",
       "      <td>2009</td>\n",
       "      <td>2019-01-01</td>\n",
       "      <td>Martin Luther King Jr. Day</td>\n",
       "      <td>Federal Holiday</td>\n",
       "      <td>2019</td>\n",
       "      <td>1</td>\n",
       "      <td>1</td>\n",
       "    </tr>\n",
       "    <tr>\n",
       "      <td>18</td>\n",
       "      <td>2010</td>\n",
       "      <td>2001-01-01</td>\n",
       "      <td>New Year's Day</td>\n",
       "      <td>Federal Holiday</td>\n",
       "      <td>2001</td>\n",
       "      <td>1</td>\n",
       "      <td>1</td>\n",
       "    </tr>\n",
       "    <tr>\n",
       "      <td>19</td>\n",
       "      <td>2010</td>\n",
       "      <td>2018-01-01</td>\n",
       "      <td>Martin Luther King Jr. Day</td>\n",
       "      <td>Federal Holiday</td>\n",
       "      <td>2018</td>\n",
       "      <td>1</td>\n",
       "      <td>1</td>\n",
       "    </tr>\n",
       "    <tr>\n",
       "      <td>38</td>\n",
       "      <td>2011</td>\n",
       "      <td>2001-01-01</td>\n",
       "      <td>New Year's Day</td>\n",
       "      <td>Federal Holiday</td>\n",
       "      <td>2001</td>\n",
       "      <td>1</td>\n",
       "      <td>1</td>\n",
       "    </tr>\n",
       "    <tr>\n",
       "      <td>39</td>\n",
       "      <td>2011</td>\n",
       "      <td>2017-01-01</td>\n",
       "      <td>Martin Luther King Jr. Day</td>\n",
       "      <td>Federal Holiday</td>\n",
       "      <td>2017</td>\n",
       "      <td>1</td>\n",
       "      <td>1</td>\n",
       "    </tr>\n",
       "    <tr>\n",
       "      <td>56</td>\n",
       "      <td>2012</td>\n",
       "      <td>2001-01-01</td>\n",
       "      <td>New Year's Day</td>\n",
       "      <td>Federal Holiday</td>\n",
       "      <td>2001</td>\n",
       "      <td>1</td>\n",
       "      <td>1</td>\n",
       "    </tr>\n",
       "    <tr>\n",
       "      <td>57</td>\n",
       "      <td>2012</td>\n",
       "      <td>2002-01-01</td>\n",
       "      <td>New Year's Day</td>\n",
       "      <td>Federal Holiday</td>\n",
       "      <td>2002</td>\n",
       "      <td>1</td>\n",
       "      <td>1</td>\n",
       "    </tr>\n",
       "    <tr>\n",
       "      <td>58</td>\n",
       "      <td>2012</td>\n",
       "      <td>2016-01-01</td>\n",
       "      <td>Martin Luther King Jr. Day</td>\n",
       "      <td>Federal Holiday</td>\n",
       "      <td>2016</td>\n",
       "      <td>1</td>\n",
       "      <td>1</td>\n",
       "    </tr>\n",
       "    <tr>\n",
       "      <td>75</td>\n",
       "      <td>2013</td>\n",
       "      <td>2001-01-01</td>\n",
       "      <td>New Year's Day</td>\n",
       "      <td>Federal Holiday</td>\n",
       "      <td>2001</td>\n",
       "      <td>1</td>\n",
       "      <td>1</td>\n",
       "    </tr>\n",
       "    <tr>\n",
       "      <td>76</td>\n",
       "      <td>2013</td>\n",
       "      <td>2021-01-01</td>\n",
       "      <td>Martin Luther King Jr. Day</td>\n",
       "      <td>Federal Holiday</td>\n",
       "      <td>2021</td>\n",
       "      <td>1</td>\n",
       "      <td>1</td>\n",
       "    </tr>\n",
       "    <tr>\n",
       "      <td>92</td>\n",
       "      <td>2014</td>\n",
       "      <td>2001-01-01</td>\n",
       "      <td>New Year's Day</td>\n",
       "      <td>Federal Holiday</td>\n",
       "      <td>2001</td>\n",
       "      <td>1</td>\n",
       "      <td>1</td>\n",
       "    </tr>\n",
       "    <tr>\n",
       "      <td>93</td>\n",
       "      <td>2014</td>\n",
       "      <td>2020-01-01</td>\n",
       "      <td>Martin Luther King Jr. Day</td>\n",
       "      <td>Federal Holiday</td>\n",
       "      <td>2020</td>\n",
       "      <td>1</td>\n",
       "      <td>1</td>\n",
       "    </tr>\n",
       "    <tr>\n",
       "      <td>110</td>\n",
       "      <td>2015</td>\n",
       "      <td>2001-01-01</td>\n",
       "      <td>New Year's Day</td>\n",
       "      <td>Federal Holiday</td>\n",
       "      <td>2001</td>\n",
       "      <td>1</td>\n",
       "      <td>1</td>\n",
       "    </tr>\n",
       "    <tr>\n",
       "      <td>111</td>\n",
       "      <td>2015</td>\n",
       "      <td>2019-01-01</td>\n",
       "      <td>Martin Luther King Jr. Day</td>\n",
       "      <td>Federal Holiday</td>\n",
       "      <td>2019</td>\n",
       "      <td>1</td>\n",
       "      <td>1</td>\n",
       "    </tr>\n",
       "    <tr>\n",
       "      <td>130</td>\n",
       "      <td>2016</td>\n",
       "      <td>2001-01-01</td>\n",
       "      <td>New Year's Day</td>\n",
       "      <td>Federal Holiday</td>\n",
       "      <td>2001</td>\n",
       "      <td>1</td>\n",
       "      <td>1</td>\n",
       "    </tr>\n",
       "    <tr>\n",
       "      <td>131</td>\n",
       "      <td>2016</td>\n",
       "      <td>2018-01-01</td>\n",
       "      <td>Martin Luther King Jr. Day</td>\n",
       "      <td>Federal Holiday</td>\n",
       "      <td>2018</td>\n",
       "      <td>1</td>\n",
       "      <td>1</td>\n",
       "    </tr>\n",
       "  </tbody>\n",
       "</table>\n",
       "</div>"
      ],
      "text/plain": [
       "     Year  MonthDate                       Event      DayCategory  ExactYear  \\\n",
       "0    2009 2001-01-01              New Year's Day  Federal Holiday       2001   \n",
       "1    2009 2019-01-01  Martin Luther King Jr. Day  Federal Holiday       2019   \n",
       "18   2010 2001-01-01              New Year's Day  Federal Holiday       2001   \n",
       "19   2010 2018-01-01  Martin Luther King Jr. Day  Federal Holiday       2018   \n",
       "38   2011 2001-01-01              New Year's Day  Federal Holiday       2001   \n",
       "39   2011 2017-01-01  Martin Luther King Jr. Day  Federal Holiday       2017   \n",
       "56   2012 2001-01-01              New Year's Day  Federal Holiday       2001   \n",
       "57   2012 2002-01-01              New Year's Day  Federal Holiday       2002   \n",
       "58   2012 2016-01-01  Martin Luther King Jr. Day  Federal Holiday       2016   \n",
       "75   2013 2001-01-01              New Year's Day  Federal Holiday       2001   \n",
       "76   2013 2021-01-01  Martin Luther King Jr. Day  Federal Holiday       2021   \n",
       "92   2014 2001-01-01              New Year's Day  Federal Holiday       2001   \n",
       "93   2014 2020-01-01  Martin Luther King Jr. Day  Federal Holiday       2020   \n",
       "110  2015 2001-01-01              New Year's Day  Federal Holiday       2001   \n",
       "111  2015 2019-01-01  Martin Luther King Jr. Day  Federal Holiday       2019   \n",
       "130  2016 2001-01-01              New Year's Day  Federal Holiday       2001   \n",
       "131  2016 2018-01-01  Martin Luther King Jr. Day  Federal Holiday       2018   \n",
       "\n",
       "     Month  Day  \n",
       "0        1    1  \n",
       "1        1    1  \n",
       "18       1    1  \n",
       "19       1    1  \n",
       "38       1    1  \n",
       "39       1    1  \n",
       "56       1    1  \n",
       "57       1    1  \n",
       "58       1    1  \n",
       "75       1    1  \n",
       "76       1    1  \n",
       "92       1    1  \n",
       "93       1    1  \n",
       "110      1    1  \n",
       "111      1    1  \n",
       "130      1    1  \n",
       "131      1    1  "
      ]
     },
     "execution_count": 89,
     "metadata": {},
     "output_type": "execute_result"
    }
   ],
   "source": [
    "holiday[(holiday['Month']==1)]"
   ]
  },
  {
   "cell_type": "markdown",
   "metadata": {},
   "source": [
    "It seems that Martin luther King Jr. Day is same as New year's day after 2016. Hence we replace Martin Luther King Jr. Day with New Year's Day as we are now dealing with years 2009-2014"
   ]
  },
  {
   "cell_type": "code",
   "execution_count": 90,
   "metadata": {},
   "outputs": [],
   "source": [
    "holiday.loc[(holiday['Month']==1),'Event']=holiday.loc[(holiday['Month']==1),'Event'].replace({\"Martin Luther King Jr. Day\":\"New Year's Day\"})"
   ]
  },
  {
   "cell_type": "markdown",
   "metadata": {},
   "source": [
    "#### 2. February"
   ]
  },
  {
   "cell_type": "code",
   "execution_count": 91,
   "metadata": {
    "scrolled": false
   },
   "outputs": [
    {
     "data": {
      "text/html": [
       "<div>\n",
       "<style scoped>\n",
       "    .dataframe tbody tr th:only-of-type {\n",
       "        vertical-align: middle;\n",
       "    }\n",
       "\n",
       "    .dataframe tbody tr th {\n",
       "        vertical-align: top;\n",
       "    }\n",
       "\n",
       "    .dataframe thead th {\n",
       "        text-align: right;\n",
       "    }\n",
       "</style>\n",
       "<table border=\"1\" class=\"dataframe\">\n",
       "  <thead>\n",
       "    <tr style=\"text-align: right;\">\n",
       "      <th></th>\n",
       "      <th>Year</th>\n",
       "      <th>MonthDate</th>\n",
       "      <th>Event</th>\n",
       "      <th>DayCategory</th>\n",
       "      <th>ExactYear</th>\n",
       "      <th>Month</th>\n",
       "      <th>Day</th>\n",
       "    </tr>\n",
       "  </thead>\n",
       "  <tbody>\n",
       "    <tr>\n",
       "      <td>2</td>\n",
       "      <td>2009</td>\n",
       "      <td>2014-02-01</td>\n",
       "      <td>Valentine's Day</td>\n",
       "      <td>Event</td>\n",
       "      <td>2014</td>\n",
       "      <td>2</td>\n",
       "      <td>1</td>\n",
       "    </tr>\n",
       "    <tr>\n",
       "      <td>3</td>\n",
       "      <td>2009</td>\n",
       "      <td>2016-02-01</td>\n",
       "      <td>Presidents' Day</td>\n",
       "      <td>Federal Holiday</td>\n",
       "      <td>2016</td>\n",
       "      <td>2</td>\n",
       "      <td>1</td>\n",
       "    </tr>\n",
       "    <tr>\n",
       "      <td>20</td>\n",
       "      <td>2010</td>\n",
       "      <td>2014-02-01</td>\n",
       "      <td>Valentine's Day</td>\n",
       "      <td>Event</td>\n",
       "      <td>2014</td>\n",
       "      <td>2</td>\n",
       "      <td>1</td>\n",
       "    </tr>\n",
       "    <tr>\n",
       "      <td>21</td>\n",
       "      <td>2010</td>\n",
       "      <td>2015-02-01</td>\n",
       "      <td>Presidents' Day</td>\n",
       "      <td>Federal Holiday</td>\n",
       "      <td>2015</td>\n",
       "      <td>2</td>\n",
       "      <td>1</td>\n",
       "    </tr>\n",
       "    <tr>\n",
       "      <td>40</td>\n",
       "      <td>2011</td>\n",
       "      <td>2014-02-01</td>\n",
       "      <td>Valentine's Day</td>\n",
       "      <td>Event</td>\n",
       "      <td>2014</td>\n",
       "      <td>2</td>\n",
       "      <td>1</td>\n",
       "    </tr>\n",
       "    <tr>\n",
       "      <td>41</td>\n",
       "      <td>2011</td>\n",
       "      <td>2021-02-01</td>\n",
       "      <td>Presidents' Day</td>\n",
       "      <td>Federal Holiday</td>\n",
       "      <td>2021</td>\n",
       "      <td>2</td>\n",
       "      <td>1</td>\n",
       "    </tr>\n",
       "    <tr>\n",
       "      <td>59</td>\n",
       "      <td>2012</td>\n",
       "      <td>2014-02-01</td>\n",
       "      <td>Valentine's Day</td>\n",
       "      <td>Event</td>\n",
       "      <td>2014</td>\n",
       "      <td>2</td>\n",
       "      <td>1</td>\n",
       "    </tr>\n",
       "    <tr>\n",
       "      <td>60</td>\n",
       "      <td>2012</td>\n",
       "      <td>2020-02-01</td>\n",
       "      <td>Presidents' Day</td>\n",
       "      <td>Federal Holiday</td>\n",
       "      <td>2020</td>\n",
       "      <td>2</td>\n",
       "      <td>1</td>\n",
       "    </tr>\n",
       "    <tr>\n",
       "      <td>77</td>\n",
       "      <td>2013</td>\n",
       "      <td>2014-02-01</td>\n",
       "      <td>Valentine's Day</td>\n",
       "      <td>Event</td>\n",
       "      <td>2014</td>\n",
       "      <td>2</td>\n",
       "      <td>1</td>\n",
       "    </tr>\n",
       "    <tr>\n",
       "      <td>78</td>\n",
       "      <td>2013</td>\n",
       "      <td>2018-02-01</td>\n",
       "      <td>Presidents' Day</td>\n",
       "      <td>Federal Holiday</td>\n",
       "      <td>2018</td>\n",
       "      <td>2</td>\n",
       "      <td>1</td>\n",
       "    </tr>\n",
       "    <tr>\n",
       "      <td>94</td>\n",
       "      <td>2014</td>\n",
       "      <td>2014-02-01</td>\n",
       "      <td>Valentine's Day</td>\n",
       "      <td>Event</td>\n",
       "      <td>2014</td>\n",
       "      <td>2</td>\n",
       "      <td>1</td>\n",
       "    </tr>\n",
       "    <tr>\n",
       "      <td>95</td>\n",
       "      <td>2014</td>\n",
       "      <td>2017-02-01</td>\n",
       "      <td>Presidents' Day</td>\n",
       "      <td>Federal Holiday</td>\n",
       "      <td>2017</td>\n",
       "      <td>2</td>\n",
       "      <td>1</td>\n",
       "    </tr>\n",
       "    <tr>\n",
       "      <td>112</td>\n",
       "      <td>2015</td>\n",
       "      <td>2014-02-01</td>\n",
       "      <td>Valentine's Day</td>\n",
       "      <td>Event</td>\n",
       "      <td>2014</td>\n",
       "      <td>2</td>\n",
       "      <td>1</td>\n",
       "    </tr>\n",
       "    <tr>\n",
       "      <td>113</td>\n",
       "      <td>2015</td>\n",
       "      <td>2016-02-01</td>\n",
       "      <td>Presidents' Day</td>\n",
       "      <td>Federal Holiday</td>\n",
       "      <td>2016</td>\n",
       "      <td>2</td>\n",
       "      <td>1</td>\n",
       "    </tr>\n",
       "    <tr>\n",
       "      <td>132</td>\n",
       "      <td>2016</td>\n",
       "      <td>2014-02-01</td>\n",
       "      <td>Valentine's Day</td>\n",
       "      <td>Event</td>\n",
       "      <td>2014</td>\n",
       "      <td>2</td>\n",
       "      <td>1</td>\n",
       "    </tr>\n",
       "    <tr>\n",
       "      <td>133</td>\n",
       "      <td>2016</td>\n",
       "      <td>2015-02-01</td>\n",
       "      <td>Presidents' Day</td>\n",
       "      <td>Federal Holiday</td>\n",
       "      <td>2015</td>\n",
       "      <td>2</td>\n",
       "      <td>1</td>\n",
       "    </tr>\n",
       "  </tbody>\n",
       "</table>\n",
       "</div>"
      ],
      "text/plain": [
       "     Year  MonthDate            Event      DayCategory  ExactYear  Month  Day\n",
       "2    2009 2014-02-01  Valentine's Day            Event       2014      2    1\n",
       "3    2009 2016-02-01  Presidents' Day  Federal Holiday       2016      2    1\n",
       "20   2010 2014-02-01  Valentine's Day            Event       2014      2    1\n",
       "21   2010 2015-02-01  Presidents' Day  Federal Holiday       2015      2    1\n",
       "40   2011 2014-02-01  Valentine's Day            Event       2014      2    1\n",
       "41   2011 2021-02-01  Presidents' Day  Federal Holiday       2021      2    1\n",
       "59   2012 2014-02-01  Valentine's Day            Event       2014      2    1\n",
       "60   2012 2020-02-01  Presidents' Day  Federal Holiday       2020      2    1\n",
       "77   2013 2014-02-01  Valentine's Day            Event       2014      2    1\n",
       "78   2013 2018-02-01  Presidents' Day  Federal Holiday       2018      2    1\n",
       "94   2014 2014-02-01  Valentine's Day            Event       2014      2    1\n",
       "95   2014 2017-02-01  Presidents' Day  Federal Holiday       2017      2    1\n",
       "112  2015 2014-02-01  Valentine's Day            Event       2014      2    1\n",
       "113  2015 2016-02-01  Presidents' Day  Federal Holiday       2016      2    1\n",
       "132  2016 2014-02-01  Valentine's Day            Event       2014      2    1\n",
       "133  2016 2015-02-01  Presidents' Day  Federal Holiday       2015      2    1"
      ]
     },
     "execution_count": 91,
     "metadata": {},
     "output_type": "execute_result"
    }
   ],
   "source": [
    "holiday[(holiday['Month']==2)]"
   ]
  },
  {
   "cell_type": "markdown",
   "metadata": {},
   "source": [
    "Since we are concerned only with year 2009-2014 and here it is clear that Valentine's Day coincides with Federal Holiday after only 2014 we will change it to Valentine's day  and day category to Event."
   ]
  },
  {
   "cell_type": "code",
   "execution_count": 92,
   "metadata": {},
   "outputs": [],
   "source": [
    "holiday.loc[(holiday['Month']==2),'Event']=holiday.loc[(holiday['Month']==2),'Event'].replace({\"Presidents' Day\":\"Valentine's Day\"})\n",
    "holiday.loc[(holiday['Month']==2),'DayCategory']=holiday.loc[(holiday['Month']==2) ,'DayCategory'].replace({\"Federal Holiday\":\"Event\"})"
   ]
  },
  {
   "cell_type": "markdown",
   "metadata": {},
   "source": [
    "#### 3. March"
   ]
  },
  {
   "cell_type": "code",
   "execution_count": 93,
   "metadata": {
    "scrolled": true
   },
   "outputs": [
    {
     "data": {
      "text/html": [
       "<div>\n",
       "<style scoped>\n",
       "    .dataframe tbody tr th:only-of-type {\n",
       "        vertical-align: middle;\n",
       "    }\n",
       "\n",
       "    .dataframe tbody tr th {\n",
       "        vertical-align: top;\n",
       "    }\n",
       "\n",
       "    .dataframe thead th {\n",
       "        text-align: right;\n",
       "    }\n",
       "</style>\n",
       "<table border=\"1\" class=\"dataframe\">\n",
       "  <thead>\n",
       "    <tr style=\"text-align: right;\">\n",
       "      <th></th>\n",
       "      <th>Year</th>\n",
       "      <th>MonthDate</th>\n",
       "      <th>Event</th>\n",
       "      <th>DayCategory</th>\n",
       "      <th>ExactYear</th>\n",
       "      <th>Month</th>\n",
       "      <th>Day</th>\n",
       "    </tr>\n",
       "  </thead>\n",
       "  <tbody>\n",
       "    <tr>\n",
       "      <td>79</td>\n",
       "      <td>2013</td>\n",
       "      <td>1931-03-01</td>\n",
       "      <td>Easter Sunday</td>\n",
       "      <td>Event</td>\n",
       "      <td>1931</td>\n",
       "      <td>3</td>\n",
       "      <td>1</td>\n",
       "    </tr>\n",
       "    <tr>\n",
       "      <td>134</td>\n",
       "      <td>2016</td>\n",
       "      <td>2027-03-01</td>\n",
       "      <td>Easter Sunday</td>\n",
       "      <td>Event</td>\n",
       "      <td>2027</td>\n",
       "      <td>3</td>\n",
       "      <td>1</td>\n",
       "    </tr>\n",
       "  </tbody>\n",
       "</table>\n",
       "</div>"
      ],
      "text/plain": [
       "     Year  MonthDate          Event DayCategory  ExactYear  Month  Day\n",
       "79   2013 1931-03-01  Easter Sunday       Event       1931      3    1\n",
       "134  2016 2027-03-01  Easter Sunday       Event       2027      3    1"
      ]
     },
     "execution_count": 93,
     "metadata": {},
     "output_type": "execute_result"
    }
   ],
   "source": [
    "holiday[(holiday['Month']==3)]"
   ]
  },
  {
   "cell_type": "markdown",
   "metadata": {},
   "source": [
    "Easter can be march or april, from the data it occures only in march in the year 1931 and 2027, so we are going to drop these."
   ]
  },
  {
   "cell_type": "code",
   "execution_count": 94,
   "metadata": {},
   "outputs": [],
   "source": [
    "holiday=holiday.drop([79,134])"
   ]
  },
  {
   "cell_type": "markdown",
   "metadata": {},
   "source": [
    "#### 4. April"
   ]
  },
  {
   "cell_type": "code",
   "execution_count": 95,
   "metadata": {
    "scrolled": false
   },
   "outputs": [
    {
     "data": {
      "text/html": [
       "<div>\n",
       "<style scoped>\n",
       "    .dataframe tbody tr th:only-of-type {\n",
       "        vertical-align: middle;\n",
       "    }\n",
       "\n",
       "    .dataframe tbody tr th {\n",
       "        vertical-align: top;\n",
       "    }\n",
       "\n",
       "    .dataframe thead th {\n",
       "        text-align: right;\n",
       "    }\n",
       "</style>\n",
       "<table border=\"1\" class=\"dataframe\">\n",
       "  <thead>\n",
       "    <tr style=\"text-align: right;\">\n",
       "      <th></th>\n",
       "      <th>Year</th>\n",
       "      <th>MonthDate</th>\n",
       "      <th>Event</th>\n",
       "      <th>DayCategory</th>\n",
       "      <th>ExactYear</th>\n",
       "      <th>Month</th>\n",
       "      <th>Day</th>\n",
       "    </tr>\n",
       "  </thead>\n",
       "  <tbody>\n",
       "    <tr>\n",
       "      <td>4</td>\n",
       "      <td>2009</td>\n",
       "      <td>2012-04-01</td>\n",
       "      <td>Easter Sunday</td>\n",
       "      <td>Event</td>\n",
       "      <td>2012</td>\n",
       "      <td>4</td>\n",
       "      <td>1</td>\n",
       "    </tr>\n",
       "    <tr>\n",
       "      <td>22</td>\n",
       "      <td>2010</td>\n",
       "      <td>2004-04-01</td>\n",
       "      <td>Easter Sunday</td>\n",
       "      <td>Event</td>\n",
       "      <td>2004</td>\n",
       "      <td>4</td>\n",
       "      <td>1</td>\n",
       "    </tr>\n",
       "    <tr>\n",
       "      <td>42</td>\n",
       "      <td>2011</td>\n",
       "      <td>2024-04-01</td>\n",
       "      <td>Easter Sunday</td>\n",
       "      <td>Event</td>\n",
       "      <td>2024</td>\n",
       "      <td>4</td>\n",
       "      <td>1</td>\n",
       "    </tr>\n",
       "    <tr>\n",
       "      <td>61</td>\n",
       "      <td>2012</td>\n",
       "      <td>2008-04-01</td>\n",
       "      <td>Easter Sunday</td>\n",
       "      <td>Event</td>\n",
       "      <td>2008</td>\n",
       "      <td>4</td>\n",
       "      <td>1</td>\n",
       "    </tr>\n",
       "    <tr>\n",
       "      <td>96</td>\n",
       "      <td>2014</td>\n",
       "      <td>2013-04-01</td>\n",
       "      <td>Thomas Jefferson's Birthday</td>\n",
       "      <td>Event</td>\n",
       "      <td>2013</td>\n",
       "      <td>4</td>\n",
       "      <td>1</td>\n",
       "    </tr>\n",
       "    <tr>\n",
       "      <td>97</td>\n",
       "      <td>2014</td>\n",
       "      <td>2020-04-01</td>\n",
       "      <td>Easter Sunday</td>\n",
       "      <td>Event</td>\n",
       "      <td>2020</td>\n",
       "      <td>4</td>\n",
       "      <td>1</td>\n",
       "    </tr>\n",
       "    <tr>\n",
       "      <td>114</td>\n",
       "      <td>2015</td>\n",
       "      <td>2005-04-01</td>\n",
       "      <td>Easter Sunday</td>\n",
       "      <td>Event</td>\n",
       "      <td>2005</td>\n",
       "      <td>4</td>\n",
       "      <td>1</td>\n",
       "    </tr>\n",
       "    <tr>\n",
       "      <td>115</td>\n",
       "      <td>2015</td>\n",
       "      <td>2013-04-01</td>\n",
       "      <td>Thomas Jefferson's Birthday</td>\n",
       "      <td>Event</td>\n",
       "      <td>2013</td>\n",
       "      <td>4</td>\n",
       "      <td>1</td>\n",
       "    </tr>\n",
       "    <tr>\n",
       "      <td>135</td>\n",
       "      <td>2016</td>\n",
       "      <td>2013-04-01</td>\n",
       "      <td>Thomas Jefferson's Birthday</td>\n",
       "      <td>Event</td>\n",
       "      <td>2013</td>\n",
       "      <td>4</td>\n",
       "      <td>1</td>\n",
       "    </tr>\n",
       "  </tbody>\n",
       "</table>\n",
       "</div>"
      ],
      "text/plain": [
       "     Year  MonthDate                        Event DayCategory  ExactYear  \\\n",
       "4    2009 2012-04-01                Easter Sunday       Event       2012   \n",
       "22   2010 2004-04-01                Easter Sunday       Event       2004   \n",
       "42   2011 2024-04-01                Easter Sunday       Event       2024   \n",
       "61   2012 2008-04-01                Easter Sunday       Event       2008   \n",
       "96   2014 2013-04-01  Thomas Jefferson's Birthday       Event       2013   \n",
       "97   2014 2020-04-01                Easter Sunday       Event       2020   \n",
       "114  2015 2005-04-01                Easter Sunday       Event       2005   \n",
       "115  2015 2013-04-01  Thomas Jefferson's Birthday       Event       2013   \n",
       "135  2016 2013-04-01  Thomas Jefferson's Birthday       Event       2013   \n",
       "\n",
       "     Month  Day  \n",
       "4        4    1  \n",
       "22       4    1  \n",
       "42       4    1  \n",
       "61       4    1  \n",
       "96       4    1  \n",
       "97       4    1  \n",
       "114      4    1  \n",
       "115      4    1  \n",
       "135      4    1  "
      ]
     },
     "execution_count": 95,
     "metadata": {},
     "output_type": "execute_result"
    }
   ],
   "source": [
    "holiday[(holiday['Month']==4)]"
   ]
  },
  {
   "cell_type": "markdown",
   "metadata": {},
   "source": [
    "In only 2013 Thomas Jefferson's Birthday and Easter Sunday coincide so we can replace Thomas Jefferson's Birthday by Easter Sunday in the rest of the years except 2013."
   ]
  },
  {
   "cell_type": "code",
   "execution_count": 96,
   "metadata": {},
   "outputs": [
    {
     "data": {
      "text/html": [
       "<div>\n",
       "<style scoped>\n",
       "    .dataframe tbody tr th:only-of-type {\n",
       "        vertical-align: middle;\n",
       "    }\n",
       "\n",
       "    .dataframe tbody tr th {\n",
       "        vertical-align: top;\n",
       "    }\n",
       "\n",
       "    .dataframe thead th {\n",
       "        text-align: right;\n",
       "    }\n",
       "</style>\n",
       "<table border=\"1\" class=\"dataframe\">\n",
       "  <thead>\n",
       "    <tr style=\"text-align: right;\">\n",
       "      <th></th>\n",
       "      <th>Year</th>\n",
       "      <th>MonthDate</th>\n",
       "      <th>Event</th>\n",
       "      <th>DayCategory</th>\n",
       "      <th>ExactYear</th>\n",
       "      <th>Month</th>\n",
       "      <th>Day</th>\n",
       "    </tr>\n",
       "  </thead>\n",
       "  <tbody>\n",
       "    <tr>\n",
       "      <td>75</td>\n",
       "      <td>2013</td>\n",
       "      <td>2001-01-01</td>\n",
       "      <td>New Year's Day</td>\n",
       "      <td>Federal Holiday</td>\n",
       "      <td>2001</td>\n",
       "      <td>1</td>\n",
       "      <td>1</td>\n",
       "    </tr>\n",
       "    <tr>\n",
       "      <td>76</td>\n",
       "      <td>2013</td>\n",
       "      <td>2021-01-01</td>\n",
       "      <td>New Year's Day</td>\n",
       "      <td>Federal Holiday</td>\n",
       "      <td>2021</td>\n",
       "      <td>1</td>\n",
       "      <td>1</td>\n",
       "    </tr>\n",
       "    <tr>\n",
       "      <td>77</td>\n",
       "      <td>2013</td>\n",
       "      <td>2014-02-01</td>\n",
       "      <td>Valentine's Day</td>\n",
       "      <td>Event</td>\n",
       "      <td>2014</td>\n",
       "      <td>2</td>\n",
       "      <td>1</td>\n",
       "    </tr>\n",
       "    <tr>\n",
       "      <td>78</td>\n",
       "      <td>2013</td>\n",
       "      <td>2018-02-01</td>\n",
       "      <td>Valentine's Day</td>\n",
       "      <td>Event</td>\n",
       "      <td>2018</td>\n",
       "      <td>2</td>\n",
       "      <td>1</td>\n",
       "    </tr>\n",
       "    <tr>\n",
       "      <td>80</td>\n",
       "      <td>2013</td>\n",
       "      <td>2012-05-01</td>\n",
       "      <td>Mother's Day</td>\n",
       "      <td>Event</td>\n",
       "      <td>2012</td>\n",
       "      <td>5</td>\n",
       "      <td>1</td>\n",
       "    </tr>\n",
       "    <tr>\n",
       "      <td>81</td>\n",
       "      <td>2013</td>\n",
       "      <td>2027-05-01</td>\n",
       "      <td>Memorial Day</td>\n",
       "      <td>Federal Holiday</td>\n",
       "      <td>2027</td>\n",
       "      <td>5</td>\n",
       "      <td>1</td>\n",
       "    </tr>\n",
       "    <tr>\n",
       "      <td>82</td>\n",
       "      <td>2013</td>\n",
       "      <td>2016-06-01</td>\n",
       "      <td>Father's Day</td>\n",
       "      <td>Event</td>\n",
       "      <td>2016</td>\n",
       "      <td>6</td>\n",
       "      <td>1</td>\n",
       "    </tr>\n",
       "    <tr>\n",
       "      <td>83</td>\n",
       "      <td>2013</td>\n",
       "      <td>2004-07-01</td>\n",
       "      <td>Independence Day</td>\n",
       "      <td>Federal Holiday</td>\n",
       "      <td>2004</td>\n",
       "      <td>7</td>\n",
       "      <td>1</td>\n",
       "    </tr>\n",
       "    <tr>\n",
       "      <td>84</td>\n",
       "      <td>2013</td>\n",
       "      <td>2002-09-01</td>\n",
       "      <td>Labor Day</td>\n",
       "      <td>Federal Holiday</td>\n",
       "      <td>2002</td>\n",
       "      <td>9</td>\n",
       "      <td>1</td>\n",
       "    </tr>\n",
       "    <tr>\n",
       "      <td>85</td>\n",
       "      <td>2013</td>\n",
       "      <td>2014-10-01</td>\n",
       "      <td>Columbus Day (Most regions)</td>\n",
       "      <td>Federal Holiday</td>\n",
       "      <td>2014</td>\n",
       "      <td>10</td>\n",
       "      <td>1</td>\n",
       "    </tr>\n",
       "    <tr>\n",
       "      <td>86</td>\n",
       "      <td>2013</td>\n",
       "      <td>1931-10-01</td>\n",
       "      <td>Halloween</td>\n",
       "      <td>Event</td>\n",
       "      <td>1931</td>\n",
       "      <td>10</td>\n",
       "      <td>1</td>\n",
       "    </tr>\n",
       "    <tr>\n",
       "      <td>87</td>\n",
       "      <td>2013</td>\n",
       "      <td>2011-11-01</td>\n",
       "      <td>Veterans Day</td>\n",
       "      <td>Federal Holiday</td>\n",
       "      <td>2011</td>\n",
       "      <td>11</td>\n",
       "      <td>1</td>\n",
       "    </tr>\n",
       "    <tr>\n",
       "      <td>88</td>\n",
       "      <td>2013</td>\n",
       "      <td>2028-11-01</td>\n",
       "      <td>Thanksgiving Day</td>\n",
       "      <td>Federal Holiday</td>\n",
       "      <td>2028</td>\n",
       "      <td>11</td>\n",
       "      <td>1</td>\n",
       "    </tr>\n",
       "    <tr>\n",
       "      <td>89</td>\n",
       "      <td>2013</td>\n",
       "      <td>2024-12-01</td>\n",
       "      <td>Christmas Eve</td>\n",
       "      <td>Event</td>\n",
       "      <td>2024</td>\n",
       "      <td>12</td>\n",
       "      <td>1</td>\n",
       "    </tr>\n",
       "    <tr>\n",
       "      <td>90</td>\n",
       "      <td>2013</td>\n",
       "      <td>2025-12-01</td>\n",
       "      <td>Christmas Day</td>\n",
       "      <td>Federal Holiday</td>\n",
       "      <td>2025</td>\n",
       "      <td>12</td>\n",
       "      <td>1</td>\n",
       "    </tr>\n",
       "    <tr>\n",
       "      <td>91</td>\n",
       "      <td>2013</td>\n",
       "      <td>1931-12-01</td>\n",
       "      <td>New Year's Eve</td>\n",
       "      <td>Event</td>\n",
       "      <td>1931</td>\n",
       "      <td>12</td>\n",
       "      <td>1</td>\n",
       "    </tr>\n",
       "  </tbody>\n",
       "</table>\n",
       "</div>"
      ],
      "text/plain": [
       "    Year  MonthDate                        Event      DayCategory  ExactYear  \\\n",
       "75  2013 2001-01-01               New Year's Day  Federal Holiday       2001   \n",
       "76  2013 2021-01-01               New Year's Day  Federal Holiday       2021   \n",
       "77  2013 2014-02-01              Valentine's Day            Event       2014   \n",
       "78  2013 2018-02-01              Valentine's Day            Event       2018   \n",
       "80  2013 2012-05-01                 Mother's Day            Event       2012   \n",
       "81  2013 2027-05-01                 Memorial Day  Federal Holiday       2027   \n",
       "82  2013 2016-06-01                 Father's Day            Event       2016   \n",
       "83  2013 2004-07-01             Independence Day  Federal Holiday       2004   \n",
       "84  2013 2002-09-01                    Labor Day  Federal Holiday       2002   \n",
       "85  2013 2014-10-01  Columbus Day (Most regions)  Federal Holiday       2014   \n",
       "86  2013 1931-10-01                    Halloween            Event       1931   \n",
       "87  2013 2011-11-01                 Veterans Day  Federal Holiday       2011   \n",
       "88  2013 2028-11-01             Thanksgiving Day  Federal Holiday       2028   \n",
       "89  2013 2024-12-01                Christmas Eve            Event       2024   \n",
       "90  2013 2025-12-01                Christmas Day  Federal Holiday       2025   \n",
       "91  2013 1931-12-01               New Year's Eve            Event       1931   \n",
       "\n",
       "    Month  Day  \n",
       "75      1    1  \n",
       "76      1    1  \n",
       "77      2    1  \n",
       "78      2    1  \n",
       "80      5    1  \n",
       "81      5    1  \n",
       "82      6    1  \n",
       "83      7    1  \n",
       "84      9    1  \n",
       "85     10    1  \n",
       "86     10    1  \n",
       "87     11    1  \n",
       "88     11    1  \n",
       "89     12    1  \n",
       "90     12    1  \n",
       "91     12    1  "
      ]
     },
     "execution_count": 96,
     "metadata": {},
     "output_type": "execute_result"
    }
   ],
   "source": [
    "holiday[(holiday['Year']==2013)]\n",
    "# In 2013 month 4 there is no record, so we create one and add Thomas Jefferson's Birthday "
   ]
  },
  {
   "cell_type": "code",
   "execution_count": 97,
   "metadata": {},
   "outputs": [],
   "source": [
    "holiday.loc[(holiday['Month']==4),'Event']=holiday.loc[(holiday['Month']==4),'Event'].replace({\"Thomas Jefferson's Birthday\":\"Easter Sunday\"})"
   ]
  },
  {
   "cell_type": "code",
   "execution_count": 98,
   "metadata": {},
   "outputs": [],
   "source": [
    "holiday=holiday.append({'Year':2013, 'Event':\"Thomas Jefferson's\",'DayCategory':'Event','ExactYear':2013,'Month':4,'Day':1}, ignore_index=True)"
   ]
  },
  {
   "cell_type": "markdown",
   "metadata": {},
   "source": [
    "#### 5. May"
   ]
  },
  {
   "cell_type": "code",
   "execution_count": 99,
   "metadata": {
    "scrolled": true
   },
   "outputs": [
    {
     "data": {
      "text/html": [
       "<div>\n",
       "<style scoped>\n",
       "    .dataframe tbody tr th:only-of-type {\n",
       "        vertical-align: middle;\n",
       "    }\n",
       "\n",
       "    .dataframe tbody tr th {\n",
       "        vertical-align: top;\n",
       "    }\n",
       "\n",
       "    .dataframe thead th {\n",
       "        text-align: right;\n",
       "    }\n",
       "</style>\n",
       "<table border=\"1\" class=\"dataframe\">\n",
       "  <thead>\n",
       "    <tr style=\"text-align: right;\">\n",
       "      <th></th>\n",
       "      <th>Year</th>\n",
       "      <th>MonthDate</th>\n",
       "      <th>Event</th>\n",
       "      <th>DayCategory</th>\n",
       "      <th>ExactYear</th>\n",
       "      <th>Month</th>\n",
       "      <th>Day</th>\n",
       "    </tr>\n",
       "  </thead>\n",
       "  <tbody>\n",
       "    <tr>\n",
       "      <td>5</td>\n",
       "      <td>2009</td>\n",
       "      <td>2010-05-01</td>\n",
       "      <td>Mother's Day</td>\n",
       "      <td>Event</td>\n",
       "      <td>2010</td>\n",
       "      <td>5</td>\n",
       "      <td>1</td>\n",
       "    </tr>\n",
       "    <tr>\n",
       "      <td>6</td>\n",
       "      <td>2009</td>\n",
       "      <td>2025-05-01</td>\n",
       "      <td>Memorial Day</td>\n",
       "      <td>Federal Holiday</td>\n",
       "      <td>2025</td>\n",
       "      <td>5</td>\n",
       "      <td>1</td>\n",
       "    </tr>\n",
       "    <tr>\n",
       "      <td>23</td>\n",
       "      <td>2010</td>\n",
       "      <td>2009-05-01</td>\n",
       "      <td>Mother's Day</td>\n",
       "      <td>Event</td>\n",
       "      <td>2009</td>\n",
       "      <td>5</td>\n",
       "      <td>1</td>\n",
       "    </tr>\n",
       "    <tr>\n",
       "      <td>24</td>\n",
       "      <td>2010</td>\n",
       "      <td>1931-05-01</td>\n",
       "      <td>Memorial Day</td>\n",
       "      <td>Federal Holiday</td>\n",
       "      <td>1931</td>\n",
       "      <td>5</td>\n",
       "      <td>1</td>\n",
       "    </tr>\n",
       "    <tr>\n",
       "      <td>43</td>\n",
       "      <td>2011</td>\n",
       "      <td>2008-05-01</td>\n",
       "      <td>Mother's Day</td>\n",
       "      <td>Event</td>\n",
       "      <td>2008</td>\n",
       "      <td>5</td>\n",
       "      <td>1</td>\n",
       "    </tr>\n",
       "    <tr>\n",
       "      <td>44</td>\n",
       "      <td>2011</td>\n",
       "      <td>1930-05-01</td>\n",
       "      <td>Memorial Day</td>\n",
       "      <td>Federal Holiday</td>\n",
       "      <td>1930</td>\n",
       "      <td>5</td>\n",
       "      <td>1</td>\n",
       "    </tr>\n",
       "    <tr>\n",
       "      <td>62</td>\n",
       "      <td>2012</td>\n",
       "      <td>2013-05-01</td>\n",
       "      <td>Mother's Day</td>\n",
       "      <td>Event</td>\n",
       "      <td>2013</td>\n",
       "      <td>5</td>\n",
       "      <td>1</td>\n",
       "    </tr>\n",
       "    <tr>\n",
       "      <td>63</td>\n",
       "      <td>2012</td>\n",
       "      <td>2028-05-01</td>\n",
       "      <td>Memorial Day</td>\n",
       "      <td>Federal Holiday</td>\n",
       "      <td>2028</td>\n",
       "      <td>5</td>\n",
       "      <td>1</td>\n",
       "    </tr>\n",
       "    <tr>\n",
       "      <td>79</td>\n",
       "      <td>2013</td>\n",
       "      <td>2012-05-01</td>\n",
       "      <td>Mother's Day</td>\n",
       "      <td>Event</td>\n",
       "      <td>2012</td>\n",
       "      <td>5</td>\n",
       "      <td>1</td>\n",
       "    </tr>\n",
       "    <tr>\n",
       "      <td>80</td>\n",
       "      <td>2013</td>\n",
       "      <td>2027-05-01</td>\n",
       "      <td>Memorial Day</td>\n",
       "      <td>Federal Holiday</td>\n",
       "      <td>2027</td>\n",
       "      <td>5</td>\n",
       "      <td>1</td>\n",
       "    </tr>\n",
       "    <tr>\n",
       "      <td>97</td>\n",
       "      <td>2014</td>\n",
       "      <td>2011-05-01</td>\n",
       "      <td>Mother's Day</td>\n",
       "      <td>Event</td>\n",
       "      <td>2011</td>\n",
       "      <td>5</td>\n",
       "      <td>1</td>\n",
       "    </tr>\n",
       "    <tr>\n",
       "      <td>98</td>\n",
       "      <td>2014</td>\n",
       "      <td>2026-05-01</td>\n",
       "      <td>Memorial Day</td>\n",
       "      <td>Federal Holiday</td>\n",
       "      <td>2026</td>\n",
       "      <td>5</td>\n",
       "      <td>1</td>\n",
       "    </tr>\n",
       "    <tr>\n",
       "      <td>115</td>\n",
       "      <td>2015</td>\n",
       "      <td>2010-05-01</td>\n",
       "      <td>Mother's Day</td>\n",
       "      <td>Event</td>\n",
       "      <td>2010</td>\n",
       "      <td>5</td>\n",
       "      <td>1</td>\n",
       "    </tr>\n",
       "    <tr>\n",
       "      <td>116</td>\n",
       "      <td>2015</td>\n",
       "      <td>2025-05-01</td>\n",
       "      <td>Memorial Day</td>\n",
       "      <td>Federal Holiday</td>\n",
       "      <td>2025</td>\n",
       "      <td>5</td>\n",
       "      <td>1</td>\n",
       "    </tr>\n",
       "    <tr>\n",
       "      <td>134</td>\n",
       "      <td>2016</td>\n",
       "      <td>2008-05-01</td>\n",
       "      <td>Mother's Day</td>\n",
       "      <td>Event</td>\n",
       "      <td>2008</td>\n",
       "      <td>5</td>\n",
       "      <td>1</td>\n",
       "    </tr>\n",
       "    <tr>\n",
       "      <td>135</td>\n",
       "      <td>2016</td>\n",
       "      <td>1930-05-01</td>\n",
       "      <td>Memorial Day</td>\n",
       "      <td>Federal Holiday</td>\n",
       "      <td>1930</td>\n",
       "      <td>5</td>\n",
       "      <td>1</td>\n",
       "    </tr>\n",
       "  </tbody>\n",
       "</table>\n",
       "</div>"
      ],
      "text/plain": [
       "     Year  MonthDate         Event      DayCategory  ExactYear  Month  Day\n",
       "5    2009 2010-05-01  Mother's Day            Event       2010      5    1\n",
       "6    2009 2025-05-01  Memorial Day  Federal Holiday       2025      5    1\n",
       "23   2010 2009-05-01  Mother's Day            Event       2009      5    1\n",
       "24   2010 1931-05-01  Memorial Day  Federal Holiday       1931      5    1\n",
       "43   2011 2008-05-01  Mother's Day            Event       2008      5    1\n",
       "44   2011 1930-05-01  Memorial Day  Federal Holiday       1930      5    1\n",
       "62   2012 2013-05-01  Mother's Day            Event       2013      5    1\n",
       "63   2012 2028-05-01  Memorial Day  Federal Holiday       2028      5    1\n",
       "79   2013 2012-05-01  Mother's Day            Event       2012      5    1\n",
       "80   2013 2027-05-01  Memorial Day  Federal Holiday       2027      5    1\n",
       "97   2014 2011-05-01  Mother's Day            Event       2011      5    1\n",
       "98   2014 2026-05-01  Memorial Day  Federal Holiday       2026      5    1\n",
       "115  2015 2010-05-01  Mother's Day            Event       2010      5    1\n",
       "116  2015 2025-05-01  Memorial Day  Federal Holiday       2025      5    1\n",
       "134  2016 2008-05-01  Mother's Day            Event       2008      5    1\n",
       "135  2016 1930-05-01  Memorial Day  Federal Holiday       1930      5    1"
      ]
     },
     "execution_count": 99,
     "metadata": {},
     "output_type": "execute_result"
    }
   ],
   "source": [
    "holiday[(holiday['Month']==5) ]"
   ]
  },
  {
   "cell_type": "markdown",
   "metadata": {},
   "source": [
    "Memorial day comes after 100 years so for now we can replace Memorial Day to Mother's day and Day Catergory to event.\n"
   ]
  },
  {
   "cell_type": "code",
   "execution_count": 100,
   "metadata": {},
   "outputs": [],
   "source": [
    "holiday.loc[(holiday['Month']==5),'DayCategory']=holiday.loc[(holiday['Month']==5) ,'DayCategory'].replace({\"Federal Holiday\":\"Event\"})\n",
    "holiday.loc[(holiday['Month']==5),'Event' ]=holiday.loc[(holiday['Month']==5),'Event' ].replace({\"Memorial Day\":\"Mother's Day\"})"
   ]
  },
  {
   "cell_type": "markdown",
   "metadata": {},
   "source": [
    "In months June, July, August and  September the event remains consistent so we do not have to make any changes."
   ]
  },
  {
   "cell_type": "markdown",
   "metadata": {},
   "source": [
    "#### 10. October"
   ]
  },
  {
   "cell_type": "code",
   "execution_count": 101,
   "metadata": {
    "scrolled": true
   },
   "outputs": [
    {
     "data": {
      "text/html": [
       "<div>\n",
       "<style scoped>\n",
       "    .dataframe tbody tr th:only-of-type {\n",
       "        vertical-align: middle;\n",
       "    }\n",
       "\n",
       "    .dataframe tbody tr th {\n",
       "        vertical-align: top;\n",
       "    }\n",
       "\n",
       "    .dataframe thead th {\n",
       "        text-align: right;\n",
       "    }\n",
       "</style>\n",
       "<table border=\"1\" class=\"dataframe\">\n",
       "  <thead>\n",
       "    <tr style=\"text-align: right;\">\n",
       "      <th></th>\n",
       "      <th>Year</th>\n",
       "      <th>MonthDate</th>\n",
       "      <th>Event</th>\n",
       "      <th>DayCategory</th>\n",
       "      <th>ExactYear</th>\n",
       "      <th>Month</th>\n",
       "      <th>Day</th>\n",
       "    </tr>\n",
       "  </thead>\n",
       "  <tbody>\n",
       "    <tr>\n",
       "      <td>11</td>\n",
       "      <td>2009</td>\n",
       "      <td>2012-10-01</td>\n",
       "      <td>Columbus Day (Most regions)</td>\n",
       "      <td>Federal Holiday</td>\n",
       "      <td>2012</td>\n",
       "      <td>10</td>\n",
       "      <td>1</td>\n",
       "    </tr>\n",
       "    <tr>\n",
       "      <td>12</td>\n",
       "      <td>2009</td>\n",
       "      <td>1931-10-01</td>\n",
       "      <td>Halloween</td>\n",
       "      <td>Event</td>\n",
       "      <td>1931</td>\n",
       "      <td>10</td>\n",
       "      <td>1</td>\n",
       "    </tr>\n",
       "    <tr>\n",
       "      <td>29</td>\n",
       "      <td>2010</td>\n",
       "      <td>2011-10-01</td>\n",
       "      <td>Columbus Day (Most regions)</td>\n",
       "      <td>Federal Holiday</td>\n",
       "      <td>2011</td>\n",
       "      <td>10</td>\n",
       "      <td>1</td>\n",
       "    </tr>\n",
       "    <tr>\n",
       "      <td>30</td>\n",
       "      <td>2010</td>\n",
       "      <td>1931-10-01</td>\n",
       "      <td>Halloween</td>\n",
       "      <td>Event</td>\n",
       "      <td>1931</td>\n",
       "      <td>10</td>\n",
       "      <td>1</td>\n",
       "    </tr>\n",
       "    <tr>\n",
       "      <td>48</td>\n",
       "      <td>2011</td>\n",
       "      <td>2010-10-01</td>\n",
       "      <td>Columbus Day (Most regions)</td>\n",
       "      <td>Federal Holiday</td>\n",
       "      <td>2010</td>\n",
       "      <td>10</td>\n",
       "      <td>1</td>\n",
       "    </tr>\n",
       "    <tr>\n",
       "      <td>49</td>\n",
       "      <td>2011</td>\n",
       "      <td>1931-10-01</td>\n",
       "      <td>Halloween</td>\n",
       "      <td>Event</td>\n",
       "      <td>1931</td>\n",
       "      <td>10</td>\n",
       "      <td>1</td>\n",
       "    </tr>\n",
       "    <tr>\n",
       "      <td>67</td>\n",
       "      <td>2012</td>\n",
       "      <td>2008-10-01</td>\n",
       "      <td>Columbus Day (Most regions)</td>\n",
       "      <td>Federal Holiday</td>\n",
       "      <td>2008</td>\n",
       "      <td>10</td>\n",
       "      <td>1</td>\n",
       "    </tr>\n",
       "    <tr>\n",
       "      <td>68</td>\n",
       "      <td>2012</td>\n",
       "      <td>1931-10-01</td>\n",
       "      <td>Halloween</td>\n",
       "      <td>Event</td>\n",
       "      <td>1931</td>\n",
       "      <td>10</td>\n",
       "      <td>1</td>\n",
       "    </tr>\n",
       "    <tr>\n",
       "      <td>84</td>\n",
       "      <td>2013</td>\n",
       "      <td>2014-10-01</td>\n",
       "      <td>Columbus Day (Most regions)</td>\n",
       "      <td>Federal Holiday</td>\n",
       "      <td>2014</td>\n",
       "      <td>10</td>\n",
       "      <td>1</td>\n",
       "    </tr>\n",
       "    <tr>\n",
       "      <td>85</td>\n",
       "      <td>2013</td>\n",
       "      <td>1931-10-01</td>\n",
       "      <td>Halloween</td>\n",
       "      <td>Event</td>\n",
       "      <td>1931</td>\n",
       "      <td>10</td>\n",
       "      <td>1</td>\n",
       "    </tr>\n",
       "    <tr>\n",
       "      <td>102</td>\n",
       "      <td>2014</td>\n",
       "      <td>2013-10-01</td>\n",
       "      <td>Columbus Day (Most regions)</td>\n",
       "      <td>Federal Holiday</td>\n",
       "      <td>2013</td>\n",
       "      <td>10</td>\n",
       "      <td>1</td>\n",
       "    </tr>\n",
       "    <tr>\n",
       "      <td>103</td>\n",
       "      <td>2014</td>\n",
       "      <td>1931-10-01</td>\n",
       "      <td>Halloween</td>\n",
       "      <td>Event</td>\n",
       "      <td>1931</td>\n",
       "      <td>10</td>\n",
       "      <td>1</td>\n",
       "    </tr>\n",
       "    <tr>\n",
       "      <td>121</td>\n",
       "      <td>2015</td>\n",
       "      <td>2012-10-01</td>\n",
       "      <td>Columbus Day (Most regions)</td>\n",
       "      <td>Federal Holiday</td>\n",
       "      <td>2012</td>\n",
       "      <td>10</td>\n",
       "      <td>1</td>\n",
       "    </tr>\n",
       "    <tr>\n",
       "      <td>122</td>\n",
       "      <td>2015</td>\n",
       "      <td>1931-10-01</td>\n",
       "      <td>Halloween</td>\n",
       "      <td>Event</td>\n",
       "      <td>1931</td>\n",
       "      <td>10</td>\n",
       "      <td>1</td>\n",
       "    </tr>\n",
       "    <tr>\n",
       "      <td>139</td>\n",
       "      <td>2016</td>\n",
       "      <td>2010-10-01</td>\n",
       "      <td>Columbus Day (Most regions)</td>\n",
       "      <td>Federal Holiday</td>\n",
       "      <td>2010</td>\n",
       "      <td>10</td>\n",
       "      <td>1</td>\n",
       "    </tr>\n",
       "    <tr>\n",
       "      <td>140</td>\n",
       "      <td>2016</td>\n",
       "      <td>1931-10-01</td>\n",
       "      <td>Halloween</td>\n",
       "      <td>Event</td>\n",
       "      <td>1931</td>\n",
       "      <td>10</td>\n",
       "      <td>1</td>\n",
       "    </tr>\n",
       "  </tbody>\n",
       "</table>\n",
       "</div>"
      ],
      "text/plain": [
       "     Year  MonthDate                        Event      DayCategory  ExactYear  \\\n",
       "11   2009 2012-10-01  Columbus Day (Most regions)  Federal Holiday       2012   \n",
       "12   2009 1931-10-01                    Halloween            Event       1931   \n",
       "29   2010 2011-10-01  Columbus Day (Most regions)  Federal Holiday       2011   \n",
       "30   2010 1931-10-01                    Halloween            Event       1931   \n",
       "48   2011 2010-10-01  Columbus Day (Most regions)  Federal Holiday       2010   \n",
       "49   2011 1931-10-01                    Halloween            Event       1931   \n",
       "67   2012 2008-10-01  Columbus Day (Most regions)  Federal Holiday       2008   \n",
       "68   2012 1931-10-01                    Halloween            Event       1931   \n",
       "84   2013 2014-10-01  Columbus Day (Most regions)  Federal Holiday       2014   \n",
       "85   2013 1931-10-01                    Halloween            Event       1931   \n",
       "102  2014 2013-10-01  Columbus Day (Most regions)  Federal Holiday       2013   \n",
       "103  2014 1931-10-01                    Halloween            Event       1931   \n",
       "121  2015 2012-10-01  Columbus Day (Most regions)  Federal Holiday       2012   \n",
       "122  2015 1931-10-01                    Halloween            Event       1931   \n",
       "139  2016 2010-10-01  Columbus Day (Most regions)  Federal Holiday       2010   \n",
       "140  2016 1931-10-01                    Halloween            Event       1931   \n",
       "\n",
       "     Month  Day  \n",
       "11      10    1  \n",
       "12      10    1  \n",
       "29      10    1  \n",
       "30      10    1  \n",
       "48      10    1  \n",
       "49      10    1  \n",
       "67      10    1  \n",
       "68      10    1  \n",
       "84      10    1  \n",
       "85      10    1  \n",
       "102     10    1  \n",
       "103     10    1  \n",
       "121     10    1  \n",
       "122     10    1  \n",
       "139     10    1  \n",
       "140     10    1  "
      ]
     },
     "execution_count": 101,
     "metadata": {},
     "output_type": "execute_result"
    }
   ],
   "source": [
    "holiday[(holiday['Month']==10)]"
   ]
  },
  {
   "cell_type": "markdown",
   "metadata": {},
   "source": [
    "For the years we are concerned it is Columbus Day (Most regions) and Federal Holiday. It used to be Halloween and Event in 1930's, so we can change Halloween to Columbus day and event to federal holiday.  "
   ]
  },
  {
   "cell_type": "code",
   "execution_count": 102,
   "metadata": {},
   "outputs": [],
   "source": [
    "holiday.loc[(holiday['Month']==10),'DayCategory']=holiday.loc[(holiday['Month']==10) ,'DayCategory'].replace({\"Event\":\"Federal Holiday\"})\n",
    "holiday.loc[(holiday['Month']==10),'Event' ]=holiday.loc[(holiday['Month']==10),'Event' ].replace({\"Halloween\":\"Columbus Day (Most regions)\"})"
   ]
  },
  {
   "cell_type": "markdown",
   "metadata": {},
   "source": [
    "#### 11. November"
   ]
  },
  {
   "cell_type": "code",
   "execution_count": 103,
   "metadata": {},
   "outputs": [
    {
     "data": {
      "text/html": [
       "<div>\n",
       "<style scoped>\n",
       "    .dataframe tbody tr th:only-of-type {\n",
       "        vertical-align: middle;\n",
       "    }\n",
       "\n",
       "    .dataframe tbody tr th {\n",
       "        vertical-align: top;\n",
       "    }\n",
       "\n",
       "    .dataframe thead th {\n",
       "        text-align: right;\n",
       "    }\n",
       "</style>\n",
       "<table border=\"1\" class=\"dataframe\">\n",
       "  <thead>\n",
       "    <tr style=\"text-align: right;\">\n",
       "      <th></th>\n",
       "      <th>Year</th>\n",
       "      <th>MonthDate</th>\n",
       "      <th>Event</th>\n",
       "      <th>DayCategory</th>\n",
       "      <th>ExactYear</th>\n",
       "      <th>Month</th>\n",
       "      <th>Day</th>\n",
       "    </tr>\n",
       "  </thead>\n",
       "  <tbody>\n",
       "    <tr>\n",
       "      <td>13</td>\n",
       "      <td>2009</td>\n",
       "      <td>2011-11-01</td>\n",
       "      <td>Veterans Day</td>\n",
       "      <td>Federal Holiday</td>\n",
       "      <td>2011</td>\n",
       "      <td>11</td>\n",
       "      <td>1</td>\n",
       "    </tr>\n",
       "    <tr>\n",
       "      <td>14</td>\n",
       "      <td>2009</td>\n",
       "      <td>2026-11-01</td>\n",
       "      <td>Thanksgiving Day</td>\n",
       "      <td>Federal Holiday</td>\n",
       "      <td>2026</td>\n",
       "      <td>11</td>\n",
       "      <td>1</td>\n",
       "    </tr>\n",
       "    <tr>\n",
       "      <td>31</td>\n",
       "      <td>2010</td>\n",
       "      <td>2011-11-01</td>\n",
       "      <td>Veterans Day</td>\n",
       "      <td>Federal Holiday</td>\n",
       "      <td>2011</td>\n",
       "      <td>11</td>\n",
       "      <td>1</td>\n",
       "    </tr>\n",
       "    <tr>\n",
       "      <td>32</td>\n",
       "      <td>2010</td>\n",
       "      <td>2025-11-01</td>\n",
       "      <td>Thanksgiving Day</td>\n",
       "      <td>Federal Holiday</td>\n",
       "      <td>2025</td>\n",
       "      <td>11</td>\n",
       "      <td>1</td>\n",
       "    </tr>\n",
       "    <tr>\n",
       "      <td>50</td>\n",
       "      <td>2011</td>\n",
       "      <td>2011-11-01</td>\n",
       "      <td>Veterans Day</td>\n",
       "      <td>Federal Holiday</td>\n",
       "      <td>2011</td>\n",
       "      <td>11</td>\n",
       "      <td>1</td>\n",
       "    </tr>\n",
       "    <tr>\n",
       "      <td>51</td>\n",
       "      <td>2011</td>\n",
       "      <td>2024-11-01</td>\n",
       "      <td>Thanksgiving Day</td>\n",
       "      <td>Federal Holiday</td>\n",
       "      <td>2024</td>\n",
       "      <td>11</td>\n",
       "      <td>1</td>\n",
       "    </tr>\n",
       "    <tr>\n",
       "      <td>69</td>\n",
       "      <td>2012</td>\n",
       "      <td>2006-11-01</td>\n",
       "      <td>Election Day</td>\n",
       "      <td>Event</td>\n",
       "      <td>2006</td>\n",
       "      <td>11</td>\n",
       "      <td>1</td>\n",
       "    </tr>\n",
       "    <tr>\n",
       "      <td>70</td>\n",
       "      <td>2012</td>\n",
       "      <td>2011-11-01</td>\n",
       "      <td>Veterans Day</td>\n",
       "      <td>Federal Holiday</td>\n",
       "      <td>2011</td>\n",
       "      <td>11</td>\n",
       "      <td>1</td>\n",
       "    </tr>\n",
       "    <tr>\n",
       "      <td>71</td>\n",
       "      <td>2012</td>\n",
       "      <td>2022-11-01</td>\n",
       "      <td>Thanksgiving Day</td>\n",
       "      <td>Federal Holiday</td>\n",
       "      <td>2022</td>\n",
       "      <td>11</td>\n",
       "      <td>1</td>\n",
       "    </tr>\n",
       "    <tr>\n",
       "      <td>86</td>\n",
       "      <td>2013</td>\n",
       "      <td>2011-11-01</td>\n",
       "      <td>Veterans Day</td>\n",
       "      <td>Federal Holiday</td>\n",
       "      <td>2011</td>\n",
       "      <td>11</td>\n",
       "      <td>1</td>\n",
       "    </tr>\n",
       "    <tr>\n",
       "      <td>87</td>\n",
       "      <td>2013</td>\n",
       "      <td>2028-11-01</td>\n",
       "      <td>Thanksgiving Day</td>\n",
       "      <td>Federal Holiday</td>\n",
       "      <td>2028</td>\n",
       "      <td>11</td>\n",
       "      <td>1</td>\n",
       "    </tr>\n",
       "    <tr>\n",
       "      <td>104</td>\n",
       "      <td>2014</td>\n",
       "      <td>2011-11-01</td>\n",
       "      <td>Veterans Day</td>\n",
       "      <td>Federal Holiday</td>\n",
       "      <td>2011</td>\n",
       "      <td>11</td>\n",
       "      <td>1</td>\n",
       "    </tr>\n",
       "    <tr>\n",
       "      <td>105</td>\n",
       "      <td>2014</td>\n",
       "      <td>2027-11-01</td>\n",
       "      <td>Thanksgiving Day</td>\n",
       "      <td>Federal Holiday</td>\n",
       "      <td>2027</td>\n",
       "      <td>11</td>\n",
       "      <td>1</td>\n",
       "    </tr>\n",
       "    <tr>\n",
       "      <td>123</td>\n",
       "      <td>2015</td>\n",
       "      <td>2011-11-01</td>\n",
       "      <td>Veterans Day</td>\n",
       "      <td>Federal Holiday</td>\n",
       "      <td>2011</td>\n",
       "      <td>11</td>\n",
       "      <td>1</td>\n",
       "    </tr>\n",
       "    <tr>\n",
       "      <td>124</td>\n",
       "      <td>2015</td>\n",
       "      <td>2026-11-01</td>\n",
       "      <td>Thanksgiving Day</td>\n",
       "      <td>Federal Holiday</td>\n",
       "      <td>2026</td>\n",
       "      <td>11</td>\n",
       "      <td>1</td>\n",
       "    </tr>\n",
       "    <tr>\n",
       "      <td>141</td>\n",
       "      <td>2016</td>\n",
       "      <td>2008-11-01</td>\n",
       "      <td>Election Day</td>\n",
       "      <td>Event</td>\n",
       "      <td>2008</td>\n",
       "      <td>11</td>\n",
       "      <td>1</td>\n",
       "    </tr>\n",
       "    <tr>\n",
       "      <td>142</td>\n",
       "      <td>2016</td>\n",
       "      <td>2011-11-01</td>\n",
       "      <td>Veterans Day</td>\n",
       "      <td>Federal Holiday</td>\n",
       "      <td>2011</td>\n",
       "      <td>11</td>\n",
       "      <td>1</td>\n",
       "    </tr>\n",
       "    <tr>\n",
       "      <td>143</td>\n",
       "      <td>2016</td>\n",
       "      <td>2024-11-01</td>\n",
       "      <td>Thanksgiving Day</td>\n",
       "      <td>Federal Holiday</td>\n",
       "      <td>2024</td>\n",
       "      <td>11</td>\n",
       "      <td>1</td>\n",
       "    </tr>\n",
       "  </tbody>\n",
       "</table>\n",
       "</div>"
      ],
      "text/plain": [
       "     Year  MonthDate             Event      DayCategory  ExactYear  Month  Day\n",
       "13   2009 2011-11-01      Veterans Day  Federal Holiday       2011     11    1\n",
       "14   2009 2026-11-01  Thanksgiving Day  Federal Holiday       2026     11    1\n",
       "31   2010 2011-11-01      Veterans Day  Federal Holiday       2011     11    1\n",
       "32   2010 2025-11-01  Thanksgiving Day  Federal Holiday       2025     11    1\n",
       "50   2011 2011-11-01      Veterans Day  Federal Holiday       2011     11    1\n",
       "51   2011 2024-11-01  Thanksgiving Day  Federal Holiday       2024     11    1\n",
       "69   2012 2006-11-01      Election Day            Event       2006     11    1\n",
       "70   2012 2011-11-01      Veterans Day  Federal Holiday       2011     11    1\n",
       "71   2012 2022-11-01  Thanksgiving Day  Federal Holiday       2022     11    1\n",
       "86   2013 2011-11-01      Veterans Day  Federal Holiday       2011     11    1\n",
       "87   2013 2028-11-01  Thanksgiving Day  Federal Holiday       2028     11    1\n",
       "104  2014 2011-11-01      Veterans Day  Federal Holiday       2011     11    1\n",
       "105  2014 2027-11-01  Thanksgiving Day  Federal Holiday       2027     11    1\n",
       "123  2015 2011-11-01      Veterans Day  Federal Holiday       2011     11    1\n",
       "124  2015 2026-11-01  Thanksgiving Day  Federal Holiday       2026     11    1\n",
       "141  2016 2008-11-01      Election Day            Event       2008     11    1\n",
       "142  2016 2011-11-01      Veterans Day  Federal Holiday       2011     11    1\n",
       "143  2016 2024-11-01  Thanksgiving Day  Federal Holiday       2024     11    1"
      ]
     },
     "execution_count": 103,
     "metadata": {},
     "output_type": "execute_result"
    }
   ],
   "source": [
    "holiday[(holiday['Month']==11)]"
   ]
  },
  {
   "cell_type": "code",
   "execution_count": 104,
   "metadata": {},
   "outputs": [],
   "source": [
    "holiday.loc[(holiday['Month']==11),'Event' ]=holiday.loc[(holiday['Month']==11),'Event' ].replace({\"Election Day\":\"Thanksgiving Day\",\"Veterans Day\":\"Thanksgiving Day\"})\n",
    "holiday.loc[(holiday['Month']==11) ,'DayCategory']=holiday.loc[(holiday['Month']==11) ,'DayCategory'].replace({\"Event\":\"Federal Holiday\"})"
   ]
  },
  {
   "cell_type": "markdown",
   "metadata": {},
   "source": [
    "#### 12. December"
   ]
  },
  {
   "cell_type": "code",
   "execution_count": 105,
   "metadata": {
    "scrolled": true
   },
   "outputs": [
    {
     "data": {
      "text/html": [
       "<div>\n",
       "<style scoped>\n",
       "    .dataframe tbody tr th:only-of-type {\n",
       "        vertical-align: middle;\n",
       "    }\n",
       "\n",
       "    .dataframe tbody tr th {\n",
       "        vertical-align: top;\n",
       "    }\n",
       "\n",
       "    .dataframe thead th {\n",
       "        text-align: right;\n",
       "    }\n",
       "</style>\n",
       "<table border=\"1\" class=\"dataframe\">\n",
       "  <thead>\n",
       "    <tr style=\"text-align: right;\">\n",
       "      <th></th>\n",
       "      <th>Year</th>\n",
       "      <th>MonthDate</th>\n",
       "      <th>Event</th>\n",
       "      <th>DayCategory</th>\n",
       "      <th>ExactYear</th>\n",
       "      <th>Month</th>\n",
       "      <th>Day</th>\n",
       "    </tr>\n",
       "  </thead>\n",
       "  <tbody>\n",
       "    <tr>\n",
       "      <td>15</td>\n",
       "      <td>2009</td>\n",
       "      <td>2024-12-01</td>\n",
       "      <td>Christmas Eve</td>\n",
       "      <td>Event</td>\n",
       "      <td>2024</td>\n",
       "      <td>12</td>\n",
       "      <td>1</td>\n",
       "    </tr>\n",
       "    <tr>\n",
       "      <td>16</td>\n",
       "      <td>2009</td>\n",
       "      <td>2025-12-01</td>\n",
       "      <td>Christmas Day</td>\n",
       "      <td>Federal Holiday</td>\n",
       "      <td>2025</td>\n",
       "      <td>12</td>\n",
       "      <td>1</td>\n",
       "    </tr>\n",
       "    <tr>\n",
       "      <td>17</td>\n",
       "      <td>2009</td>\n",
       "      <td>1931-12-01</td>\n",
       "      <td>New Year's Eve</td>\n",
       "      <td>Event</td>\n",
       "      <td>1931</td>\n",
       "      <td>12</td>\n",
       "      <td>1</td>\n",
       "    </tr>\n",
       "    <tr>\n",
       "      <td>33</td>\n",
       "      <td>2010</td>\n",
       "      <td>2024-12-01</td>\n",
       "      <td>Christmas Day</td>\n",
       "      <td>Federal Holiday</td>\n",
       "      <td>2024</td>\n",
       "      <td>12</td>\n",
       "      <td>1</td>\n",
       "    </tr>\n",
       "    <tr>\n",
       "      <td>34</td>\n",
       "      <td>2010</td>\n",
       "      <td>2024-12-01</td>\n",
       "      <td>Christmas Eve</td>\n",
       "      <td>Event</td>\n",
       "      <td>2024</td>\n",
       "      <td>12</td>\n",
       "      <td>1</td>\n",
       "    </tr>\n",
       "    <tr>\n",
       "      <td>35</td>\n",
       "      <td>2010</td>\n",
       "      <td>2025-12-01</td>\n",
       "      <td>Christmas Day</td>\n",
       "      <td>Federal Holiday</td>\n",
       "      <td>2025</td>\n",
       "      <td>12</td>\n",
       "      <td>1</td>\n",
       "    </tr>\n",
       "    <tr>\n",
       "      <td>36</td>\n",
       "      <td>2010</td>\n",
       "      <td>1931-12-01</td>\n",
       "      <td>New Year's Day</td>\n",
       "      <td>Federal Holiday</td>\n",
       "      <td>1931</td>\n",
       "      <td>12</td>\n",
       "      <td>1</td>\n",
       "    </tr>\n",
       "    <tr>\n",
       "      <td>37</td>\n",
       "      <td>2010</td>\n",
       "      <td>1931-12-01</td>\n",
       "      <td>New Year's Eve</td>\n",
       "      <td>Event</td>\n",
       "      <td>1931</td>\n",
       "      <td>12</td>\n",
       "      <td>1</td>\n",
       "    </tr>\n",
       "    <tr>\n",
       "      <td>52</td>\n",
       "      <td>2011</td>\n",
       "      <td>2024-12-01</td>\n",
       "      <td>Christmas Eve</td>\n",
       "      <td>Event</td>\n",
       "      <td>2024</td>\n",
       "      <td>12</td>\n",
       "      <td>1</td>\n",
       "    </tr>\n",
       "    <tr>\n",
       "      <td>53</td>\n",
       "      <td>2011</td>\n",
       "      <td>2025-12-01</td>\n",
       "      <td>Christmas Day</td>\n",
       "      <td>Federal Holiday</td>\n",
       "      <td>2025</td>\n",
       "      <td>12</td>\n",
       "      <td>1</td>\n",
       "    </tr>\n",
       "    <tr>\n",
       "      <td>54</td>\n",
       "      <td>2011</td>\n",
       "      <td>2026-12-01</td>\n",
       "      <td>Christmas Day</td>\n",
       "      <td>Federal Holiday</td>\n",
       "      <td>2026</td>\n",
       "      <td>12</td>\n",
       "      <td>1</td>\n",
       "    </tr>\n",
       "    <tr>\n",
       "      <td>55</td>\n",
       "      <td>2011</td>\n",
       "      <td>1931-12-01</td>\n",
       "      <td>New Year's Eve</td>\n",
       "      <td>Event</td>\n",
       "      <td>1931</td>\n",
       "      <td>12</td>\n",
       "      <td>1</td>\n",
       "    </tr>\n",
       "    <tr>\n",
       "      <td>72</td>\n",
       "      <td>2012</td>\n",
       "      <td>2024-12-01</td>\n",
       "      <td>Christmas Eve</td>\n",
       "      <td>Event</td>\n",
       "      <td>2024</td>\n",
       "      <td>12</td>\n",
       "      <td>1</td>\n",
       "    </tr>\n",
       "    <tr>\n",
       "      <td>73</td>\n",
       "      <td>2012</td>\n",
       "      <td>2025-12-01</td>\n",
       "      <td>Christmas Day</td>\n",
       "      <td>Federal Holiday</td>\n",
       "      <td>2025</td>\n",
       "      <td>12</td>\n",
       "      <td>1</td>\n",
       "    </tr>\n",
       "    <tr>\n",
       "      <td>74</td>\n",
       "      <td>2012</td>\n",
       "      <td>1931-12-01</td>\n",
       "      <td>New Year's Eve</td>\n",
       "      <td>Event</td>\n",
       "      <td>1931</td>\n",
       "      <td>12</td>\n",
       "      <td>1</td>\n",
       "    </tr>\n",
       "    <tr>\n",
       "      <td>88</td>\n",
       "      <td>2013</td>\n",
       "      <td>2024-12-01</td>\n",
       "      <td>Christmas Eve</td>\n",
       "      <td>Event</td>\n",
       "      <td>2024</td>\n",
       "      <td>12</td>\n",
       "      <td>1</td>\n",
       "    </tr>\n",
       "    <tr>\n",
       "      <td>89</td>\n",
       "      <td>2013</td>\n",
       "      <td>2025-12-01</td>\n",
       "      <td>Christmas Day</td>\n",
       "      <td>Federal Holiday</td>\n",
       "      <td>2025</td>\n",
       "      <td>12</td>\n",
       "      <td>1</td>\n",
       "    </tr>\n",
       "    <tr>\n",
       "      <td>90</td>\n",
       "      <td>2013</td>\n",
       "      <td>1931-12-01</td>\n",
       "      <td>New Year's Eve</td>\n",
       "      <td>Event</td>\n",
       "      <td>1931</td>\n",
       "      <td>12</td>\n",
       "      <td>1</td>\n",
       "    </tr>\n",
       "    <tr>\n",
       "      <td>106</td>\n",
       "      <td>2014</td>\n",
       "      <td>2024-12-01</td>\n",
       "      <td>Christmas Eve</td>\n",
       "      <td>Event</td>\n",
       "      <td>2024</td>\n",
       "      <td>12</td>\n",
       "      <td>1</td>\n",
       "    </tr>\n",
       "    <tr>\n",
       "      <td>107</td>\n",
       "      <td>2014</td>\n",
       "      <td>2025-12-01</td>\n",
       "      <td>Christmas Day</td>\n",
       "      <td>Federal Holiday</td>\n",
       "      <td>2025</td>\n",
       "      <td>12</td>\n",
       "      <td>1</td>\n",
       "    </tr>\n",
       "    <tr>\n",
       "      <td>108</td>\n",
       "      <td>2014</td>\n",
       "      <td>1931-12-01</td>\n",
       "      <td>New Year's Eve</td>\n",
       "      <td>Event</td>\n",
       "      <td>1931</td>\n",
       "      <td>12</td>\n",
       "      <td>1</td>\n",
       "    </tr>\n",
       "    <tr>\n",
       "      <td>125</td>\n",
       "      <td>2015</td>\n",
       "      <td>2024-12-01</td>\n",
       "      <td>Christmas Eve</td>\n",
       "      <td>Event</td>\n",
       "      <td>2024</td>\n",
       "      <td>12</td>\n",
       "      <td>1</td>\n",
       "    </tr>\n",
       "    <tr>\n",
       "      <td>126</td>\n",
       "      <td>2015</td>\n",
       "      <td>2025-12-01</td>\n",
       "      <td>Christmas Day</td>\n",
       "      <td>Federal Holiday</td>\n",
       "      <td>2025</td>\n",
       "      <td>12</td>\n",
       "      <td>1</td>\n",
       "    </tr>\n",
       "    <tr>\n",
       "      <td>127</td>\n",
       "      <td>2015</td>\n",
       "      <td>2026-12-01</td>\n",
       "      <td>Christmas Day</td>\n",
       "      <td>Event</td>\n",
       "      <td>2026</td>\n",
       "      <td>12</td>\n",
       "      <td>1</td>\n",
       "    </tr>\n",
       "    <tr>\n",
       "      <td>128</td>\n",
       "      <td>2015</td>\n",
       "      <td>1931-12-01</td>\n",
       "      <td>New Year's Eve</td>\n",
       "      <td>Event</td>\n",
       "      <td>1931</td>\n",
       "      <td>12</td>\n",
       "      <td>1</td>\n",
       "    </tr>\n",
       "    <tr>\n",
       "      <td>144</td>\n",
       "      <td>2016</td>\n",
       "      <td>2024-12-01</td>\n",
       "      <td>Christmas Eve</td>\n",
       "      <td>Event</td>\n",
       "      <td>2024</td>\n",
       "      <td>12</td>\n",
       "      <td>1</td>\n",
       "    </tr>\n",
       "    <tr>\n",
       "      <td>145</td>\n",
       "      <td>2016</td>\n",
       "      <td>2025-12-01</td>\n",
       "      <td>Christmas Day</td>\n",
       "      <td>Federal Holiday</td>\n",
       "      <td>2025</td>\n",
       "      <td>12</td>\n",
       "      <td>1</td>\n",
       "    </tr>\n",
       "    <tr>\n",
       "      <td>146</td>\n",
       "      <td>2016</td>\n",
       "      <td>2026-12-01</td>\n",
       "      <td>Christmas Day</td>\n",
       "      <td>Federal Holiday</td>\n",
       "      <td>2026</td>\n",
       "      <td>12</td>\n",
       "      <td>1</td>\n",
       "    </tr>\n",
       "    <tr>\n",
       "      <td>147</td>\n",
       "      <td>2016</td>\n",
       "      <td>1931-12-01</td>\n",
       "      <td>New Year's Eve</td>\n",
       "      <td>Event</td>\n",
       "      <td>1931</td>\n",
       "      <td>12</td>\n",
       "      <td>1</td>\n",
       "    </tr>\n",
       "  </tbody>\n",
       "</table>\n",
       "</div>"
      ],
      "text/plain": [
       "     Year  MonthDate           Event      DayCategory  ExactYear  Month  Day\n",
       "15   2009 2024-12-01   Christmas Eve            Event       2024     12    1\n",
       "16   2009 2025-12-01   Christmas Day  Federal Holiday       2025     12    1\n",
       "17   2009 1931-12-01  New Year's Eve            Event       1931     12    1\n",
       "33   2010 2024-12-01   Christmas Day  Federal Holiday       2024     12    1\n",
       "34   2010 2024-12-01   Christmas Eve            Event       2024     12    1\n",
       "35   2010 2025-12-01   Christmas Day  Federal Holiday       2025     12    1\n",
       "36   2010 1931-12-01  New Year's Day  Federal Holiday       1931     12    1\n",
       "37   2010 1931-12-01  New Year's Eve            Event       1931     12    1\n",
       "52   2011 2024-12-01   Christmas Eve            Event       2024     12    1\n",
       "53   2011 2025-12-01   Christmas Day  Federal Holiday       2025     12    1\n",
       "54   2011 2026-12-01   Christmas Day  Federal Holiday       2026     12    1\n",
       "55   2011 1931-12-01  New Year's Eve            Event       1931     12    1\n",
       "72   2012 2024-12-01   Christmas Eve            Event       2024     12    1\n",
       "73   2012 2025-12-01   Christmas Day  Federal Holiday       2025     12    1\n",
       "74   2012 1931-12-01  New Year's Eve            Event       1931     12    1\n",
       "88   2013 2024-12-01   Christmas Eve            Event       2024     12    1\n",
       "89   2013 2025-12-01   Christmas Day  Federal Holiday       2025     12    1\n",
       "90   2013 1931-12-01  New Year's Eve            Event       1931     12    1\n",
       "106  2014 2024-12-01   Christmas Eve            Event       2024     12    1\n",
       "107  2014 2025-12-01   Christmas Day  Federal Holiday       2025     12    1\n",
       "108  2014 1931-12-01  New Year's Eve            Event       1931     12    1\n",
       "125  2015 2024-12-01   Christmas Eve            Event       2024     12    1\n",
       "126  2015 2025-12-01   Christmas Day  Federal Holiday       2025     12    1\n",
       "127  2015 2026-12-01   Christmas Day            Event       2026     12    1\n",
       "128  2015 1931-12-01  New Year's Eve            Event       1931     12    1\n",
       "144  2016 2024-12-01   Christmas Eve            Event       2024     12    1\n",
       "145  2016 2025-12-01   Christmas Day  Federal Holiday       2025     12    1\n",
       "146  2016 2026-12-01   Christmas Day  Federal Holiday       2026     12    1\n",
       "147  2016 1931-12-01  New Year's Eve            Event       1931     12    1"
      ]
     },
     "execution_count": 105,
     "metadata": {},
     "output_type": "execute_result"
    }
   ],
   "source": [
    "holiday[(holiday['Month']==12)]"
   ]
  },
  {
   "cell_type": "code",
   "execution_count": 106,
   "metadata": {},
   "outputs": [],
   "source": [
    "holiday.loc[(holiday['Month']==12),'Event' ]=holiday.loc[(holiday['Month']==12),'Event' ].replace({\"Christmas Day\":\"Christmas_new_year\",\"Christmas Eve\":\"Christmas_new_year\",\"New Year's Eve\":\"Christmas_new_year\"})\n",
    "holiday.loc[(holiday['Month']==12) ,'DayCategory']=holiday.loc[(holiday['Month']==12) ,'DayCategory'].replace({\"Event\":\"Federal Holiday\"})"
   ]
  },
  {
   "cell_type": "markdown",
   "metadata": {},
   "source": [
    "Since the day remains the same (1) and the we have already made use of the Exact Year we can remove those columns."
   ]
  },
  {
   "cell_type": "code",
   "execution_count": 107,
   "metadata": {
    "scrolled": false
   },
   "outputs": [],
   "source": [
    "holiday=holiday.drop(['Day','ExactYear','MonthDate'],axis=1)"
   ]
  },
  {
   "cell_type": "code",
   "execution_count": 108,
   "metadata": {},
   "outputs": [
    {
     "data": {
      "text/html": [
       "<div>\n",
       "<style scoped>\n",
       "    .dataframe tbody tr th:only-of-type {\n",
       "        vertical-align: middle;\n",
       "    }\n",
       "\n",
       "    .dataframe tbody tr th {\n",
       "        vertical-align: top;\n",
       "    }\n",
       "\n",
       "    .dataframe thead th {\n",
       "        text-align: right;\n",
       "    }\n",
       "</style>\n",
       "<table border=\"1\" class=\"dataframe\">\n",
       "  <thead>\n",
       "    <tr style=\"text-align: right;\">\n",
       "      <th></th>\n",
       "      <th>Year</th>\n",
       "      <th>Month</th>\n",
       "      <th>Event</th>\n",
       "      <th>DayCategory</th>\n",
       "    </tr>\n",
       "  </thead>\n",
       "  <tbody>\n",
       "    <tr>\n",
       "      <td>0</td>\n",
       "      <td>2009</td>\n",
       "      <td>1</td>\n",
       "      <td>New Year's Day</td>\n",
       "      <td>Federal Holiday</td>\n",
       "    </tr>\n",
       "    <tr>\n",
       "      <td>1</td>\n",
       "      <td>2009</td>\n",
       "      <td>2</td>\n",
       "      <td>Valentine's Day</td>\n",
       "      <td>Event</td>\n",
       "    </tr>\n",
       "    <tr>\n",
       "      <td>2</td>\n",
       "      <td>2009</td>\n",
       "      <td>4</td>\n",
       "      <td>Easter Sunday</td>\n",
       "      <td>Event</td>\n",
       "    </tr>\n",
       "    <tr>\n",
       "      <td>3</td>\n",
       "      <td>2009</td>\n",
       "      <td>5</td>\n",
       "      <td>Mother's Day</td>\n",
       "      <td>Event</td>\n",
       "    </tr>\n",
       "    <tr>\n",
       "      <td>4</td>\n",
       "      <td>2009</td>\n",
       "      <td>6</td>\n",
       "      <td>Father's Day</td>\n",
       "      <td>Event</td>\n",
       "    </tr>\n",
       "    <tr>\n",
       "      <td>5</td>\n",
       "      <td>2009</td>\n",
       "      <td>7</td>\n",
       "      <td>Independence Day</td>\n",
       "      <td>Federal Holiday</td>\n",
       "    </tr>\n",
       "    <tr>\n",
       "      <td>6</td>\n",
       "      <td>2009</td>\n",
       "      <td>9</td>\n",
       "      <td>Labor Day</td>\n",
       "      <td>Federal Holiday</td>\n",
       "    </tr>\n",
       "    <tr>\n",
       "      <td>7</td>\n",
       "      <td>2009</td>\n",
       "      <td>10</td>\n",
       "      <td>Columbus Day (Most regions)</td>\n",
       "      <td>Federal Holiday</td>\n",
       "    </tr>\n",
       "    <tr>\n",
       "      <td>8</td>\n",
       "      <td>2009</td>\n",
       "      <td>11</td>\n",
       "      <td>Thanksgiving Day</td>\n",
       "      <td>Federal Holiday</td>\n",
       "    </tr>\n",
       "    <tr>\n",
       "      <td>9</td>\n",
       "      <td>2009</td>\n",
       "      <td>12</td>\n",
       "      <td>Christmas_new_year</td>\n",
       "      <td>Federal Holiday</td>\n",
       "    </tr>\n",
       "    <tr>\n",
       "      <td>10</td>\n",
       "      <td>2010</td>\n",
       "      <td>1</td>\n",
       "      <td>New Year's Day</td>\n",
       "      <td>Federal Holiday</td>\n",
       "    </tr>\n",
       "    <tr>\n",
       "      <td>11</td>\n",
       "      <td>2010</td>\n",
       "      <td>2</td>\n",
       "      <td>Valentine's Day</td>\n",
       "      <td>Event</td>\n",
       "    </tr>\n",
       "  </tbody>\n",
       "</table>\n",
       "</div>"
      ],
      "text/plain": [
       "    Year  Month                        Event      DayCategory\n",
       "0   2009      1               New Year's Day  Federal Holiday\n",
       "1   2009      2              Valentine's Day            Event\n",
       "2   2009      4                Easter Sunday            Event\n",
       "3   2009      5                 Mother's Day            Event\n",
       "4   2009      6                 Father's Day            Event\n",
       "5   2009      7             Independence Day  Federal Holiday\n",
       "6   2009      9                    Labor Day  Federal Holiday\n",
       "7   2009     10  Columbus Day (Most regions)  Federal Holiday\n",
       "8   2009     11             Thanksgiving Day  Federal Holiday\n",
       "9   2009     12           Christmas_new_year  Federal Holiday\n",
       "10  2010      1               New Year's Day  Federal Holiday\n",
       "11  2010      2              Valentine's Day            Event"
      ]
     },
     "execution_count": 108,
     "metadata": {},
     "output_type": "execute_result"
    }
   ],
   "source": [
    "holiday=holiday.groupby(['Year','Month']).agg(lambda x:x.value_counts().index[0])\n",
    "holiday.reset_index(inplace=True)\n",
    "holiday[0:12]"
   ]
  },
  {
   "cell_type": "code",
   "execution_count": 109,
   "metadata": {},
   "outputs": [],
   "source": [
    "# Since the Event will be the same every year and every month we can remove that as well.\n",
    "holiday=holiday.drop(['Event'],axis=1)"
   ]
  },
  {
   "cell_type": "code",
   "execution_count": 110,
   "metadata": {},
   "outputs": [],
   "source": [
    "# Converting into numerical data\n",
    "holiday=pd.get_dummies(holiday,drop_first=True)"
   ]
  },
  {
   "cell_type": "code",
   "execution_count": 111,
   "metadata": {
    "scrolled": true
   },
   "outputs": [
    {
     "data": {
      "text/plain": [
       "(80, 3)"
      ]
     },
     "execution_count": 111,
     "metadata": {},
     "output_type": "execute_result"
    }
   ],
   "source": [
    "holiday.shape"
   ]
  },
  {
   "cell_type": "markdown",
   "metadata": {},
   "source": [
    "### 4. Macro Economic Dataset"
   ]
  },
  {
   "cell_type": "code",
   "execution_count": 112,
   "metadata": {
    "scrolled": false
   },
   "outputs": [
    {
     "data": {
      "text/html": [
       "<div>\n",
       "<style scoped>\n",
       "    .dataframe tbody tr th:only-of-type {\n",
       "        vertical-align: middle;\n",
       "    }\n",
       "\n",
       "    .dataframe tbody tr th {\n",
       "        vertical-align: top;\n",
       "    }\n",
       "\n",
       "    .dataframe thead th {\n",
       "        text-align: right;\n",
       "    }\n",
       "</style>\n",
       "<table border=\"1\" class=\"dataframe\">\n",
       "  <thead>\n",
       "    <tr style=\"text-align: right;\">\n",
       "      <th></th>\n",
       "      <th>Year-Month</th>\n",
       "      <th>Monthly Nominal GDP Index (inMillion$)</th>\n",
       "      <th>Monthly Real GDP Index (inMillion$)</th>\n",
       "      <th>CPI</th>\n",
       "      <th>PartyInPower</th>\n",
       "      <th>unemployment rate</th>\n",
       "      <th>CommercialBankInterestRateonCreditCardPlans</th>\n",
       "      <th>Finance Rate on Personal Loans at Commercial Banks, 24 Month Loan</th>\n",
       "      <th>Earnings or wages  in dollars per hour</th>\n",
       "      <th>AdvertisingExpenses (in Thousand Dollars)</th>\n",
       "      <th>Cotton Monthly Price - US cents per Pound(lbs)</th>\n",
       "      <th>Change(in%)</th>\n",
       "      <th>Average upland planted(million acres)</th>\n",
       "      <th>Average upland harvested(million acres)</th>\n",
       "      <th>yieldperharvested acre</th>\n",
       "      <th>Production (in  480-lb netweright in million bales)</th>\n",
       "      <th>Mill use  (in  480-lb netweright in million bales)</th>\n",
       "      <th>Exports</th>\n",
       "    </tr>\n",
       "  </thead>\n",
       "  <tbody>\n",
       "    <tr>\n",
       "      <td>0</td>\n",
       "      <td>2009 - Jan</td>\n",
       "      <td>14421.752895</td>\n",
       "      <td>14407.053343</td>\n",
       "      <td>233.402</td>\n",
       "      <td>Democrats</td>\n",
       "      <td>7.8</td>\n",
       "      <td>12.03</td>\n",
       "      <td>11.44</td>\n",
       "      <td>22.05</td>\n",
       "      <td>137</td>\n",
       "      <td>57.70</td>\n",
       "      <td>4.02</td>\n",
       "      <td>9.296</td>\n",
       "      <td>7.559</td>\n",
       "      <td>799</td>\n",
       "      <td>12.589</td>\n",
       "      <td>4.17</td>\n",
       "      <td>11.550</td>\n",
       "    </tr>\n",
       "    <tr>\n",
       "      <td>1</td>\n",
       "      <td>2009 - Feb</td>\n",
       "      <td>14389.200466</td>\n",
       "      <td>14366.176571</td>\n",
       "      <td>234.663</td>\n",
       "      <td>Democrats</td>\n",
       "      <td>8.3</td>\n",
       "      <td>12.97</td>\n",
       "      <td>11.05</td>\n",
       "      <td>22.22</td>\n",
       "      <td>200</td>\n",
       "      <td>55.21</td>\n",
       "      <td>-4.32</td>\n",
       "      <td>9.296</td>\n",
       "      <td>7.559</td>\n",
       "      <td>799</td>\n",
       "      <td>12.589</td>\n",
       "      <td>3.87</td>\n",
       "      <td>11.100</td>\n",
       "    </tr>\n",
       "    <tr>\n",
       "      <td>2</td>\n",
       "      <td>2009 - Mar</td>\n",
       "      <td>14340.701639</td>\n",
       "      <td>14351.786822</td>\n",
       "      <td>235.067</td>\n",
       "      <td>Democrats</td>\n",
       "      <td>8.7</td>\n",
       "      <td>12.97</td>\n",
       "      <td>11.05</td>\n",
       "      <td>22.22</td>\n",
       "      <td>?</td>\n",
       "      <td>51.50</td>\n",
       "      <td>-6.72</td>\n",
       "      <td>9.296</td>\n",
       "      <td>7.559</td>\n",
       "      <td>799</td>\n",
       "      <td>12.589</td>\n",
       "      <td>3.72</td>\n",
       "      <td>11.650</td>\n",
       "    </tr>\n",
       "    <tr>\n",
       "      <td>3</td>\n",
       "      <td>2009 - Apr</td>\n",
       "      <td>14326.815525</td>\n",
       "      <td>14351.601731</td>\n",
       "      <td>235.582</td>\n",
       "      <td>Democrats</td>\n",
       "      <td>9.0</td>\n",
       "      <td>12.97</td>\n",
       "      <td>11.05</td>\n",
       "      <td>22.13</td>\n",
       "      <td>214</td>\n",
       "      <td>56.78</td>\n",
       "      <td>10.25</td>\n",
       "      <td>9.296</td>\n",
       "      <td>7.559</td>\n",
       "      <td>787</td>\n",
       "      <td>12.400</td>\n",
       "      <td>3.62</td>\n",
       "      <td>12.225</td>\n",
       "    </tr>\n",
       "    <tr>\n",
       "      <td>4</td>\n",
       "      <td>2009 - May</td>\n",
       "      <td>14345.904809</td>\n",
       "      <td>14368.123959</td>\n",
       "      <td>235.975</td>\n",
       "      <td>Democrats</td>\n",
       "      <td>9.4</td>\n",
       "      <td>13.32</td>\n",
       "      <td>11.25</td>\n",
       "      <td>22.04</td>\n",
       "      <td>?</td>\n",
       "      <td>61.95</td>\n",
       "      <td>9.11</td>\n",
       "      <td>9.297</td>\n",
       "      <td>7.400</td>\n",
       "      <td>803</td>\n",
       "      <td>12.384</td>\n",
       "      <td>3.52</td>\n",
       "      <td>12.300</td>\n",
       "    </tr>\n",
       "  </tbody>\n",
       "</table>\n",
       "</div>"
      ],
      "text/plain": [
       "   Year-Month  Monthly Nominal GDP Index (inMillion$)  \\\n",
       "0  2009 - Jan                            14421.752895   \n",
       "1  2009 - Feb                            14389.200466   \n",
       "2  2009 - Mar                            14340.701639   \n",
       "3  2009 - Apr                            14326.815525   \n",
       "4  2009 - May                            14345.904809   \n",
       "\n",
       "   Monthly Real GDP Index (inMillion$)      CPI PartyInPower  \\\n",
       "0                         14407.053343  233.402    Democrats   \n",
       "1                         14366.176571  234.663    Democrats   \n",
       "2                         14351.786822  235.067    Democrats   \n",
       "3                         14351.601731  235.582    Democrats   \n",
       "4                         14368.123959  235.975    Democrats   \n",
       "\n",
       "   unemployment rate  CommercialBankInterestRateonCreditCardPlans  \\\n",
       "0                7.8                                        12.03   \n",
       "1                8.3                                        12.97   \n",
       "2                8.7                                        12.97   \n",
       "3                9.0                                        12.97   \n",
       "4                9.4                                        13.32   \n",
       "\n",
       "   Finance Rate on Personal Loans at Commercial Banks, 24 Month Loan  \\\n",
       "0                                              11.44                   \n",
       "1                                              11.05                   \n",
       "2                                              11.05                   \n",
       "3                                              11.05                   \n",
       "4                                              11.25                   \n",
       "\n",
       "   Earnings or wages  in dollars per hour  \\\n",
       "0                                   22.05   \n",
       "1                                   22.22   \n",
       "2                                   22.22   \n",
       "3                                   22.13   \n",
       "4                                   22.04   \n",
       "\n",
       "  AdvertisingExpenses (in Thousand Dollars)  \\\n",
       "0                                       137   \n",
       "1                                       200   \n",
       "2                                         ?   \n",
       "3                                       214   \n",
       "4                                         ?   \n",
       "\n",
       "   Cotton Monthly Price - US cents per Pound(lbs)  Change(in%)  \\\n",
       "0                                           57.70         4.02   \n",
       "1                                           55.21        -4.32   \n",
       "2                                           51.50        -6.72   \n",
       "3                                           56.78        10.25   \n",
       "4                                           61.95         9.11   \n",
       "\n",
       "   Average upland planted(million acres)  \\\n",
       "0                                  9.296   \n",
       "1                                  9.296   \n",
       "2                                  9.296   \n",
       "3                                  9.296   \n",
       "4                                  9.297   \n",
       "\n",
       "   Average upland harvested(million acres)  yieldperharvested acre  \\\n",
       "0                                    7.559                     799   \n",
       "1                                    7.559                     799   \n",
       "2                                    7.559                     799   \n",
       "3                                    7.559                     787   \n",
       "4                                    7.400                     803   \n",
       "\n",
       "   Production (in  480-lb netweright in million bales)  \\\n",
       "0                                             12.589     \n",
       "1                                             12.589     \n",
       "2                                             12.589     \n",
       "3                                             12.400     \n",
       "4                                             12.384     \n",
       "\n",
       "   Mill use  (in  480-lb netweright in million bales)  Exports  \n",
       "0                                               4.17    11.550  \n",
       "1                                               3.87    11.100  \n",
       "2                                               3.72    11.650  \n",
       "3                                               3.62    12.225  \n",
       "4                                               3.52    12.300  "
      ]
     },
     "execution_count": 112,
     "metadata": {},
     "output_type": "execute_result"
    }
   ],
   "source": [
    "macro=pd.read_excel('macro_economic.xlsx')\n",
    "macro.head()"
   ]
  },
  {
   "cell_type": "markdown",
   "metadata": {},
   "source": [
    "Real GDP is nominal GDP divided by the deflator, we can combine the information of real and nominal GDP into a new feature by taking their ratio. That is deflator= Nominal GDP/ Real GDP."
   ]
  },
  {
   "cell_type": "code",
   "execution_count": 113,
   "metadata": {},
   "outputs": [],
   "source": [
    "macro['GDP_Deflator']=(macro['Monthly Nominal GDP Index (inMillion$)']/macro['Monthly Real GDP Index (inMillion$)'])\n",
    "macro=macro.drop(['Monthly Nominal GDP Index (inMillion$)','Monthly Real GDP Index (inMillion$)'],axis=1)"
   ]
  },
  {
   "cell_type": "markdown",
   "metadata": {},
   "source": [
    "The year and month can be extracted from Year-Month column. "
   ]
  },
  {
   "cell_type": "code",
   "execution_count": 114,
   "metadata": {},
   "outputs": [],
   "source": [
    "macro['Year']=macro['Year-Month'].str.split('-').str[0].str.strip() # Extracting year\n",
    "macro['Month']=macro['Year-Month'].str.split('-').str[1].str.strip() # Extracting month\n",
    "macro['Year']=macro['Year'].astype('int64') # Converting year to integer"
   ]
  },
  {
   "cell_type": "code",
   "execution_count": 115,
   "metadata": {},
   "outputs": [],
   "source": [
    "# Changing months to numerical representation\n",
    "macro['Month']=macro.Month.replace({'Jan':1, 'Feb':2, 'Mar':3, 'Apr':4, 'May':5, 'Jun':6, 'Jul':7, 'Aug':8, 'Sep':9,\n",
    "       'Oct':10, 'Nov':11, 'Dec':12})"
   ]
  },
  {
   "cell_type": "code",
   "execution_count": 116,
   "metadata": {},
   "outputs": [],
   "source": [
    "# Dropping unwanted column\n",
    "macro=macro.drop('Year-Month',axis=1)"
   ]
  },
  {
   "cell_type": "markdown",
   "metadata": {},
   "source": [
    "#### Exploring other features"
   ]
  },
  {
   "cell_type": "code",
   "execution_count": 117,
   "metadata": {},
   "outputs": [
    {
     "data": {
      "text/plain": [
       "Democrats    96\n",
       "Name: PartyInPower, dtype: int64"
      ]
     },
     "execution_count": 117,
     "metadata": {},
     "output_type": "execute_result"
    }
   ],
   "source": [
    "macro['PartyInPower'].value_counts()"
   ]
  },
  {
   "cell_type": "code",
   "execution_count": 118,
   "metadata": {},
   "outputs": [],
   "source": [
    "# Since all the values in macro['PartyInPower'] is same we remove the column\n",
    "macro=macro.drop('PartyInPower',axis=1)"
   ]
  },
  {
   "cell_type": "code",
   "execution_count": 119,
   "metadata": {},
   "outputs": [],
   "source": [
    "macro['AdvertisingExpenses (in Thousand Dollars)']=macro['AdvertisingExpenses (in Thousand Dollars)'].replace({'?':np.nan})"
   ]
  },
  {
   "cell_type": "code",
   "execution_count": 120,
   "metadata": {
    "scrolled": true
   },
   "outputs": [
    {
     "data": {
      "text/plain": [
       "CPI                                                                   0.000000\n",
       "unemployment rate                                                     0.000000\n",
       "CommercialBankInterestRateonCreditCardPlans                           0.000000\n",
       "Finance Rate on Personal Loans at Commercial Banks, 24 Month Loan     0.000000\n",
       "Earnings or wages  in dollars per hour                                0.000000\n",
       "AdvertisingExpenses (in Thousand Dollars)                            88.541667\n",
       "Cotton Monthly Price - US cents per Pound(lbs)                        0.000000\n",
       "Change(in%)                                                           0.000000\n",
       "Average upland planted(million acres)                                 0.000000\n",
       "Average upland harvested(million acres)                               0.000000\n",
       "yieldperharvested acre                                                0.000000\n",
       "Production (in  480-lb netweright in million bales)                   0.000000\n",
       "Mill use  (in  480-lb netweright in million bales)                    0.000000\n",
       "Exports                                                               0.000000\n",
       "GDP_Deflator                                                          0.000000\n",
       "Year                                                                  0.000000\n",
       "Month                                                                 0.000000\n",
       "dtype: float64"
      ]
     },
     "execution_count": 120,
     "metadata": {},
     "output_type": "execute_result"
    }
   ],
   "source": [
    "macro.isnull().sum()*100/macro.shape[0]\n",
    "# Since 88% of AdvertisingExpenses (in Thousand Dollars) is null we will remove that column"
   ]
  },
  {
   "cell_type": "code",
   "execution_count": 121,
   "metadata": {
    "scrolled": true
   },
   "outputs": [],
   "source": [
    "macro=macro.drop('AdvertisingExpenses (in Thousand Dollars)',axis=1)"
   ]
  },
  {
   "cell_type": "code",
   "execution_count": 135,
   "metadata": {},
   "outputs": [
    {
     "data": {
      "image/png": "[encoded data removed]",
      "text/plain": [
       "<Figure size 1080x720 with 2 Axes>"
      ]
     },
     "metadata": {
      "needs_background": "light"
     },
     "output_type": "display_data"
    }
   ],
   "source": [
    "plt.figure(figsize=(15,10))\n",
    "sns.heatmap(macro.corr(),annot=True)\n",
    "bottom, top = plt.ylim()  # return the current ylim\n",
    "plt.ylim((bottom+0.5, top-0.5))  \n",
    "plt.show()\n",
    " #There are few columns that are highly correlated to each other, this can be solved using pca.."
   ]
  },
  {
   "cell_type": "markdown",
   "metadata": {},
   "source": [
    "#### Checking the distribution of the data"
   ]
  },
  {
   "cell_type": "code",
   "execution_count": 122,
   "metadata": {},
   "outputs": [
    {
     "data": {
      "text/plain": [
       "CommercialBankInterestRateonCreditCardPlans           0.928217\n",
       "Cotton Monthly Price - US cents per Pound(lbs)        2.365885\n",
       "Average upland planted(million acres)                 0.814538\n",
       "yieldperharvested acre                                0.650709\n",
       "Mill use  (in  480-lb netweright in million bales)    0.676828\n",
       "Exports                                               1.294059\n",
       "dtype: float64"
      ]
     },
     "execution_count": 122,
     "metadata": {},
     "output_type": "execute_result"
    }
   ],
   "source": [
    "# highly skewed columns\n",
    "macro.skew()[abs(macro.skew())>0.5]"
   ]
  },
  {
   "cell_type": "code",
   "execution_count": 123,
   "metadata": {},
   "outputs": [],
   "source": [
    "a=['CommercialBankInterestRateonCreditCardPlans',\n",
    "   'Cotton Monthly Price - US cents per Pound(lbs)',\n",
    "   'Average upland planted(million acres)',\n",
    "   'yieldperharvested acre',\n",
    "   \"Mill use  (in  480-lb netweright in million bales)\",\n",
    "   'Exports']           "
   ]
  },
  {
   "cell_type": "code",
   "execution_count": 124,
   "metadata": {},
   "outputs": [
    {
     "data": {
      "image/png": "[encoded data removed]",
      "text/plain": [
       "<Figure size 432x288 with 1 Axes>"
      ]
     },
     "metadata": {
      "needs_background": "light"
     },
     "output_type": "display_data"
    },
    {
     "data": {
      "image/png": "[encoded data removed]",
      "text/plain": [
       "<Figure size 432x288 with 1 Axes>"
      ]
     },
     "metadata": {
      "needs_background": "light"
     },
     "output_type": "display_data"
    },
    {
     "data": {
      "image/png": "[encoded data removed]",
      "text/plain": [
       "<Figure size 432x288 with 1 Axes>"
      ]
     },
     "metadata": {
      "needs_background": "light"
     },
     "output_type": "display_data"
    },
    {
     "data": {
      "image/png": "[encoded data removed]",
      "text/plain": [
       "<Figure size 432x288 with 1 Axes>"
      ]
     },
     "metadata": {
      "needs_background": "light"
     },
     "output_type": "display_data"
    },
    {
     "data": {
      "image/png": "[encoded data removed]",
      "text/plain": [
       "<Figure size 432x288 with 1 Axes>"
      ]
     },
     "metadata": {
      "needs_background": "light"
     },
     "output_type": "display_data"
    },
    {
     "data": {
      "image/png": "[encoded data removed]",
      "text/plain": [
       "<Figure size 432x288 with 1 Axes>"
      ]
     },
     "metadata": {
      "needs_background": "light"
     },
     "output_type": "display_data"
    }
   ],
   "source": [
    "for i in a:\n",
    "    sns.distplot(macro[i])\n",
    "    plt.show()"
   ]
  },
  {
   "cell_type": "code",
   "execution_count": 125,
   "metadata": {},
   "outputs": [],
   "source": [
    "# To use boxcox the data must be positive, so we check if the minimum values is less than 0 or not\n",
    "for i in a:\n",
    "    if macro[i].min()<=0:\n",
    "        print(i)\n",
    "# There are no columns with negative value"
   ]
  },
  {
   "cell_type": "code",
   "execution_count": 126,
   "metadata": {},
   "outputs": [],
   "source": [
    "# Now we apply boxcox to the skewed columns\n",
    "from scipy import stats \n",
    "from scipy.stats import boxcox\n",
    "lambdas_macro={}\n",
    "for i in a:\n",
    "    macro[i],lambdas_macro[i]=stats.boxcox(macro[i])\n",
    "    "
   ]
  },
  {
   "cell_type": "code",
   "execution_count": 127,
   "metadata": {},
   "outputs": [
    {
     "data": {
      "text/plain": [
       "Series([], dtype: float64)"
      ]
     },
     "execution_count": 127,
     "metadata": {},
     "output_type": "execute_result"
    }
   ],
   "source": [
    "# Checking the skewness after boxcox \n",
    "macro.skew()[abs(macro.skew())>0.5]\n",
    "# Now there are no highly skewed columns"
   ]
  },
  {
   "cell_type": "markdown",
   "metadata": {},
   "source": [
    "### Creating test data"
   ]
  },
  {
   "cell_type": "markdown",
   "metadata": {},
   "source": [
    "We have to predict the sales year 2014 in each month under each category. So we create a dataframe consisting of 12 months with 3 categories of the year 2014."
   ]
  },
  {
   "cell_type": "code",
   "execution_count": 254,
   "metadata": {},
   "outputs": [],
   "source": [
    "test=train.copy()\n",
    "test=test[test['Year']==2013] \n",
    "test['Year']=test['Year'].replace({2013:2014})"
   ]
  },
  {
   "cell_type": "code",
   "execution_count": 255,
   "metadata": {},
   "outputs": [
    {
     "data": {
      "text/plain": [
       "(36, 5)"
      ]
     },
     "execution_count": 255,
     "metadata": {},
     "output_type": "execute_result"
    }
   ],
   "source": [
    "test.shape"
   ]
  },
  {
   "cell_type": "markdown",
   "metadata": {},
   "source": [
    "### Combining Data for train and test"
   ]
  },
  {
   "cell_type": "code",
   "execution_count": 257,
   "metadata": {},
   "outputs": [],
   "source": [
    "train_macro=pd.merge(train,macro,how='left',on=['Year','Month'])\n",
    "test_macro=pd.merge(test,macro,how='left',on=['Year','Month'])"
   ]
  },
  {
   "cell_type": "code",
   "execution_count": 258,
   "metadata": {
    "scrolled": true
   },
   "outputs": [
    {
     "data": {
      "text/plain": [
       "((180, 19), (36, 19))"
      ]
     },
     "execution_count": 258,
     "metadata": {},
     "output_type": "execute_result"
    }
   ],
   "source": [
    "train_macro.shape,test_macro.shape"
   ]
  },
  {
   "cell_type": "code",
   "execution_count": 259,
   "metadata": {},
   "outputs": [],
   "source": [
    "train_macro_weather=pd.merge(train_macro,weather_avg,how='left',on=['Month'])\n",
    "test_macro_weather=pd.merge(test_macro,weather_avg,how='left',on=['Month'])"
   ]
  },
  {
   "cell_type": "code",
   "execution_count": 260,
   "metadata": {},
   "outputs": [
    {
     "data": {
      "text/plain": [
       "((180, 26), (36, 26))"
      ]
     },
     "execution_count": 260,
     "metadata": {},
     "output_type": "execute_result"
    }
   ],
   "source": [
    "train_macro_weather.shape,test_macro_weather.shape"
   ]
  },
  {
   "cell_type": "code",
   "execution_count": 261,
   "metadata": {},
   "outputs": [],
   "source": [
    "train_macro_weather_holiday=pd.merge(train_macro_weather,holiday,how='left',on=['Year','Month'])\n",
    "test_macro_weather_holiday=pd.merge(test_macro_weather,holiday,how='left',on=['Year','Month'])"
   ]
  },
  {
   "cell_type": "code",
   "execution_count": 262,
   "metadata": {},
   "outputs": [
    {
     "data": {
      "text/plain": [
       "((180, 27), (36, 27))"
      ]
     },
     "execution_count": 262,
     "metadata": {},
     "output_type": "execute_result"
    }
   ],
   "source": [
    "train_macro_weather_holiday.shape,test_macro_weather_holiday.shape"
   ]
  },
  {
   "cell_type": "markdown",
   "metadata": {},
   "source": [
    "#### Splitting X and y and creating X_train, X_test, y_train, y_test"
   ]
  },
  {
   "cell_type": "code",
   "execution_count": 263,
   "metadata": {},
   "outputs": [],
   "source": [
    "X_train=train_macro_weather_holiday.drop('Sales(In ThousandDollars)',axis=1)\n",
    "y_train=train_macro_weather_holiday['Sales(In ThousandDollars)']\n",
    "\n",
    "X_test=test_macro_weather_holiday.drop('Sales(In ThousandDollars)',axis=1)\n",
    "y_test=test_macro_weather_holiday['Sales(In ThousandDollars)']"
   ]
  },
  {
   "cell_type": "code",
   "execution_count": 264,
   "metadata": {},
   "outputs": [
    {
     "name": "stdout",
     "output_type": "stream",
     "text": [
      "(180, 26) (36, 26) (180,) (36,)\n"
     ]
    }
   ],
   "source": [
    "print(X_train.shape,X_test.shape,y_train.shape,y_test.shape)"
   ]
  },
  {
   "cell_type": "code",
   "execution_count": 265,
   "metadata": {},
   "outputs": [
    {
     "name": "stdout",
     "output_type": "stream",
     "text": [
      "Year                                                                  0\n",
      "Month                                                                 0\n",
      "ProductCategory_OtherClothing                                         0\n",
      "ProductCategory_WomenClothing                                         0\n",
      "CPI                                                                   0\n",
      "unemployment rate                                                     0\n",
      "CommercialBankInterestRateonCreditCardPlans                           0\n",
      "Finance Rate on Personal Loans at Commercial Banks, 24 Month Loan     0\n",
      "Earnings or wages  in dollars per hour                                0\n",
      "Cotton Monthly Price - US cents per Pound(lbs)                        0\n",
      "Change(in%)                                                           0\n",
      "Average upland planted(million acres)                                 0\n",
      "Average upland harvested(million acres)                               0\n",
      "yieldperharvested acre                                                0\n",
      "Production (in  480-lb netweright in million bales)                   0\n",
      "Mill use  (in  480-lb netweright in million bales)                    0\n",
      "Exports                                                               0\n",
      "GDP_Deflator                                                          0\n",
      "Precipitation                                                         0\n",
      "Temp                                                                  0\n",
      "Dew                                                                   0\n",
      "Humidity                                                              0\n",
      "Sea Level                                                             0\n",
      "Visibility                                                            0\n",
      "Wind                                                                  0\n",
      "DayCategory_Federal Holiday                                          30\n",
      "dtype: int64 Year                                                                 0\n",
      "Month                                                                0\n",
      "ProductCategory_OtherClothing                                        0\n",
      "ProductCategory_WomenClothing                                        0\n",
      "CPI                                                                  0\n",
      "unemployment rate                                                    0\n",
      "CommercialBankInterestRateonCreditCardPlans                          0\n",
      "Finance Rate on Personal Loans at Commercial Banks, 24 Month Loan    0\n",
      "Earnings or wages  in dollars per hour                               0\n",
      "Cotton Monthly Price - US cents per Pound(lbs)                       0\n",
      "Change(in%)                                                          0\n",
      "Average upland planted(million acres)                                0\n",
      "Average upland harvested(million acres)                              0\n",
      "yieldperharvested acre                                               0\n",
      "Production (in  480-lb netweright in million bales)                  0\n",
      "Mill use  (in  480-lb netweright in million bales)                   0\n",
      "Exports                                                              0\n",
      "GDP_Deflator                                                         0\n",
      "Precipitation                                                        0\n",
      "Temp                                                                 0\n",
      "Dew                                                                  0\n",
      "Humidity                                                             0\n",
      "Sea Level                                                            0\n",
      "Visibility                                                           0\n",
      "Wind                                                                 0\n",
      "DayCategory_Federal Holiday                                          6\n",
      "dtype: int64\n"
     ]
    }
   ],
   "source": [
    "print(X_train.isnull().sum(),X_test.isnull().sum())"
   ]
  },
  {
   "cell_type": "code",
   "execution_count": 266,
   "metadata": {},
   "outputs": [],
   "source": [
    "# There are null values in Events because there are no events in the month of Aug. Hence we replace it with -1 ( Since if all becomes 0 it will imply a group/ column which have been droped) \n",
    "X_train=X_train.fillna(-1)\n",
    "X_test=X_test.fillna(-1)"
   ]
  },
  {
   "cell_type": "markdown",
   "metadata": {},
   "source": [
    "#### Standardizing the data "
   ]
  },
  {
   "cell_type": "code",
   "execution_count": 267,
   "metadata": {},
   "outputs": [],
   "source": [
    "from sklearn.preprocessing import StandardScaler\n",
    "ss=StandardScaler()\n",
    "X_train_std=pd.DataFrame(ss.fit_transform(X_train),columns=X_train.columns)\n",
    "X_test_std=pd.DataFrame(ss.transform(X_test),columns=X_test.columns)"
   ]
  },
  {
   "cell_type": "markdown",
   "metadata": {},
   "source": [
    "#### Applying PCA"
   ]
  },
  {
   "cell_type": "code",
   "execution_count": 269,
   "metadata": {
    "scrolled": true
   },
   "outputs": [
    {
     "name": "stdout",
     "output_type": "stream",
     "text": [
      "Cumulative Variance [ 27.7902995   47.80247734  61.13184448  68.53967429  74.53967471\n",
      "  80.46481102  85.77219509  88.63896082  91.04217412  93.30291197\n",
      "  95.30291211  96.65088577  97.77477518  98.5450745   99.06872363\n",
      "  99.46067923  99.60576541  99.73374808  99.82516549  99.89961173\n",
      "  99.96632256  99.9889043   99.9971239   99.9999969  100.\n",
      " 100.        ]\n"
     ]
    }
   ],
   "source": [
    "from sklearn.decomposition import PCA\n",
    "pca = PCA() # with whole data \n",
    "X_train_pca=pd.DataFrame(pca.fit_transform(X_train_std))\n",
    "X_test_pca=pd.DataFrame(pca.transform(X_test_std))\n",
    "eigenvalues = pca.explained_variance_\n",
    "tot = sum(eigenvalues)\n",
    "var_exp = [(i / tot) * 100 for i in sorted(eigenvalues, reverse = True)]\n",
    "cum_var = np.cumsum(var_exp)\n",
    "print('Cumulative Variance', cum_var)"
   ]
  },
  {
   "cell_type": "code",
   "execution_count": 270,
   "metadata": {},
   "outputs": [],
   "source": [
    "# 15 components cover over 99 % variance of the data \n",
    "from sklearn.decomposition import PCA\n",
    "pca = PCA(n_components=15)  \n",
    "X_train_pca_15=pd.DataFrame(pca.fit_transform(X_train_std))\n",
    "X_test_pca_15=pd.DataFrame(pca.transform(X_test_std))"
   ]
  },
  {
   "cell_type": "markdown",
   "metadata": {},
   "source": [
    "Now we are ready with the train and test data. We build models with the pca components. After building the basic model we do hyper parameter tuning to make the model better."
   ]
  },
  {
   "cell_type": "code",
   "execution_count": 327,
   "metadata": {},
   "outputs": [],
   "source": [
    "from sklearn.tree import DecisionTreeRegressor\n",
    "from sklearn.ensemble import RandomForestRegressor\n",
    "from sklearn.neighbors import KNeighborsRegressor\n",
    "from xgboost import XGBRegressor\n",
    "from sklearn.ensemble import GradientBoostingRegressor\n",
    "import lightgbm as lgb\n",
    "\n",
    "\n",
    "models = []\n",
    "models.append(('CART', DecisionTreeRegressor()))\n",
    "models.append(('RFC', RandomForestRegressor()))\n",
    "models.append(('KNN', KNeighborsRegressor()))\n",
    "models.append(('XGBoost', XGBRegressor()))\n",
    "models.append(('GBoost',GradientBoostingRegressor()))\n",
    "models.append(('LightGB', lgb.LGBMRegressor()))\n",
    "\n"
   ]
  },
  {
   "cell_type": "code",
   "execution_count": 363,
   "metadata": {
    "scrolled": true
   },
   "outputs": [
    {
     "data": {
      "text/plain": [
       "{'CART': '0.760456 (0.193121)',\n",
       " 'RFC': '0.877636 (0.106643)',\n",
       " 'KNN': '0.603126 (0.045630)',\n",
       " 'XGBoost': '0.883007 (0.098632)',\n",
       " 'GBoost': '0.896599 (0.110377)',\n",
       " 'LightGB': '0.840246 (0.193315)'}"
      ]
     },
     "execution_count": 363,
     "metadata": {},
     "output_type": "execute_result"
    }
   ],
   "source": [
    "from sklearn.model_selection import cross_val_score\n",
    "\n",
    "cv_scores={}\n",
    "for name, model in models:\n",
    "    cv_results = cross_val_score(model, X_train_pca_15, y_train, cv=5, scoring='r2',n_jobs=-1)\n",
    "    cv_scores[name]=\"%f (%f)\" % (cv_results.mean(), cv_results.std())\n",
    "cv_scores"
   ]
  },
  {
   "cell_type": "markdown",
   "metadata": {},
   "source": [
    "The best scores are given by Random Forest, XGBoost and  Gradient Boost model, so we apply hyperparameter tuning on these models."
   ]
  },
  {
   "cell_type": "code",
   "execution_count": 370,
   "metadata": {},
   "outputs": [],
   "source": [
    "from scipy.stats import randint as sp_randint\n",
    "best_models=[]\n",
    "\n",
    "best_models.append(('RFC', RandomForestRegressor(),{'n_estimators':sp_randint(10,50),'max_depth':sp_randint(2,12),'min_samples_split':sp_randint(2,12)}))\n",
    "best_models.append(('XGBoost', XGBRegressor(),{'learning_rate':np.linspace(0.001,1),'n_estimators':sp_randint(10,50),'max_depth':sp_randint(2,12)} ))\n",
    "best_models.append(('GBoost',GradientBoostingRegressor(),{'learning_rate':np.linspace(0.001,1),'n_estimators':sp_randint(10,50),'max_depth':sp_randint(2,12)}))\n"
   ]
  },
  {
   "cell_type": "code",
   "execution_count": 371,
   "metadata": {
    "scrolled": false
   },
   "outputs": [
    {
     "data": {
      "text/plain": [
       "{'RFC': {'max_depth': 11, 'min_samples_split': 7, 'n_estimators': 35},\n",
       " 'XGBoost': {'learning_rate': 0.24565306122448982,\n",
       "  'max_depth': 8,\n",
       "  'n_estimators': 38},\n",
       " 'GBoost': {'learning_rate': 0.3883673469387755,\n",
       "  'max_depth': 2,\n",
       "  'n_estimators': 28}}"
      ]
     },
     "execution_count": 371,
     "metadata": {},
     "output_type": "execute_result"
    }
   ],
   "source": [
    "from sklearn import model_selection \n",
    "from sklearn.model_selection import RandomizedSearchCV\n",
    "from scipy.stats import randint as sp_randint\n",
    "\n",
    "best_params={}\n",
    "for name, model,params in best_models:\n",
    "    rsearch= RandomizedSearchCV(model,param_distributions=params,cv=5,scoring='neg_mean_squared_error',n_jobs=-1)\n",
    "    rsearch.fit(X_train_pca_15, y_train)\n",
    "    best_params[name]=rsearch.best_params_\n",
    "best_params"
   ]
  },
  {
   "cell_type": "code",
   "execution_count": 372,
   "metadata": {},
   "outputs": [],
   "source": [
    "best_models_tuned=[]\n",
    "\n",
    "best_models_tuned.append(('RFC', RandomForestRegressor(**best_params['RFC'])))\n",
    "best_models_tuned.append(('XGBoost', XGBRegressor(**best_params['XGBoost'])))\n",
    "best_models_tuned.append(('GBoost',GradientBoostingRegressor(**best_params['GBoost'])))"
   ]
  },
  {
   "cell_type": "code",
   "execution_count": 374,
   "metadata": {},
   "outputs": [
    {
     "data": {
      "text/plain": [
       "{'RFC': '0.870465 (0.118925)',\n",
       " 'XGBoost': '0.934636 (0.032886)',\n",
       " 'GBoost': '0.903719 (0.083016)'}"
      ]
     },
     "execution_count": 374,
     "metadata": {},
     "output_type": "execute_result"
    }
   ],
   "source": [
    "from sklearn import model_selection \n",
    "from sklearn.model_selection import cross_val_score\n",
    "\n",
    "cv_scores={}\n",
    "for name, model in best_models_tuned:\n",
    "    cv_results = cross_val_score(model, X_train_pca_15, y_train, cv=5, scoring='r2',n_jobs=-1)\n",
    "    cv_scores[name]=\"%f (%f)\" % (cv_results.mean(), cv_results.std())\n",
    "cv_scores\n",
    "    "
   ]
  },
  {
   "cell_type": "markdown",
   "metadata": {},
   "source": [
    "We can see that the best results are given by XGBoost with hyperparameter tuning. According to The Pareto principle (also known as the 80/20 rule) roughly 80% of the effects come from 20% of the causes.So now we will try to improve the results and build a model only with features that will give the better results."
   ]
  },
  {
   "cell_type": "code",
   "execution_count": 401,
   "metadata": {},
   "outputs": [
    {
     "data": {
      "text/plain": [
       "[0.8036016048904647,\n",
       " 0.8046361438803439,\n",
       " 0.8243541925152943,\n",
       " 0.9077626760846554,\n",
       " 0.932564198282772,\n",
       " 0.9266472960082794,\n",
       " 0.9358303937870909,\n",
       " 0.9178786860161081,\n",
       " 0.9203086479659526,\n",
       " 0.920970989728741,\n",
       " 0.9216863117044836,\n",
       " 0.9205688785974923,\n",
       " 0.9209457261295704,\n",
       " 0.9209813022504154,\n",
       " 0.9204526542388256]"
      ]
     },
     "execution_count": 401,
     "metadata": {},
     "output_type": "execute_result"
    }
   ],
   "source": [
    "from sklearn.feature_selection import RFE\n",
    "\n",
    "cv_score=[]\n",
    "for  k in range(15):\n",
    "    rfe=RFE(XGBoost,n_features_to_select=k+1) # k+1 since the loop starts from 0 and we need atleast 1 column/feature to be selected.\n",
    "    cv_score.append(cross_val_score(rfe, X_train_pca_15, y_train, cv=5, scoring='r2',n_jobs=-1).mean()) \n",
    "cv_score       "
   ]
  },
  {
   "cell_type": "markdown",
   "metadata": {},
   "source": [
    "From the scores we can say that with 5 features, we can get best results. We use RFE to find what are the best features to select."
   ]
  },
  {
   "cell_type": "code",
   "execution_count": 404,
   "metadata": {
    "scrolled": true
   },
   "outputs": [
    {
     "data": {
      "text/html": [
       "<div>\n",
       "<style scoped>\n",
       "    .dataframe tbody tr th:only-of-type {\n",
       "        vertical-align: middle;\n",
       "    }\n",
       "\n",
       "    .dataframe tbody tr th {\n",
       "        vertical-align: top;\n",
       "    }\n",
       "\n",
       "    .dataframe thead th {\n",
       "        text-align: right;\n",
       "    }\n",
       "</style>\n",
       "<table border=\"1\" class=\"dataframe\">\n",
       "  <thead>\n",
       "    <tr style=\"text-align: right;\">\n",
       "      <th></th>\n",
       "      <th>select</th>\n",
       "    </tr>\n",
       "  </thead>\n",
       "  <tbody>\n",
       "    <tr>\n",
       "      <td>0</td>\n",
       "      <td>1</td>\n",
       "    </tr>\n",
       "    <tr>\n",
       "      <td>1</td>\n",
       "      <td>1</td>\n",
       "    </tr>\n",
       "    <tr>\n",
       "      <td>2</td>\n",
       "      <td>6</td>\n",
       "    </tr>\n",
       "    <tr>\n",
       "      <td>3</td>\n",
       "      <td>5</td>\n",
       "    </tr>\n",
       "    <tr>\n",
       "      <td>4</td>\n",
       "      <td>1</td>\n",
       "    </tr>\n",
       "    <tr>\n",
       "      <td>5</td>\n",
       "      <td>1</td>\n",
       "    </tr>\n",
       "    <tr>\n",
       "      <td>6</td>\n",
       "      <td>3</td>\n",
       "    </tr>\n",
       "    <tr>\n",
       "      <td>7</td>\n",
       "      <td>8</td>\n",
       "    </tr>\n",
       "    <tr>\n",
       "      <td>8</td>\n",
       "      <td>1</td>\n",
       "    </tr>\n",
       "    <tr>\n",
       "      <td>9</td>\n",
       "      <td>4</td>\n",
       "    </tr>\n",
       "    <tr>\n",
       "      <td>10</td>\n",
       "      <td>11</td>\n",
       "    </tr>\n",
       "    <tr>\n",
       "      <td>11</td>\n",
       "      <td>10</td>\n",
       "    </tr>\n",
       "    <tr>\n",
       "      <td>12</td>\n",
       "      <td>9</td>\n",
       "    </tr>\n",
       "    <tr>\n",
       "      <td>13</td>\n",
       "      <td>2</td>\n",
       "    </tr>\n",
       "    <tr>\n",
       "      <td>14</td>\n",
       "      <td>7</td>\n",
       "    </tr>\n",
       "  </tbody>\n",
       "</table>\n",
       "</div>"
      ],
      "text/plain": [
       "    select\n",
       "0        1\n",
       "1        1\n",
       "2        6\n",
       "3        5\n",
       "4        1\n",
       "5        1\n",
       "6        3\n",
       "7        8\n",
       "8        1\n",
       "9        4\n",
       "10      11\n",
       "11      10\n",
       "12       9\n",
       "13       2\n",
       "14       7"
      ]
     },
     "execution_count": 404,
     "metadata": {},
     "output_type": "execute_result"
    }
   ],
   "source": [
    "from sklearn.feature_selection import RFE\n",
    "\n",
    "rfe=RFE(XGBoost,n_features_to_select=5) # to keep 5 columns/fetures and remove the rest\n",
    "rfe.fit(X_train_pca_15,y_train) \n",
    "pd.DataFrame(rfe.ranking_,index=X_train_pca_15.columns,columns=['select'])"
   ]
  },
  {
   "cell_type": "markdown",
   "metadata": {},
   "source": [
    "The feature with rank one are the feature that we have to select namely 0,1,4,5,8. Hence we from training and testing data with only these features."
   ]
  },
  {
   "cell_type": "code",
   "execution_count": 406,
   "metadata": {},
   "outputs": [],
   "source": [
    "X_train_new=X_train_pca_15[[0,1,4,5,8]]\n",
    "X_test_new=X_test_pca_15[[0,1,4,5,8]]"
   ]
  },
  {
   "cell_type": "code",
   "execution_count": 409,
   "metadata": {
    "scrolled": false
   },
   "outputs": [
    {
     "name": "stdout",
     "output_type": "stream",
     "text": [
      "CV Score: 0.961905825794332\n"
     ]
    },
    {
     "data": {
      "text/plain": [
       "array([3059.5398 ,  567.34717, 1063.9906 , 3331.0564 ,  575.86646,\n",
       "       1129.9591 , 3275.9675 ,  601.82104, 1154.0547 , 3921.346  ,\n",
       "        723.49176, 1158.8213 , 3817.5718 ,  706.6191 , 1140.1167 ,\n",
       "       3387.3862 ,  665.48834, 1119.7646 , 3567.001  ,  720.0954 ,\n",
       "       1060.5789 , 3413.8997 ,  624.3267 , 1124.5028 , 3149.9644 ,\n",
       "        655.81494, 1000.36127, 3605.4797 ,  706.11505,  998.58405,\n",
       "       3769.152  ,  723.0139 , 1119.8271 , 4838.621  , 1106.5608 ,\n",
       "       1533.7705 ], dtype=float32)"
      ]
     },
     "execution_count": 409,
     "metadata": {},
     "output_type": "execute_result"
    }
   ],
   "source": [
    "from xgboost import XGBRegressor\n",
    "\n",
    "XGBoost = XGBRegressor()\n",
    "params= {'learning_rate':np.linspace(0.001,1),'n_estimators':sp_randint(10,100),'max_depth':sp_randint(2,20)} \n",
    "rsearch_XGBoost= RandomizedSearchCV(XGBoost,param_distributions=params,cv=5,scoring='neg_mean_squared_error',n_jobs=-1)\n",
    "rsearch_XGBoost.fit(X_train_new, y_train)\n",
    "\n",
    "\n",
    "XGBoost = XGBRegressor(**rsearch_XGBoost.best_params_)\n",
    "XGBoost.fit(X_train_new, y_train)\n",
    "y_pred_XGBoost = XGBoost.predict(X_test_new)\n",
    "\n",
    "from sklearn.model_selection import cross_val_score\n",
    "cv_score=cross_val_score(XGBoost, X_train_new, y_train, cv=5)\n",
    "print('CV Score:',cv_score.mean())\n",
    "\n",
    "y_pred_XGBoost\n"
   ]
  },
  {
   "cell_type": "code",
   "execution_count": 439,
   "metadata": {},
   "outputs": [],
   "source": [
    "# Creating dataframe for the solution.\n",
    "solution=pd.DataFrame()\n",
    "solution['Year']=test['Year']\n",
    "solution['Month']=test['Month']"
   ]
  },
  {
   "cell_type": "code",
   "execution_count": 440,
   "metadata": {},
   "outputs": [],
   "source": [
    "lt=[]\n",
    "for i in range(12):\n",
    "    for j in range(3):\n",
    "        if j==0:\n",
    "            lt.append('WomenClothing')\n",
    "        elif j==1:\n",
    "            lt.append('MenClothing')\n",
    "        else:\n",
    "            lt.append('OtherClothing')   "
   ]
  },
  {
   "cell_type": "code",
   "execution_count": 441,
   "metadata": {},
   "outputs": [
    {
     "data": {
      "text/html": [
       "<div>\n",
       "<style scoped>\n",
       "    .dataframe tbody tr th:only-of-type {\n",
       "        vertical-align: middle;\n",
       "    }\n",
       "\n",
       "    .dataframe tbody tr th {\n",
       "        vertical-align: top;\n",
       "    }\n",
       "\n",
       "    .dataframe thead th {\n",
       "        text-align: right;\n",
       "    }\n",
       "</style>\n",
       "<table border=\"1\" class=\"dataframe\">\n",
       "  <thead>\n",
       "    <tr style=\"text-align: right;\">\n",
       "      <th></th>\n",
       "      <th>Year</th>\n",
       "      <th>Month</th>\n",
       "      <th>ProductCategory</th>\n",
       "      <th>Sales(In ThousandDollars)</th>\n",
       "    </tr>\n",
       "  </thead>\n",
       "  <tbody>\n",
       "    <tr>\n",
       "      <td>144</td>\n",
       "      <td>2014</td>\n",
       "      <td>1</td>\n",
       "      <td>WomenClothing</td>\n",
       "      <td>3059.539795</td>\n",
       "    </tr>\n",
       "    <tr>\n",
       "      <td>145</td>\n",
       "      <td>2014</td>\n",
       "      <td>1</td>\n",
       "      <td>MenClothing</td>\n",
       "      <td>567.347168</td>\n",
       "    </tr>\n",
       "    <tr>\n",
       "      <td>146</td>\n",
       "      <td>2014</td>\n",
       "      <td>1</td>\n",
       "      <td>OtherClothing</td>\n",
       "      <td>1063.990601</td>\n",
       "    </tr>\n",
       "    <tr>\n",
       "      <td>147</td>\n",
       "      <td>2014</td>\n",
       "      <td>2</td>\n",
       "      <td>WomenClothing</td>\n",
       "      <td>3331.056396</td>\n",
       "    </tr>\n",
       "    <tr>\n",
       "      <td>148</td>\n",
       "      <td>2014</td>\n",
       "      <td>2</td>\n",
       "      <td>MenClothing</td>\n",
       "      <td>575.866455</td>\n",
       "    </tr>\n",
       "    <tr>\n",
       "      <td>149</td>\n",
       "      <td>2014</td>\n",
       "      <td>2</td>\n",
       "      <td>OtherClothing</td>\n",
       "      <td>1129.959106</td>\n",
       "    </tr>\n",
       "    <tr>\n",
       "      <td>150</td>\n",
       "      <td>2014</td>\n",
       "      <td>3</td>\n",
       "      <td>WomenClothing</td>\n",
       "      <td>3275.967529</td>\n",
       "    </tr>\n",
       "    <tr>\n",
       "      <td>151</td>\n",
       "      <td>2014</td>\n",
       "      <td>3</td>\n",
       "      <td>MenClothing</td>\n",
       "      <td>601.821045</td>\n",
       "    </tr>\n",
       "    <tr>\n",
       "      <td>152</td>\n",
       "      <td>2014</td>\n",
       "      <td>3</td>\n",
       "      <td>OtherClothing</td>\n",
       "      <td>1154.054688</td>\n",
       "    </tr>\n",
       "    <tr>\n",
       "      <td>153</td>\n",
       "      <td>2014</td>\n",
       "      <td>4</td>\n",
       "      <td>WomenClothing</td>\n",
       "      <td>3921.345947</td>\n",
       "    </tr>\n",
       "    <tr>\n",
       "      <td>154</td>\n",
       "      <td>2014</td>\n",
       "      <td>4</td>\n",
       "      <td>MenClothing</td>\n",
       "      <td>723.491760</td>\n",
       "    </tr>\n",
       "    <tr>\n",
       "      <td>155</td>\n",
       "      <td>2014</td>\n",
       "      <td>4</td>\n",
       "      <td>OtherClothing</td>\n",
       "      <td>1158.821289</td>\n",
       "    </tr>\n",
       "    <tr>\n",
       "      <td>156</td>\n",
       "      <td>2014</td>\n",
       "      <td>5</td>\n",
       "      <td>WomenClothing</td>\n",
       "      <td>3817.571777</td>\n",
       "    </tr>\n",
       "    <tr>\n",
       "      <td>157</td>\n",
       "      <td>2014</td>\n",
       "      <td>5</td>\n",
       "      <td>MenClothing</td>\n",
       "      <td>706.619080</td>\n",
       "    </tr>\n",
       "    <tr>\n",
       "      <td>158</td>\n",
       "      <td>2014</td>\n",
       "      <td>5</td>\n",
       "      <td>OtherClothing</td>\n",
       "      <td>1140.116699</td>\n",
       "    </tr>\n",
       "    <tr>\n",
       "      <td>159</td>\n",
       "      <td>2014</td>\n",
       "      <td>6</td>\n",
       "      <td>WomenClothing</td>\n",
       "      <td>3387.386230</td>\n",
       "    </tr>\n",
       "    <tr>\n",
       "      <td>160</td>\n",
       "      <td>2014</td>\n",
       "      <td>6</td>\n",
       "      <td>MenClothing</td>\n",
       "      <td>665.488342</td>\n",
       "    </tr>\n",
       "    <tr>\n",
       "      <td>161</td>\n",
       "      <td>2014</td>\n",
       "      <td>6</td>\n",
       "      <td>OtherClothing</td>\n",
       "      <td>1119.764648</td>\n",
       "    </tr>\n",
       "    <tr>\n",
       "      <td>162</td>\n",
       "      <td>2014</td>\n",
       "      <td>7</td>\n",
       "      <td>WomenClothing</td>\n",
       "      <td>3567.000977</td>\n",
       "    </tr>\n",
       "    <tr>\n",
       "      <td>163</td>\n",
       "      <td>2014</td>\n",
       "      <td>7</td>\n",
       "      <td>MenClothing</td>\n",
       "      <td>720.095398</td>\n",
       "    </tr>\n",
       "    <tr>\n",
       "      <td>164</td>\n",
       "      <td>2014</td>\n",
       "      <td>7</td>\n",
       "      <td>OtherClothing</td>\n",
       "      <td>1060.578857</td>\n",
       "    </tr>\n",
       "    <tr>\n",
       "      <td>165</td>\n",
       "      <td>2014</td>\n",
       "      <td>8</td>\n",
       "      <td>WomenClothing</td>\n",
       "      <td>3413.899658</td>\n",
       "    </tr>\n",
       "    <tr>\n",
       "      <td>166</td>\n",
       "      <td>2014</td>\n",
       "      <td>8</td>\n",
       "      <td>MenClothing</td>\n",
       "      <td>624.326721</td>\n",
       "    </tr>\n",
       "    <tr>\n",
       "      <td>167</td>\n",
       "      <td>2014</td>\n",
       "      <td>8</td>\n",
       "      <td>OtherClothing</td>\n",
       "      <td>1124.502808</td>\n",
       "    </tr>\n",
       "    <tr>\n",
       "      <td>168</td>\n",
       "      <td>2014</td>\n",
       "      <td>9</td>\n",
       "      <td>WomenClothing</td>\n",
       "      <td>3149.964355</td>\n",
       "    </tr>\n",
       "    <tr>\n",
       "      <td>169</td>\n",
       "      <td>2014</td>\n",
       "      <td>9</td>\n",
       "      <td>MenClothing</td>\n",
       "      <td>655.814941</td>\n",
       "    </tr>\n",
       "    <tr>\n",
       "      <td>170</td>\n",
       "      <td>2014</td>\n",
       "      <td>9</td>\n",
       "      <td>OtherClothing</td>\n",
       "      <td>1000.361267</td>\n",
       "    </tr>\n",
       "    <tr>\n",
       "      <td>171</td>\n",
       "      <td>2014</td>\n",
       "      <td>10</td>\n",
       "      <td>WomenClothing</td>\n",
       "      <td>3605.479736</td>\n",
       "    </tr>\n",
       "    <tr>\n",
       "      <td>172</td>\n",
       "      <td>2014</td>\n",
       "      <td>10</td>\n",
       "      <td>MenClothing</td>\n",
       "      <td>706.115051</td>\n",
       "    </tr>\n",
       "    <tr>\n",
       "      <td>173</td>\n",
       "      <td>2014</td>\n",
       "      <td>10</td>\n",
       "      <td>OtherClothing</td>\n",
       "      <td>998.584045</td>\n",
       "    </tr>\n",
       "    <tr>\n",
       "      <td>174</td>\n",
       "      <td>2014</td>\n",
       "      <td>11</td>\n",
       "      <td>WomenClothing</td>\n",
       "      <td>3769.152100</td>\n",
       "    </tr>\n",
       "    <tr>\n",
       "      <td>175</td>\n",
       "      <td>2014</td>\n",
       "      <td>11</td>\n",
       "      <td>MenClothing</td>\n",
       "      <td>723.013916</td>\n",
       "    </tr>\n",
       "    <tr>\n",
       "      <td>176</td>\n",
       "      <td>2014</td>\n",
       "      <td>11</td>\n",
       "      <td>OtherClothing</td>\n",
       "      <td>1119.827148</td>\n",
       "    </tr>\n",
       "    <tr>\n",
       "      <td>177</td>\n",
       "      <td>2014</td>\n",
       "      <td>12</td>\n",
       "      <td>WomenClothing</td>\n",
       "      <td>4838.621094</td>\n",
       "    </tr>\n",
       "    <tr>\n",
       "      <td>178</td>\n",
       "      <td>2014</td>\n",
       "      <td>12</td>\n",
       "      <td>MenClothing</td>\n",
       "      <td>1106.560791</td>\n",
       "    </tr>\n",
       "    <tr>\n",
       "      <td>179</td>\n",
       "      <td>2014</td>\n",
       "      <td>12</td>\n",
       "      <td>OtherClothing</td>\n",
       "      <td>1533.770508</td>\n",
       "    </tr>\n",
       "  </tbody>\n",
       "</table>\n",
       "</div>"
      ],
      "text/plain": [
       "     Year  Month ProductCategory  Sales(In ThousandDollars)\n",
       "144  2014      1   WomenClothing                3059.539795\n",
       "145  2014      1     MenClothing                 567.347168\n",
       "146  2014      1   OtherClothing                1063.990601\n",
       "147  2014      2   WomenClothing                3331.056396\n",
       "148  2014      2     MenClothing                 575.866455\n",
       "149  2014      2   OtherClothing                1129.959106\n",
       "150  2014      3   WomenClothing                3275.967529\n",
       "151  2014      3     MenClothing                 601.821045\n",
       "152  2014      3   OtherClothing                1154.054688\n",
       "153  2014      4   WomenClothing                3921.345947\n",
       "154  2014      4     MenClothing                 723.491760\n",
       "155  2014      4   OtherClothing                1158.821289\n",
       "156  2014      5   WomenClothing                3817.571777\n",
       "157  2014      5     MenClothing                 706.619080\n",
       "158  2014      5   OtherClothing                1140.116699\n",
       "159  2014      6   WomenClothing                3387.386230\n",
       "160  2014      6     MenClothing                 665.488342\n",
       "161  2014      6   OtherClothing                1119.764648\n",
       "162  2014      7   WomenClothing                3567.000977\n",
       "163  2014      7     MenClothing                 720.095398\n",
       "164  2014      7   OtherClothing                1060.578857\n",
       "165  2014      8   WomenClothing                3413.899658\n",
       "166  2014      8     MenClothing                 624.326721\n",
       "167  2014      8   OtherClothing                1124.502808\n",
       "168  2014      9   WomenClothing                3149.964355\n",
       "169  2014      9     MenClothing                 655.814941\n",
       "170  2014      9   OtherClothing                1000.361267\n",
       "171  2014     10   WomenClothing                3605.479736\n",
       "172  2014     10     MenClothing                 706.115051\n",
       "173  2014     10   OtherClothing                 998.584045\n",
       "174  2014     11   WomenClothing                3769.152100\n",
       "175  2014     11     MenClothing                 723.013916\n",
       "176  2014     11   OtherClothing                1119.827148\n",
       "177  2014     12   WomenClothing                4838.621094\n",
       "178  2014     12     MenClothing                1106.560791\n",
       "179  2014     12   OtherClothing                1533.770508"
      ]
     },
     "execution_count": 441,
     "metadata": {},
     "output_type": "execute_result"
    }
   ],
   "source": [
    "solution['ProductCategory']=lt\n",
    "solution['Sales(In ThousandDollars)']=y_pred_XGBoost\n",
    "solution"
   ]
  },
  {
   "cell_type": "markdown",
   "metadata": {},
   "source": [
    "The above data frame represents the best prediction for the sale in year 2014 for each month and each category. "
   ]
  }
 ],
 "metadata": {
  "kernelspec": {
   "display_name": "Python 3",
   "language": "python",
   "name": "python3"
  },
  "language_info": {
   "codemirror_mode": {
    "name": "ipython",
    "version": 3
   },
   "file_extension": ".py",
   "mimetype": "text/x-python",
   "name": "python",
   "nbconvert_exporter": "python",
   "pygments_lexer": "ipython3",
   "version": "3.7.4"
  }
 },
 "nbformat": 4,
 "nbformat_minor": 2
}
